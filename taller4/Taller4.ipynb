{
  "nbformat": 4,
  "nbformat_minor": 0,
  "metadata": {
    "colab": {
      "provenance": [],
      "toc_visible": true
    },
    "kernelspec": {
      "name": "python3",
      "display_name": "Python 3"
    },
    "language_info": {
      "name": "python"
    }
  },
  "cells": [
    {
      "cell_type": "markdown",
      "source": [
        "# Taller 4"
      ],
      "metadata": {
        "id": "_kkuZ7Av9Nyd"
      }
    },
    {
      "cell_type": "markdown",
      "source": [
        "Felipe Palacios,  Santiago Segura, Vihlai Maldonado"
      ],
      "metadata": {
        "id": "9wNMEoLa9Opq"
      }
    },
    {
      "cell_type": "markdown",
      "source": [
        "## Objetivo\n",
        "Evaluar las capacidades del estudiante para desplegar modelos analíticos mediante una API REST como mecanismo para disponibilizar/integrar un proceso básico de inferencia dentro de una aplicación web o móvil.\n",
        "## Planteamiento del problema\n",
        "El área de fidelización de una empresa de telecomunicaciones tiene como uno de sus objetivos disminuir la tasa de churn (abandono) por parte de sus clientes. Por esta razón, desea construir un modelo de machine learning que permita predecir si un cliente es propenso abandonar los servicios que actualmente tiene contratados con la empresa. Una vez construido, este modelo debe ser disponibilizado a través de una API REST que pueda ser consumida por la plataforma que es usada por los asesores de call center usando dicha predicción para ofrecer nuevos productos o servicios para los clientes más propensos al abandono.\n",
        "## Diccionario de datos:"
      ],
      "metadata": {
        "id": "tntzi8J99Sx_"
      }
    },
    {
      "cell_type": "markdown",
      "source": [
        "| Field            | Description                                                                                                        |\n",
        "|------------------|--------------------------------------------------------------------------------------------------------------------|\n",
        "| customerID       | Customer ID                                                                                                        |\n",
        "| gender           | Whether the customer is a male or a female                                                                         |\n",
        "| SeniorCitizen    | Whether the customer is a senior citizen or not (1, 0)                                                             |\n",
        "| Partner          | Whether the customer has a partner or not (Yes, No)                                                                |\n",
        "| Dependents       | Whether the customer has dependents or not (Yes, No)                                                               |\n",
        "| tenure           | Number of months the customer has stayed with the company                                                          |\n",
        "| PhoneService     | Whether the customer has a phone service or not (Yes, No)                                                          |\n",
        "| MultipleLines    | Whether the customer has multiple lines or not (Yes, No, No phone service)                                         |\n",
        "| InternetService  | Customer’s internet service provider (DSL, Fiber optic, No)                                                        |\n",
        "| OnlineSecurity   | Whether the customer has online security or not (Yes, No, No                                                       |\n",
        "| OnlineBackup     | Whether the customer has online backup or not (Yes, No, No internet service)                                       |\n",
        "| DeviceProtection | Whether the customer has device protection or not (Yes, No, No internet service)                                   |\n",
        "| TechSupport      | Whether the customer has tech support or not (Yes, No, No internet service)                                        |\n",
        "| StreamingTV      | Whether the customer has streaming TV or not (Yes, No, No internet service)                                        |\n",
        "| StreamingMovies  | Whether the customer has streaming movies or not (Yes, No, No internet service)                                    |\n",
        "| Contract         | The contract term of the customer (Month-to-month, One year, Two year)                                             |\n",
        "| PaperlessBilling | Whether the customer has paperless billing or not (Yes, No)                                                        |\n",
        "| PaymentMethod    | The customer’s payment method (Electronic check, Mailed check, Bank transfer (automatic), Credit card (automatic)) |\n",
        "| MonthlyCharges   | The amount charged to the customer monthly                                                                         |\n",
        "| TotalCharges     | The total amount charged to the customer                                                                           |\n",
        "| Churn            | Whether the customer churned or not (Yes or No)                                                                    "
      ],
      "metadata": {
        "id": "hbtikcbv-MW4"
      }
    },
    {
      "cell_type": "code",
      "source": [
        "!pip -q install markupsafe==2.0.1"
      ],
      "metadata": {
        "id": "9iL-mrWc9Ng0"
      },
      "execution_count": 163,
      "outputs": []
    },
    {
      "cell_type": "code",
      "execution_count": 330,
      "metadata": {
        "id": "D2h4lXSe6WLo"
      },
      "outputs": [],
      "source": [
        "import imblearn\n",
        "from imblearn.pipeline import Pipeline\n",
        "from imblearn.over_sampling import SMOTE\n",
        "\n",
        "import pandas as pd\n",
        "import missingno as msno\n",
        "from sklearn.preprocessing import StandardScaler, OneHotEncoder, PolynomialFeatures, MinMaxScaler, OrdinalEncoder, LabelEncoder\n",
        "from sklearn.model_selection import train_test_split\n",
        "\n",
        "import matplotlib.pyplot as plt\n",
        "plt.style.use(\"seaborn-deep\")\n",
        "import seaborn as sns\n",
        "from sklearn import set_config\n",
        "set_config(display=\"diagram\")\n",
        "from sklearn.compose import ColumnTransformer\n",
        "from sklearn.model_selection import train_test_split\n",
        "from sklearn.linear_model import LogisticRegression\n",
        "from sklearn.base import BaseEstimator, TransformerMixin\n",
        "from sklearn.model_selection import GridSearchCV\n",
        "import numpy as np\n",
        "from copy import deepcopy\n",
        "from sklearn.metrics import ConfusionMatrixDisplay, precision_score, recall_score, f1_score, classification_report, roc_auc_score"
      ]
    },
    {
      "cell_type": "markdown",
      "source": [
        "## Integración del proceso de transformación de datos, entrenamiento y predicción"
      ],
      "metadata": {
        "id": "vEz2jArCFAP1"
      }
    },
    {
      "cell_type": "code",
      "source": [
        "data_df = pd.read_json('https://raw.githubusercontent.com/MaldonadoVihlai/taller_cda/main/taller4/data/DataSet_Entrenamiento_v1.json')\n",
        "data_df.head()"
      ],
      "metadata": {
        "id": "G9MW1KYh6Xga",
        "colab": {
          "base_uri": "https://localhost:8080/",
          "height": 386
        },
        "outputId": "aac887b7-7370-43c8-fddc-6e9488104cf2"
      },
      "execution_count": 165,
      "outputs": [
        {
          "output_type": "execute_result",
          "data": {
            "text/plain": [
              "   customerID  gender  SeniorCitizen Partner Dependents  tenure PhoneService  \\\n",
              "0  7590-VHVEG  Female              0     Yes         No       1           No   \n",
              "1  5575-GNVDE    Male              0      No         No      34          Yes   \n",
              "2  3668-QPYBK    Male              0      No         No       2          Yes   \n",
              "3  5386-THSLQ  Female              1     Yes         No      66           No   \n",
              "4  3192-NQECA    Male              0     Yes         No      68          Yes   \n",
              "\n",
              "      MultipleLines InternetService OnlineSecurity  ... DeviceProtection  \\\n",
              "0  No phone service             DSL             No  ...               No   \n",
              "1                No             DSL            Yes  ...              Yes   \n",
              "2                No             DSL            Yes  ...               No   \n",
              "3  No phone service             DSL             No  ...              Yes   \n",
              "4               Yes     Fiber optic             No  ...              Yes   \n",
              "\n",
              "  TechSupport StreamingTV StreamingMovies        Contract PaperlessBilling  \\\n",
              "0          No          No              No  Month-to-month              Yes   \n",
              "1          No          No              No        One year               No   \n",
              "2          No          No              No  Month-to-month              Yes   \n",
              "3          No         Yes              No        One year               No   \n",
              "4         Yes         Yes             Yes        Two year              Yes   \n",
              "\n",
              "               PaymentMethod MonthlyCharges  TotalCharges Churn  \n",
              "0           Electronic check          29.85         29.85    No  \n",
              "1               Mailed check          56.95        1889.5    No  \n",
              "2               Mailed check          53.85        108.15   Yes  \n",
              "3  Bank transfer (automatic)          45.55       3027.25    No  \n",
              "4  Bank transfer (automatic)         110.00       7611.85   Yes  \n",
              "\n",
              "[5 rows x 21 columns]"
            ],
            "text/html": [
              "\n",
              "  <div id=\"df-7b8d1c89-5b86-408c-ba56-c1b3bca98d4e\">\n",
              "    <div class=\"colab-df-container\">\n",
              "      <div>\n",
              "<style scoped>\n",
              "    .dataframe tbody tr th:only-of-type {\n",
              "        vertical-align: middle;\n",
              "    }\n",
              "\n",
              "    .dataframe tbody tr th {\n",
              "        vertical-align: top;\n",
              "    }\n",
              "\n",
              "    .dataframe thead th {\n",
              "        text-align: right;\n",
              "    }\n",
              "</style>\n",
              "<table border=\"1\" class=\"dataframe\">\n",
              "  <thead>\n",
              "    <tr style=\"text-align: right;\">\n",
              "      <th></th>\n",
              "      <th>customerID</th>\n",
              "      <th>gender</th>\n",
              "      <th>SeniorCitizen</th>\n",
              "      <th>Partner</th>\n",
              "      <th>Dependents</th>\n",
              "      <th>tenure</th>\n",
              "      <th>PhoneService</th>\n",
              "      <th>MultipleLines</th>\n",
              "      <th>InternetService</th>\n",
              "      <th>OnlineSecurity</th>\n",
              "      <th>...</th>\n",
              "      <th>DeviceProtection</th>\n",
              "      <th>TechSupport</th>\n",
              "      <th>StreamingTV</th>\n",
              "      <th>StreamingMovies</th>\n",
              "      <th>Contract</th>\n",
              "      <th>PaperlessBilling</th>\n",
              "      <th>PaymentMethod</th>\n",
              "      <th>MonthlyCharges</th>\n",
              "      <th>TotalCharges</th>\n",
              "      <th>Churn</th>\n",
              "    </tr>\n",
              "  </thead>\n",
              "  <tbody>\n",
              "    <tr>\n",
              "      <th>0</th>\n",
              "      <td>7590-VHVEG</td>\n",
              "      <td>Female</td>\n",
              "      <td>0</td>\n",
              "      <td>Yes</td>\n",
              "      <td>No</td>\n",
              "      <td>1</td>\n",
              "      <td>No</td>\n",
              "      <td>No phone service</td>\n",
              "      <td>DSL</td>\n",
              "      <td>No</td>\n",
              "      <td>...</td>\n",
              "      <td>No</td>\n",
              "      <td>No</td>\n",
              "      <td>No</td>\n",
              "      <td>No</td>\n",
              "      <td>Month-to-month</td>\n",
              "      <td>Yes</td>\n",
              "      <td>Electronic check</td>\n",
              "      <td>29.85</td>\n",
              "      <td>29.85</td>\n",
              "      <td>No</td>\n",
              "    </tr>\n",
              "    <tr>\n",
              "      <th>1</th>\n",
              "      <td>5575-GNVDE</td>\n",
              "      <td>Male</td>\n",
              "      <td>0</td>\n",
              "      <td>No</td>\n",
              "      <td>No</td>\n",
              "      <td>34</td>\n",
              "      <td>Yes</td>\n",
              "      <td>No</td>\n",
              "      <td>DSL</td>\n",
              "      <td>Yes</td>\n",
              "      <td>...</td>\n",
              "      <td>Yes</td>\n",
              "      <td>No</td>\n",
              "      <td>No</td>\n",
              "      <td>No</td>\n",
              "      <td>One year</td>\n",
              "      <td>No</td>\n",
              "      <td>Mailed check</td>\n",
              "      <td>56.95</td>\n",
              "      <td>1889.5</td>\n",
              "      <td>No</td>\n",
              "    </tr>\n",
              "    <tr>\n",
              "      <th>2</th>\n",
              "      <td>3668-QPYBK</td>\n",
              "      <td>Male</td>\n",
              "      <td>0</td>\n",
              "      <td>No</td>\n",
              "      <td>No</td>\n",
              "      <td>2</td>\n",
              "      <td>Yes</td>\n",
              "      <td>No</td>\n",
              "      <td>DSL</td>\n",
              "      <td>Yes</td>\n",
              "      <td>...</td>\n",
              "      <td>No</td>\n",
              "      <td>No</td>\n",
              "      <td>No</td>\n",
              "      <td>No</td>\n",
              "      <td>Month-to-month</td>\n",
              "      <td>Yes</td>\n",
              "      <td>Mailed check</td>\n",
              "      <td>53.85</td>\n",
              "      <td>108.15</td>\n",
              "      <td>Yes</td>\n",
              "    </tr>\n",
              "    <tr>\n",
              "      <th>3</th>\n",
              "      <td>5386-THSLQ</td>\n",
              "      <td>Female</td>\n",
              "      <td>1</td>\n",
              "      <td>Yes</td>\n",
              "      <td>No</td>\n",
              "      <td>66</td>\n",
              "      <td>No</td>\n",
              "      <td>No phone service</td>\n",
              "      <td>DSL</td>\n",
              "      <td>No</td>\n",
              "      <td>...</td>\n",
              "      <td>Yes</td>\n",
              "      <td>No</td>\n",
              "      <td>Yes</td>\n",
              "      <td>No</td>\n",
              "      <td>One year</td>\n",
              "      <td>No</td>\n",
              "      <td>Bank transfer (automatic)</td>\n",
              "      <td>45.55</td>\n",
              "      <td>3027.25</td>\n",
              "      <td>No</td>\n",
              "    </tr>\n",
              "    <tr>\n",
              "      <th>4</th>\n",
              "      <td>3192-NQECA</td>\n",
              "      <td>Male</td>\n",
              "      <td>0</td>\n",
              "      <td>Yes</td>\n",
              "      <td>No</td>\n",
              "      <td>68</td>\n",
              "      <td>Yes</td>\n",
              "      <td>Yes</td>\n",
              "      <td>Fiber optic</td>\n",
              "      <td>No</td>\n",
              "      <td>...</td>\n",
              "      <td>Yes</td>\n",
              "      <td>Yes</td>\n",
              "      <td>Yes</td>\n",
              "      <td>Yes</td>\n",
              "      <td>Two year</td>\n",
              "      <td>Yes</td>\n",
              "      <td>Bank transfer (automatic)</td>\n",
              "      <td>110.00</td>\n",
              "      <td>7611.85</td>\n",
              "      <td>Yes</td>\n",
              "    </tr>\n",
              "  </tbody>\n",
              "</table>\n",
              "<p>5 rows × 21 columns</p>\n",
              "</div>\n",
              "      <button class=\"colab-df-convert\" onclick=\"convertToInteractive('df-7b8d1c89-5b86-408c-ba56-c1b3bca98d4e')\"\n",
              "              title=\"Convert this dataframe to an interactive table.\"\n",
              "              style=\"display:none;\">\n",
              "        \n",
              "  <svg xmlns=\"http://www.w3.org/2000/svg\" height=\"24px\"viewBox=\"0 0 24 24\"\n",
              "       width=\"24px\">\n",
              "    <path d=\"M0 0h24v24H0V0z\" fill=\"none\"/>\n",
              "    <path d=\"M18.56 5.44l.94 2.06.94-2.06 2.06-.94-2.06-.94-.94-2.06-.94 2.06-2.06.94zm-11 1L8.5 8.5l.94-2.06 2.06-.94-2.06-.94L8.5 2.5l-.94 2.06-2.06.94zm10 10l.94 2.06.94-2.06 2.06-.94-2.06-.94-.94-2.06-.94 2.06-2.06.94z\"/><path d=\"M17.41 7.96l-1.37-1.37c-.4-.4-.92-.59-1.43-.59-.52 0-1.04.2-1.43.59L10.3 9.45l-7.72 7.72c-.78.78-.78 2.05 0 2.83L4 21.41c.39.39.9.59 1.41.59.51 0 1.02-.2 1.41-.59l7.78-7.78 2.81-2.81c.8-.78.8-2.07 0-2.86zM5.41 20L4 18.59l7.72-7.72 1.47 1.35L5.41 20z\"/>\n",
              "  </svg>\n",
              "      </button>\n",
              "      \n",
              "  <style>\n",
              "    .colab-df-container {\n",
              "      display:flex;\n",
              "      flex-wrap:wrap;\n",
              "      gap: 12px;\n",
              "    }\n",
              "\n",
              "    .colab-df-convert {\n",
              "      background-color: #E8F0FE;\n",
              "      border: none;\n",
              "      border-radius: 50%;\n",
              "      cursor: pointer;\n",
              "      display: none;\n",
              "      fill: #1967D2;\n",
              "      height: 32px;\n",
              "      padding: 0 0 0 0;\n",
              "      width: 32px;\n",
              "    }\n",
              "\n",
              "    .colab-df-convert:hover {\n",
              "      background-color: #E2EBFA;\n",
              "      box-shadow: 0px 1px 2px rgba(60, 64, 67, 0.3), 0px 1px 3px 1px rgba(60, 64, 67, 0.15);\n",
              "      fill: #174EA6;\n",
              "    }\n",
              "\n",
              "    [theme=dark] .colab-df-convert {\n",
              "      background-color: #3B4455;\n",
              "      fill: #D2E3FC;\n",
              "    }\n",
              "\n",
              "    [theme=dark] .colab-df-convert:hover {\n",
              "      background-color: #434B5C;\n",
              "      box-shadow: 0px 1px 3px 1px rgba(0, 0, 0, 0.15);\n",
              "      filter: drop-shadow(0px 1px 2px rgba(0, 0, 0, 0.3));\n",
              "      fill: #FFFFFF;\n",
              "    }\n",
              "  </style>\n",
              "\n",
              "      <script>\n",
              "        const buttonEl =\n",
              "          document.querySelector('#df-7b8d1c89-5b86-408c-ba56-c1b3bca98d4e button.colab-df-convert');\n",
              "        buttonEl.style.display =\n",
              "          google.colab.kernel.accessAllowed ? 'block' : 'none';\n",
              "\n",
              "        async function convertToInteractive(key) {\n",
              "          const element = document.querySelector('#df-7b8d1c89-5b86-408c-ba56-c1b3bca98d4e');\n",
              "          const dataTable =\n",
              "            await google.colab.kernel.invokeFunction('convertToInteractive',\n",
              "                                                     [key], {});\n",
              "          if (!dataTable) return;\n",
              "\n",
              "          const docLinkHtml = 'Like what you see? Visit the ' +\n",
              "            '<a target=\"_blank\" href=https://colab.research.google.com/notebooks/data_table.ipynb>data table notebook</a>'\n",
              "            + ' to learn more about interactive tables.';\n",
              "          element.innerHTML = '';\n",
              "          dataTable['output_type'] = 'display_data';\n",
              "          await google.colab.output.renderOutput(dataTable, element);\n",
              "          const docLink = document.createElement('div');\n",
              "          docLink.innerHTML = docLinkHtml;\n",
              "          element.appendChild(docLink);\n",
              "        }\n",
              "      </script>\n",
              "    </div>\n",
              "  </div>\n",
              "  "
            ]
          },
          "metadata": {},
          "execution_count": 165
        }
      ]
    },
    {
      "cell_type": "markdown",
      "source": [
        "Exploración y análisis de calidad de datos"
      ],
      "metadata": {
        "id": "1e4DSidpLZVM"
      }
    },
    {
      "cell_type": "markdown",
      "source": [
        "### Registros duplicados"
      ],
      "metadata": {
        "id": "IRyNVcNjLjj-"
      }
    },
    {
      "cell_type": "code",
      "source": [
        "data_df[data_df.duplicated(keep=False)]"
      ],
      "metadata": {
        "colab": {
          "base_uri": "https://localhost:8080/",
          "height": 143
        },
        "id": "g20bRkqELbog",
        "outputId": "bdb122e7-588f-4723-aad8-10bf7d0d7432"
      },
      "execution_count": 166,
      "outputs": [
        {
          "output_type": "execute_result",
          "data": {
            "text/plain": [
              "Empty DataFrame\n",
              "Columns: [customerID, gender, SeniorCitizen, Partner, Dependents, tenure, PhoneService, MultipleLines, InternetService, OnlineSecurity, OnlineBackup, DeviceProtection, TechSupport, StreamingTV, StreamingMovies, Contract, PaperlessBilling, PaymentMethod, MonthlyCharges, TotalCharges, Churn]\n",
              "Index: []\n",
              "\n",
              "[0 rows x 21 columns]"
            ],
            "text/html": [
              "\n",
              "  <div id=\"df-39d3977d-caf6-41d8-b94f-d8ff58e7782a\">\n",
              "    <div class=\"colab-df-container\">\n",
              "      <div>\n",
              "<style scoped>\n",
              "    .dataframe tbody tr th:only-of-type {\n",
              "        vertical-align: middle;\n",
              "    }\n",
              "\n",
              "    .dataframe tbody tr th {\n",
              "        vertical-align: top;\n",
              "    }\n",
              "\n",
              "    .dataframe thead th {\n",
              "        text-align: right;\n",
              "    }\n",
              "</style>\n",
              "<table border=\"1\" class=\"dataframe\">\n",
              "  <thead>\n",
              "    <tr style=\"text-align: right;\">\n",
              "      <th></th>\n",
              "      <th>customerID</th>\n",
              "      <th>gender</th>\n",
              "      <th>SeniorCitizen</th>\n",
              "      <th>Partner</th>\n",
              "      <th>Dependents</th>\n",
              "      <th>tenure</th>\n",
              "      <th>PhoneService</th>\n",
              "      <th>MultipleLines</th>\n",
              "      <th>InternetService</th>\n",
              "      <th>OnlineSecurity</th>\n",
              "      <th>...</th>\n",
              "      <th>DeviceProtection</th>\n",
              "      <th>TechSupport</th>\n",
              "      <th>StreamingTV</th>\n",
              "      <th>StreamingMovies</th>\n",
              "      <th>Contract</th>\n",
              "      <th>PaperlessBilling</th>\n",
              "      <th>PaymentMethod</th>\n",
              "      <th>MonthlyCharges</th>\n",
              "      <th>TotalCharges</th>\n",
              "      <th>Churn</th>\n",
              "    </tr>\n",
              "  </thead>\n",
              "  <tbody>\n",
              "  </tbody>\n",
              "</table>\n",
              "<p>0 rows × 21 columns</p>\n",
              "</div>\n",
              "      <button class=\"colab-df-convert\" onclick=\"convertToInteractive('df-39d3977d-caf6-41d8-b94f-d8ff58e7782a')\"\n",
              "              title=\"Convert this dataframe to an interactive table.\"\n",
              "              style=\"display:none;\">\n",
              "        \n",
              "  <svg xmlns=\"http://www.w3.org/2000/svg\" height=\"24px\"viewBox=\"0 0 24 24\"\n",
              "       width=\"24px\">\n",
              "    <path d=\"M0 0h24v24H0V0z\" fill=\"none\"/>\n",
              "    <path d=\"M18.56 5.44l.94 2.06.94-2.06 2.06-.94-2.06-.94-.94-2.06-.94 2.06-2.06.94zm-11 1L8.5 8.5l.94-2.06 2.06-.94-2.06-.94L8.5 2.5l-.94 2.06-2.06.94zm10 10l.94 2.06.94-2.06 2.06-.94-2.06-.94-.94-2.06-.94 2.06-2.06.94z\"/><path d=\"M17.41 7.96l-1.37-1.37c-.4-.4-.92-.59-1.43-.59-.52 0-1.04.2-1.43.59L10.3 9.45l-7.72 7.72c-.78.78-.78 2.05 0 2.83L4 21.41c.39.39.9.59 1.41.59.51 0 1.02-.2 1.41-.59l7.78-7.78 2.81-2.81c.8-.78.8-2.07 0-2.86zM5.41 20L4 18.59l7.72-7.72 1.47 1.35L5.41 20z\"/>\n",
              "  </svg>\n",
              "      </button>\n",
              "      \n",
              "  <style>\n",
              "    .colab-df-container {\n",
              "      display:flex;\n",
              "      flex-wrap:wrap;\n",
              "      gap: 12px;\n",
              "    }\n",
              "\n",
              "    .colab-df-convert {\n",
              "      background-color: #E8F0FE;\n",
              "      border: none;\n",
              "      border-radius: 50%;\n",
              "      cursor: pointer;\n",
              "      display: none;\n",
              "      fill: #1967D2;\n",
              "      height: 32px;\n",
              "      padding: 0 0 0 0;\n",
              "      width: 32px;\n",
              "    }\n",
              "\n",
              "    .colab-df-convert:hover {\n",
              "      background-color: #E2EBFA;\n",
              "      box-shadow: 0px 1px 2px rgba(60, 64, 67, 0.3), 0px 1px 3px 1px rgba(60, 64, 67, 0.15);\n",
              "      fill: #174EA6;\n",
              "    }\n",
              "\n",
              "    [theme=dark] .colab-df-convert {\n",
              "      background-color: #3B4455;\n",
              "      fill: #D2E3FC;\n",
              "    }\n",
              "\n",
              "    [theme=dark] .colab-df-convert:hover {\n",
              "      background-color: #434B5C;\n",
              "      box-shadow: 0px 1px 3px 1px rgba(0, 0, 0, 0.15);\n",
              "      filter: drop-shadow(0px 1px 2px rgba(0, 0, 0, 0.3));\n",
              "      fill: #FFFFFF;\n",
              "    }\n",
              "  </style>\n",
              "\n",
              "      <script>\n",
              "        const buttonEl =\n",
              "          document.querySelector('#df-39d3977d-caf6-41d8-b94f-d8ff58e7782a button.colab-df-convert');\n",
              "        buttonEl.style.display =\n",
              "          google.colab.kernel.accessAllowed ? 'block' : 'none';\n",
              "\n",
              "        async function convertToInteractive(key) {\n",
              "          const element = document.querySelector('#df-39d3977d-caf6-41d8-b94f-d8ff58e7782a');\n",
              "          const dataTable =\n",
              "            await google.colab.kernel.invokeFunction('convertToInteractive',\n",
              "                                                     [key], {});\n",
              "          if (!dataTable) return;\n",
              "\n",
              "          const docLinkHtml = 'Like what you see? Visit the ' +\n",
              "            '<a target=\"_blank\" href=https://colab.research.google.com/notebooks/data_table.ipynb>data table notebook</a>'\n",
              "            + ' to learn more about interactive tables.';\n",
              "          element.innerHTML = '';\n",
              "          dataTable['output_type'] = 'display_data';\n",
              "          await google.colab.output.renderOutput(dataTable, element);\n",
              "          const docLink = document.createElement('div');\n",
              "          docLink.innerHTML = docLinkHtml;\n",
              "          element.appendChild(docLink);\n",
              "        }\n",
              "      </script>\n",
              "    </div>\n",
              "  </div>\n",
              "  "
            ]
          },
          "metadata": {},
          "execution_count": 166
        }
      ]
    },
    {
      "cell_type": "markdown",
      "source": [
        "Se observa que el dataset no contiene registros duplicados."
      ],
      "metadata": {
        "id": "5kK82TPGMLdO"
      }
    },
    {
      "cell_type": "markdown",
      "source": [
        "### Valores nulos"
      ],
      "metadata": {
        "id": "qKqAMknpMIii"
      }
    },
    {
      "cell_type": "code",
      "source": [
        "null_data_df = data_df[data_df.isnull().any(axis=1)]\n",
        "null_data_df"
      ],
      "metadata": {
        "colab": {
          "base_uri": "https://localhost:8080/",
          "height": 143
        },
        "id": "t4CTlwMtMKUn",
        "outputId": "35fafedc-7d40-4bdc-8f23-2dc429ecb210"
      },
      "execution_count": 167,
      "outputs": [
        {
          "output_type": "execute_result",
          "data": {
            "text/plain": [
              "Empty DataFrame\n",
              "Columns: [customerID, gender, SeniorCitizen, Partner, Dependents, tenure, PhoneService, MultipleLines, InternetService, OnlineSecurity, OnlineBackup, DeviceProtection, TechSupport, StreamingTV, StreamingMovies, Contract, PaperlessBilling, PaymentMethod, MonthlyCharges, TotalCharges, Churn]\n",
              "Index: []\n",
              "\n",
              "[0 rows x 21 columns]"
            ],
            "text/html": [
              "\n",
              "  <div id=\"df-e2a78937-673d-43d4-badf-4d08f9a0348d\">\n",
              "    <div class=\"colab-df-container\">\n",
              "      <div>\n",
              "<style scoped>\n",
              "    .dataframe tbody tr th:only-of-type {\n",
              "        vertical-align: middle;\n",
              "    }\n",
              "\n",
              "    .dataframe tbody tr th {\n",
              "        vertical-align: top;\n",
              "    }\n",
              "\n",
              "    .dataframe thead th {\n",
              "        text-align: right;\n",
              "    }\n",
              "</style>\n",
              "<table border=\"1\" class=\"dataframe\">\n",
              "  <thead>\n",
              "    <tr style=\"text-align: right;\">\n",
              "      <th></th>\n",
              "      <th>customerID</th>\n",
              "      <th>gender</th>\n",
              "      <th>SeniorCitizen</th>\n",
              "      <th>Partner</th>\n",
              "      <th>Dependents</th>\n",
              "      <th>tenure</th>\n",
              "      <th>PhoneService</th>\n",
              "      <th>MultipleLines</th>\n",
              "      <th>InternetService</th>\n",
              "      <th>OnlineSecurity</th>\n",
              "      <th>...</th>\n",
              "      <th>DeviceProtection</th>\n",
              "      <th>TechSupport</th>\n",
              "      <th>StreamingTV</th>\n",
              "      <th>StreamingMovies</th>\n",
              "      <th>Contract</th>\n",
              "      <th>PaperlessBilling</th>\n",
              "      <th>PaymentMethod</th>\n",
              "      <th>MonthlyCharges</th>\n",
              "      <th>TotalCharges</th>\n",
              "      <th>Churn</th>\n",
              "    </tr>\n",
              "  </thead>\n",
              "  <tbody>\n",
              "  </tbody>\n",
              "</table>\n",
              "<p>0 rows × 21 columns</p>\n",
              "</div>\n",
              "      <button class=\"colab-df-convert\" onclick=\"convertToInteractive('df-e2a78937-673d-43d4-badf-4d08f9a0348d')\"\n",
              "              title=\"Convert this dataframe to an interactive table.\"\n",
              "              style=\"display:none;\">\n",
              "        \n",
              "  <svg xmlns=\"http://www.w3.org/2000/svg\" height=\"24px\"viewBox=\"0 0 24 24\"\n",
              "       width=\"24px\">\n",
              "    <path d=\"M0 0h24v24H0V0z\" fill=\"none\"/>\n",
              "    <path d=\"M18.56 5.44l.94 2.06.94-2.06 2.06-.94-2.06-.94-.94-2.06-.94 2.06-2.06.94zm-11 1L8.5 8.5l.94-2.06 2.06-.94-2.06-.94L8.5 2.5l-.94 2.06-2.06.94zm10 10l.94 2.06.94-2.06 2.06-.94-2.06-.94-.94-2.06-.94 2.06-2.06.94z\"/><path d=\"M17.41 7.96l-1.37-1.37c-.4-.4-.92-.59-1.43-.59-.52 0-1.04.2-1.43.59L10.3 9.45l-7.72 7.72c-.78.78-.78 2.05 0 2.83L4 21.41c.39.39.9.59 1.41.59.51 0 1.02-.2 1.41-.59l7.78-7.78 2.81-2.81c.8-.78.8-2.07 0-2.86zM5.41 20L4 18.59l7.72-7.72 1.47 1.35L5.41 20z\"/>\n",
              "  </svg>\n",
              "      </button>\n",
              "      \n",
              "  <style>\n",
              "    .colab-df-container {\n",
              "      display:flex;\n",
              "      flex-wrap:wrap;\n",
              "      gap: 12px;\n",
              "    }\n",
              "\n",
              "    .colab-df-convert {\n",
              "      background-color: #E8F0FE;\n",
              "      border: none;\n",
              "      border-radius: 50%;\n",
              "      cursor: pointer;\n",
              "      display: none;\n",
              "      fill: #1967D2;\n",
              "      height: 32px;\n",
              "      padding: 0 0 0 0;\n",
              "      width: 32px;\n",
              "    }\n",
              "\n",
              "    .colab-df-convert:hover {\n",
              "      background-color: #E2EBFA;\n",
              "      box-shadow: 0px 1px 2px rgba(60, 64, 67, 0.3), 0px 1px 3px 1px rgba(60, 64, 67, 0.15);\n",
              "      fill: #174EA6;\n",
              "    }\n",
              "\n",
              "    [theme=dark] .colab-df-convert {\n",
              "      background-color: #3B4455;\n",
              "      fill: #D2E3FC;\n",
              "    }\n",
              "\n",
              "    [theme=dark] .colab-df-convert:hover {\n",
              "      background-color: #434B5C;\n",
              "      box-shadow: 0px 1px 3px 1px rgba(0, 0, 0, 0.15);\n",
              "      filter: drop-shadow(0px 1px 2px rgba(0, 0, 0, 0.3));\n",
              "      fill: #FFFFFF;\n",
              "    }\n",
              "  </style>\n",
              "\n",
              "      <script>\n",
              "        const buttonEl =\n",
              "          document.querySelector('#df-e2a78937-673d-43d4-badf-4d08f9a0348d button.colab-df-convert');\n",
              "        buttonEl.style.display =\n",
              "          google.colab.kernel.accessAllowed ? 'block' : 'none';\n",
              "\n",
              "        async function convertToInteractive(key) {\n",
              "          const element = document.querySelector('#df-e2a78937-673d-43d4-badf-4d08f9a0348d');\n",
              "          const dataTable =\n",
              "            await google.colab.kernel.invokeFunction('convertToInteractive',\n",
              "                                                     [key], {});\n",
              "          if (!dataTable) return;\n",
              "\n",
              "          const docLinkHtml = 'Like what you see? Visit the ' +\n",
              "            '<a target=\"_blank\" href=https://colab.research.google.com/notebooks/data_table.ipynb>data table notebook</a>'\n",
              "            + ' to learn more about interactive tables.';\n",
              "          element.innerHTML = '';\n",
              "          dataTable['output_type'] = 'display_data';\n",
              "          await google.colab.output.renderOutput(dataTable, element);\n",
              "          const docLink = document.createElement('div');\n",
              "          docLink.innerHTML = docLinkHtml;\n",
              "          element.appendChild(docLink);\n",
              "        }\n",
              "      </script>\n",
              "    </div>\n",
              "  </div>\n",
              "  "
            ]
          },
          "metadata": {},
          "execution_count": 167
        }
      ]
    },
    {
      "cell_type": "code",
      "source": [
        "msno.matrix(data_df)"
      ],
      "metadata": {
        "colab": {
          "base_uri": "https://localhost:8080/",
          "height": 719
        },
        "id": "-kpLxf-0MQZ0",
        "outputId": "bb4e31cc-9865-4ebf-f150-90e2dfac0177"
      },
      "execution_count": 168,
      "outputs": [
        {
          "output_type": "execute_result",
          "data": {
            "text/plain": [
              "<matplotlib.axes._subplots.AxesSubplot at 0x7f37e4dee5b0>"
            ]
          },
          "metadata": {},
          "execution_count": 168
        },
        {
          "output_type": "display_data",
          "data": {
            "text/plain": [
              "<Figure size 1800x720 with 2 Axes>"
            ],
            "image/png": "[encoded data removed]"
          },
          "metadata": {
            "needs_background": "light"
          }
        }
      ]
    },
    {
      "cell_type": "markdown",
      "source": [
        "El dataset no contiene registros nulos o vacíos."
      ],
      "metadata": {
        "id": "h1g8DhEy0M4c"
      }
    },
    {
      "cell_type": "code",
      "source": [
        "def plot_count_plot_percentages(data_df, column):\n",
        "  ax = sns.countplot(data=data_df, x=column, color=\"teal\")\n",
        "  ax.set(title = 'Distribución de la variable ' + column)\n",
        "  total = float(len(data_df[column]))\n",
        "  for p in ax.patches:\n",
        "      percentage = '{:.1f}%'.format(100 * p.get_height()/total)\n",
        "      x = p.get_x() + p.get_width()\n",
        "      y = p.get_height()\n",
        "      ax.annotate(percentage, (x, y),ha='center')\n",
        "  plt.show()\n",
        "def plot_hist_box(data_df, column):\n",
        "  fig, axs = plt.subplots(1, 2, figsize=(10, 5))\n",
        "  sns.histplot(data_df[column], color=\"gold\", ax=axs[0]).set(title='Histograma de ' + column)\n",
        "  sns.boxplot(data=data_df, x=column, ax=axs[1]).set(title='Box Plot de ' + column)"
      ],
      "metadata": {
        "id": "LTW6ex1idx8-"
      },
      "execution_count": 169,
      "outputs": []
    },
    {
      "cell_type": "markdown",
      "source": [
        "Variable `gender`"
      ],
      "metadata": {
        "id": "ilhWbWA8dvLl"
      }
    },
    {
      "cell_type": "code",
      "source": [
        "plot_count_plot_percentages(data_df, 'gender')"
      ],
      "metadata": {
        "colab": {
          "base_uri": "https://localhost:8080/",
          "height": 295
        },
        "id": "eIsUi3IoduIF",
        "outputId": "1e083b9a-3ebd-439e-b4c3-6523e3438079"
      },
      "execution_count": 170,
      "outputs": [
        {
          "output_type": "display_data",
          "data": {
            "text/plain": [
              "<Figure size 432x288 with 1 Axes>"
            ],
            "image/png": "[encoded data removed]"
          },
          "metadata": {
            "needs_background": "light"
          }
        }
      ]
    },
    {
      "cell_type": "markdown",
      "source": [
        "El 50.8% de los clientes son hombres."
      ],
      "metadata": {
        "id": "30ZEEtZy1Wu9"
      }
    },
    {
      "cell_type": "markdown",
      "source": [
        "Variable `SeniorCitizen`"
      ],
      "metadata": {
        "id": "71spNXqieRbv"
      }
    },
    {
      "cell_type": "code",
      "source": [
        "plot_count_plot_percentages(data_df, 'SeniorCitizen')"
      ],
      "metadata": {
        "colab": {
          "base_uri": "https://localhost:8080/",
          "height": 295
        },
        "id": "fsSQV09pdrwF",
        "outputId": "1c75e1eb-9991-4e10-bd34-7b540819ebd4"
      },
      "execution_count": 171,
      "outputs": [
        {
          "output_type": "display_data",
          "data": {
            "text/plain": [
              "<Figure size 432x288 with 1 Axes>"
            ],
            "image/png": "[encoded data removed]"
          },
          "metadata": {
            "needs_background": "light"
          }
        }
      ]
    },
    {
      "cell_type": "markdown",
      "source": [
        "El 84% de los clientes no son jubilados."
      ],
      "metadata": {
        "id": "a1KxOb_m1oEl"
      }
    },
    {
      "cell_type": "markdown",
      "source": [
        "Variable `Partner`"
      ],
      "metadata": {
        "id": "bOK50PDZeWRN"
      }
    },
    {
      "cell_type": "code",
      "source": [
        "plot_count_plot_percentages(data_df, 'Partner')"
      ],
      "metadata": {
        "colab": {
          "base_uri": "https://localhost:8080/",
          "height": 295
        },
        "id": "O3uljQX5eS_S",
        "outputId": "f4ba6505-6ecf-4e13-8211-a29860bd9058"
      },
      "execution_count": 172,
      "outputs": [
        {
          "output_type": "display_data",
          "data": {
            "text/plain": [
              "<Figure size 432x288 with 1 Axes>"
            ],
            "image/png": "[encoded data removed]"
          },
          "metadata": {
            "needs_background": "light"
          }
        }
      ]
    },
    {
      "cell_type": "markdown",
      "source": [
        "El 51.6% de los clientes no son Partner."
      ],
      "metadata": {
        "id": "F4Zso3De1w6N"
      }
    },
    {
      "cell_type": "markdown",
      "source": [
        "Variable `Dependents`"
      ],
      "metadata": {
        "id": "O-Ts3BzNebFv"
      }
    },
    {
      "cell_type": "code",
      "source": [
        "plot_count_plot_percentages(data_df, 'Dependents')"
      ],
      "metadata": {
        "colab": {
          "base_uri": "https://localhost:8080/",
          "height": 295
        },
        "id": "WHqOEh56eeFj",
        "outputId": "1c6537f7-8203-455f-8ac6-c58eceedb87b"
      },
      "execution_count": 173,
      "outputs": [
        {
          "output_type": "display_data",
          "data": {
            "text/plain": [
              "<Figure size 432x288 with 1 Axes>"
            ],
            "image/png": "[encoded data removed]"
          },
          "metadata": {
            "needs_background": "light"
          }
        }
      ]
    },
    {
      "cell_type": "markdown",
      "source": [
        "El 69.8% de los clientes no tiene dependientes."
      ],
      "metadata": {
        "id": "eTnSl7me14aY"
      }
    },
    {
      "cell_type": "markdown",
      "source": [
        "Variable `tenure`"
      ],
      "metadata": {
        "id": "ARZB-VMOegyr"
      }
    },
    {
      "cell_type": "code",
      "source": [
        "plot_hist_box(data_df, 'tenure')"
      ],
      "metadata": {
        "colab": {
          "base_uri": "https://localhost:8080/",
          "height": 350
        },
        "id": "GsHBEsY94XLv",
        "outputId": "5044d330-671b-41ee-fa8c-09d5294d20a5"
      },
      "execution_count": 227,
      "outputs": [
        {
          "output_type": "display_data",
          "data": {
            "text/plain": [
              "<Figure size 720x360 with 2 Axes>"
            ],
            "image/png": "[encoded data removed]"
          },
          "metadata": {
            "needs_background": "light"
          }
        }
      ]
    },
    {
      "cell_type": "code",
      "source": [
        "data_df['tenure'].describe()"
      ],
      "metadata": {
        "colab": {
          "base_uri": "https://localhost:8080/"
        },
        "id": "WeS14iW1487A",
        "outputId": "b1e65068-2349-45cc-b769-ebb8ad6be811"
      },
      "execution_count": 229,
      "outputs": [
        {
          "output_type": "execute_result",
          "data": {
            "text/plain": [
              "count    6000.000000\n",
              "mean       32.320667\n",
              "std        24.637296\n",
              "min         0.000000\n",
              "25%         9.000000\n",
              "50%        29.000000\n",
              "75%        56.000000\n",
              "max        72.000000\n",
              "Name: tenure, dtype: float64"
            ]
          },
          "metadata": {},
          "execution_count": 229
        }
      ]
    },
    {
      "cell_type": "markdown",
      "source": [
        "La variable se distribuye tomando valores discretos entre 0 y 72 meses. La media es de 32.3 meses y de acuerdo al diagrama de cajas la variable no presenta valores atípicos."
      ],
      "metadata": {
        "id": "EJDQ-yZ01_2t"
      }
    },
    {
      "cell_type": "markdown",
      "source": [
        "Variable `PhoneService`"
      ],
      "metadata": {
        "id": "h_N-H5tIiFKN"
      }
    },
    {
      "cell_type": "code",
      "source": [
        "plot_count_plot_percentages(data_df, 'PhoneService')"
      ],
      "metadata": {
        "colab": {
          "base_uri": "https://localhost:8080/",
          "height": 295
        },
        "id": "en06SUm_iFTb",
        "outputId": "537133c4-572a-4e9d-f6c0-2d904ef95124"
      },
      "execution_count": 175,
      "outputs": [
        {
          "output_type": "display_data",
          "data": {
            "text/plain": [
              "<Figure size 432x288 with 1 Axes>"
            ],
            "image/png": "[encoded data removed]"
          },
          "metadata": {
            "needs_background": "light"
          }
        }
      ]
    },
    {
      "cell_type": "markdown",
      "source": [
        "El 90.2% de los clientes tiene un servicio de teléfono."
      ],
      "metadata": {
        "id": "nMTpX-Dc2TU-"
      }
    },
    {
      "cell_type": "markdown",
      "source": [
        "Variable `MultipleLines`"
      ],
      "metadata": {
        "id": "QVzI9JuuiLl3"
      }
    },
    {
      "cell_type": "code",
      "source": [
        "plot_count_plot_percentages(data_df, 'MultipleLines')"
      ],
      "metadata": {
        "colab": {
          "base_uri": "https://localhost:8080/",
          "height": 295
        },
        "id": "XXWEDJ4RiOvn",
        "outputId": "3d124a54-3e71-4870-9a2b-9d36716c4f67"
      },
      "execution_count": 176,
      "outputs": [
        {
          "output_type": "display_data",
          "data": {
            "text/plain": [
              "<Figure size 432x288 with 1 Axes>"
            ],
            "image/png": "[encoded data removed]"
          },
          "metadata": {
            "needs_background": "light"
          }
        }
      ]
    },
    {
      "cell_type": "markdown",
      "source": [
        "El 48% de los usuarios no tiene múltiples líneas y el 42.1% si las tiene."
      ],
      "metadata": {
        "id": "YoLE0aCJ2YO5"
      }
    },
    {
      "cell_type": "markdown",
      "source": [
        "Variable `InternetService`"
      ],
      "metadata": {
        "id": "VYQ1WT5tiQWy"
      }
    },
    {
      "cell_type": "code",
      "source": [
        "plot_count_plot_percentages(data_df, 'InternetService')"
      ],
      "metadata": {
        "colab": {
          "base_uri": "https://localhost:8080/",
          "height": 295
        },
        "id": "xYtVgbRDiQe6",
        "outputId": "288d3281-d9b8-44bc-f7f2-a9fa9be187e7"
      },
      "execution_count": 177,
      "outputs": [
        {
          "output_type": "display_data",
          "data": {
            "text/plain": [
              "<Figure size 432x288 with 1 Axes>"
            ],
            "image/png": "[encoded data removed]"
          },
          "metadata": {
            "needs_background": "light"
          }
        }
      ]
    },
    {
      "cell_type": "markdown",
      "source": [
        "Los servicios de internet que ofrece la compañía son DSL y fibra óptica. El 34.4% de los clientes tiene un servicio de interet DSL y el 43.7% de fibra óptica."
      ],
      "metadata": {
        "id": "lUnT8LLm2kP5"
      }
    },
    {
      "cell_type": "markdown",
      "source": [
        "Variable `OnlineSecurity`"
      ],
      "metadata": {
        "id": "k3PqjRsuiWDW"
      }
    },
    {
      "cell_type": "code",
      "source": [
        "plot_count_plot_percentages(data_df, 'OnlineSecurity')"
      ],
      "metadata": {
        "colab": {
          "base_uri": "https://localhost:8080/",
          "height": 295
        },
        "id": "pEPIgRE3iZOc",
        "outputId": "142ae454-9916-470c-cb96-7f712412e5c5"
      },
      "execution_count": 178,
      "outputs": [
        {
          "output_type": "display_data",
          "data": {
            "text/plain": [
              "<Figure size 432x288 with 1 Axes>"
            ],
            "image/png": "[encoded data removed]"
          },
          "metadata": {
            "needs_background": "light"
          }
        }
      ]
    },
    {
      "cell_type": "markdown",
      "source": [
        "El servicio de seguridad online se ofece a clientes con internet, sólo el 28.7% de los clientes tienen este servicio."
      ],
      "metadata": {
        "id": "ORDPUYXp3Ph9"
      }
    },
    {
      "cell_type": "markdown",
      "source": [
        "Variable `OnlineBackup`"
      ],
      "metadata": {
        "id": "ZwYqKiohibD6"
      }
    },
    {
      "cell_type": "code",
      "source": [
        "plot_count_plot_percentages(data_df, 'OnlineBackup')"
      ],
      "metadata": {
        "colab": {
          "base_uri": "https://localhost:8080/",
          "height": 295
        },
        "id": "Tz5DKaoNibIH",
        "outputId": "3745e13f-394c-473f-dab5-387c8c84ba68"
      },
      "execution_count": 179,
      "outputs": [
        {
          "output_type": "display_data",
          "data": {
            "text/plain": [
              "<Figure size 432x288 with 1 Axes>"
            ],
            "image/png": "[encoded data removed]"
          },
          "metadata": {
            "needs_background": "light"
          }
        }
      ]
    },
    {
      "cell_type": "markdown",
      "source": [
        "El servicio de backup online se ofece a clientes con internet, sólo el 34.4% de los clientes tienen este servicio."
      ],
      "metadata": {
        "id": "mZqWGgns3X7Z"
      }
    },
    {
      "cell_type": "markdown",
      "source": [
        "Variable `DeviceProtection`"
      ],
      "metadata": {
        "id": "T23awJV7igwO"
      }
    },
    {
      "cell_type": "code",
      "source": [
        "plot_count_plot_percentages(data_df, 'DeviceProtection')"
      ],
      "metadata": {
        "colab": {
          "base_uri": "https://localhost:8080/",
          "height": 295
        },
        "id": "V5Wa4Horig0i",
        "outputId": "ce921a53-dca4-4123-fd50-516e2d17fdbe"
      },
      "execution_count": 180,
      "outputs": [
        {
          "output_type": "display_data",
          "data": {
            "text/plain": [
              "<Figure size 432x288 with 1 Axes>"
            ],
            "image/png": "[encoded data removed]"
          },
          "metadata": {
            "needs_background": "light"
          }
        }
      ]
    },
    {
      "cell_type": "markdown",
      "source": [
        "El servicio de protección de dispositivos se ofece a clientes con internet, sólo el 34.4% de los clientes tienen este servicio."
      ],
      "metadata": {
        "id": "fRDhYXMB3dsr"
      }
    },
    {
      "cell_type": "markdown",
      "source": [
        "Variable `TechSupport`"
      ],
      "metadata": {
        "id": "QZ6YVu-oikh3"
      }
    },
    {
      "cell_type": "code",
      "source": [
        "plot_count_plot_percentages(data_df, 'TechSupport')"
      ],
      "metadata": {
        "colab": {
          "base_uri": "https://localhost:8080/",
          "height": 295
        },
        "id": "RJoItOrzikm3",
        "outputId": "40f72270-e2fa-4b65-bf3b-6a814bdffff2"
      },
      "execution_count": 181,
      "outputs": [
        {
          "output_type": "display_data",
          "data": {
            "text/plain": [
              "<Figure size 432x288 with 1 Axes>"
            ],
            "image/png": "[encoded data removed]"
          },
          "metadata": {
            "needs_background": "light"
          }
        }
      ]
    },
    {
      "cell_type": "markdown",
      "source": [
        "El servicio de soporte técnico se ofece a clientes con internet, sólo el 28.9% de los clientes tienen este servicio."
      ],
      "metadata": {
        "id": "nqlltn8c3ivj"
      }
    },
    {
      "cell_type": "markdown",
      "source": [
        "Variable `StreamingTV`"
      ],
      "metadata": {
        "id": "Hx645mt1iqVw"
      }
    },
    {
      "cell_type": "code",
      "source": [
        "plot_count_plot_percentages(data_df, 'StreamingTV')"
      ],
      "metadata": {
        "colab": {
          "base_uri": "https://localhost:8080/",
          "height": 295
        },
        "id": "R3Ypx1cUiqcb",
        "outputId": "cec5ce35-e032-4aa0-8587-721b4a56c587"
      },
      "execution_count": 182,
      "outputs": [
        {
          "output_type": "display_data",
          "data": {
            "text/plain": [
              "<Figure size 432x288 with 1 Axes>"
            ],
            "image/png": "[encoded data removed]"
          },
          "metadata": {
            "needs_background": "light"
          }
        }
      ]
    },
    {
      "cell_type": "markdown",
      "source": [
        "Variable `StreamingMovies`"
      ],
      "metadata": {
        "id": "0FxqAJMJivVC"
      }
    },
    {
      "cell_type": "code",
      "source": [
        "plot_count_plot_percentages(data_df, 'StreamingMovies')"
      ],
      "metadata": {
        "colab": {
          "base_uri": "https://localhost:8080/",
          "height": 295
        },
        "id": "LJPPxBMRivZN",
        "outputId": "737538dd-2cd3-47ea-eeb3-10f3b91d5839"
      },
      "execution_count": 183,
      "outputs": [
        {
          "output_type": "display_data",
          "data": {
            "text/plain": [
              "<Figure size 432x288 with 1 Axes>"
            ],
            "image/png": "[encoded data removed]"
          },
          "metadata": {
            "needs_background": "light"
          }
        }
      ]
    },
    {
      "cell_type": "markdown",
      "source": [
        "Variable `Contract`"
      ],
      "metadata": {
        "id": "sR3gYD0Xi0Xk"
      }
    },
    {
      "cell_type": "code",
      "source": [
        "plot_count_plot_percentages(data_df, 'Contract')"
      ],
      "metadata": {
        "colab": {
          "base_uri": "https://localhost:8080/",
          "height": 295
        },
        "id": "eAHu3Jqqmp6h",
        "outputId": "95c4430a-5a25-42b0-89ee-38d9523114a7"
      },
      "execution_count": 184,
      "outputs": [
        {
          "output_type": "display_data",
          "data": {
            "text/plain": [
              "<Figure size 432x288 with 1 Axes>"
            ],
            "image/png": "[encoded data removed]"
          },
          "metadata": {
            "needs_background": "light"
          }
        }
      ]
    },
    {
      "cell_type": "markdown",
      "source": [
        "Sólo el 20.8% de los clientes tiene un contrato a 1 año."
      ],
      "metadata": {
        "id": "8-ZhXsa43qUp"
      }
    },
    {
      "cell_type": "markdown",
      "source": [
        "Variable `PaperlessBilling`"
      ],
      "metadata": {
        "id": "9tj3kqxDmtC2"
      }
    },
    {
      "cell_type": "code",
      "source": [
        "plot_count_plot_percentages(data_df, 'PaperlessBilling')"
      ],
      "metadata": {
        "colab": {
          "base_uri": "https://localhost:8080/",
          "height": 295
        },
        "id": "BkKU8dQ8i0c1",
        "outputId": "709aac07-f333-400f-ad76-8cec8fdd320d"
      },
      "execution_count": 185,
      "outputs": [
        {
          "output_type": "display_data",
          "data": {
            "text/plain": [
              "<Figure size 432x288 with 1 Axes>"
            ],
            "image/png": "[encoded data removed]"
          },
          "metadata": {
            "needs_background": "light"
          }
        }
      ]
    },
    {
      "cell_type": "markdown",
      "source": [
        "Variable `PaymentMethod`"
      ],
      "metadata": {
        "id": "bJR1Z5o3mzQW"
      }
    },
    {
      "cell_type": "code",
      "source": [
        "fig, ax = plt.subplots(figsize=(9, 5))\n",
        "plot_count_plot_percentages(data_df, 'PaymentMethod')"
      ],
      "metadata": {
        "colab": {
          "base_uri": "https://localhost:8080/",
          "height": 350
        },
        "id": "RzboqTHimzVp",
        "outputId": "3d4aa2ca-0292-4d24-ee7a-ad9fa80deaca"
      },
      "execution_count": 186,
      "outputs": [
        {
          "output_type": "display_data",
          "data": {
            "text/plain": [
              "<Figure size 648x360 with 1 Axes>"
            ],
            "image/png": "[encoded data removed]"
          },
          "metadata": {
            "needs_background": "light"
          }
        }
      ]
    },
    {
      "cell_type": "markdown",
      "source": [
        "El 33.8% de los clientes realizan pago electrónico y el 21.6% con tarjeta de crédito."
      ],
      "metadata": {
        "id": "ObtVV5ei36RS"
      }
    },
    {
      "cell_type": "markdown",
      "source": [
        "Variable `MonthlyCharges`"
      ],
      "metadata": {
        "id": "Wg5XRSNbm4UV"
      }
    },
    {
      "cell_type": "code",
      "source": [
        "plot_hist_box(data_df, 'MonthlyCharges')"
      ],
      "metadata": {
        "colab": {
          "base_uri": "https://localhost:8080/",
          "height": 350
        },
        "id": "qCtmDx3jm4ah",
        "outputId": "3cca5334-b0dd-4a40-cadd-d248e85ac80f"
      },
      "execution_count": 187,
      "outputs": [
        {
          "output_type": "display_data",
          "data": {
            "text/plain": [
              "<Figure size 720x360 with 2 Axes>"
            ],
            "image/png": "[encoded data removed]"
          },
          "metadata": {
            "needs_background": "light"
          }
        }
      ]
    },
    {
      "cell_type": "code",
      "source": [
        "data_df['MonthlyCharges'].describe()"
      ],
      "metadata": {
        "colab": {
          "base_uri": "https://localhost:8080/"
        },
        "id": "VroBh5zbzmmR",
        "outputId": "1c6cf92f-5190-4c12-cdec-7d6e74577d8e"
      },
      "execution_count": 188,
      "outputs": [
        {
          "output_type": "execute_result",
          "data": {
            "text/plain": [
              "count    6000.000000\n",
              "mean       64.607233\n",
              "std        30.195382\n",
              "min        18.250000\n",
              "25%        35.000000\n",
              "50%        70.300000\n",
              "75%        89.850000\n",
              "max       118.750000\n",
              "Name: MonthlyCharges, dtype: float64"
            ]
          },
          "metadata": {},
          "execution_count": 188
        }
      ]
    },
    {
      "cell_type": "markdown",
      "source": [
        "La variable se distribuye entre 64.6 y 118.La media es de 64.6. De acuerdo al diagrama de cajas no presenta valores atípicos. "
      ],
      "metadata": {
        "id": "hWodYTii4ag9"
      }
    },
    {
      "cell_type": "markdown",
      "source": [
        "Variable `TotalCharges`"
      ],
      "metadata": {
        "id": "zJFls1wlnBWa"
      }
    },
    {
      "cell_type": "code",
      "source": [
        "#Se aplicará una modificación al dataset sólamente para graficarlo, las transformaciones se aplican en la siguiente sección con el objeto Pipeline de sklearn\n",
        "fig, axs = plt.subplots(1, 2, figsize=(10, 5))\n",
        "sns.histplot(data_df['TotalCharges'].replace('', 0).astype(float), color=\"gold\", ax=axs[0]).set(title='Histograma de TotalCharges')\n",
        "sns.boxplot(data=data_df['TotalCharges'].replace('', 0).astype(float), ax=axs[1]).set(title='Box Plot de TotalCharges')"
      ],
      "metadata": {
        "colab": {
          "base_uri": "https://localhost:8080/",
          "height": 367
        },
        "id": "jvYs-G0hnBbh",
        "outputId": "70102864-59a1-48bd-f9de-68e8ad59814c"
      },
      "execution_count": 189,
      "outputs": [
        {
          "output_type": "execute_result",
          "data": {
            "text/plain": [
              "[Text(0.5, 1.0, 'Box Plot de TotalCharges')]"
            ]
          },
          "metadata": {},
          "execution_count": 189
        },
        {
          "output_type": "display_data",
          "data": {
            "text/plain": [
              "<Figure size 720x360 with 2 Axes>"
            ],
            "image/png": "[encoded data removed]"
          },
          "metadata": {
            "needs_background": "light"
          }
        }
      ]
    },
    {
      "cell_type": "code",
      "source": [
        "data_df['TotalCharges'].replace('', 0).describe()"
      ],
      "metadata": {
        "colab": {
          "base_uri": "https://localhost:8080/"
        },
        "id": "-uS3LhLR5OGR",
        "outputId": "805e432e-fe92-411d-cf28-e2f649542800"
      },
      "execution_count": 232,
      "outputs": [
        {
          "output_type": "execute_result",
          "data": {
            "text/plain": [
              "count    6000.000000\n",
              "mean     2278.184842\n",
              "std      2274.410916\n",
              "min         0.000000\n",
              "25%       385.812500\n",
              "50%      1389.725000\n",
              "75%      3796.912500\n",
              "max      8684.800000\n",
              "Name: TotalCharges, dtype: float64"
            ]
          },
          "metadata": {},
          "execution_count": 232
        }
      ]
    },
    {
      "cell_type": "markdown",
      "source": [
        "La variable se distribuye entre 0 y 8684.8, la media es de 2278.18. De acuerdo al diagrama de cajas no presenta valores atípicos."
      ],
      "metadata": {
        "id": "ihKmgd8Sz3v3"
      }
    },
    {
      "cell_type": "markdown",
      "source": [
        "Variable `Churn`"
      ],
      "metadata": {
        "id": "lFVRwbU2qHtK"
      }
    },
    {
      "cell_type": "code",
      "source": [
        "plot_count_plot_percentages(data_df, 'Churn')"
      ],
      "metadata": {
        "colab": {
          "base_uri": "https://localhost:8080/",
          "height": 295
        },
        "id": "jttOUDubqJnR",
        "outputId": "bf65c73f-3787-42d0-e73f-858cd1d93b65"
      },
      "execution_count": 190,
      "outputs": [
        {
          "output_type": "display_data",
          "data": {
            "text/plain": [
              "<Figure size 432x288 with 1 Axes>"
            ],
            "image/png": "[encoded data removed]"
          },
          "metadata": {
            "needs_background": "light"
          }
        }
      ]
    },
    {
      "cell_type": "markdown",
      "source": [
        "La variable objetivo es binaria, y las clases están desbalanceados, tenemos el 73.5% con **No** y sólo el 26.5% con **Si**."
      ],
      "metadata": {
        "id": "sy89fbr-615Q"
      }
    },
    {
      "cell_type": "markdown",
      "source": [
        "A continuación se define el pipeline para el procesamiento de datos."
      ],
      "metadata": {
        "id": "P21xxRsUqUyA"
      }
    },
    {
      "cell_type": "code",
      "source": [
        "data_df.columns"
      ],
      "metadata": {
        "colab": {
          "base_uri": "https://localhost:8080/"
        },
        "id": "pvQfck_k8kVl",
        "outputId": "fe0c470f-4930-4a0c-e7bb-913216f35969"
      },
      "execution_count": 192,
      "outputs": [
        {
          "output_type": "execute_result",
          "data": {
            "text/plain": [
              "Index(['customerID', 'gender', 'SeniorCitizen', 'Partner', 'Dependents',\n",
              "       'tenure', 'PhoneService', 'MultipleLines', 'InternetService',\n",
              "       'OnlineSecurity', 'OnlineBackup', 'DeviceProtection', 'TechSupport',\n",
              "       'StreamingTV', 'StreamingMovies', 'Contract', 'PaperlessBilling',\n",
              "       'PaymentMethod', 'MonthlyCharges', 'TotalCharges', 'Churn'],\n",
              "      dtype='object')"
            ]
          },
          "metadata": {},
          "execution_count": 192
        }
      ]
    },
    {
      "cell_type": "code",
      "source": [
        "class CleanTransformer(BaseEstimator, TransformerMixin):\n",
        "  # add another additional parameter, just for fun, while we are at it\n",
        "  def __init__(self, feature_name):\n",
        "    self.feature_name = feature_name\n",
        "\n",
        "  def fit(self, X, y = None):\n",
        "    return self\n",
        "\n",
        "  def transform(self, X, y = None):\n",
        "    X_ = X.copy() # creating a copy to avoid changes to original dataset\n",
        "    X_[self.feature_name] = X_[self.feature_name].replace('', 0)\n",
        "    return X_"
      ],
      "metadata": {
        "id": "ODyY09BV4MIk"
      },
      "execution_count": 233,
      "outputs": []
    },
    {
      "cell_type": "code",
      "source": [
        "#TODO: el entrenamiento es con Pipeline también? Si\n",
        "categorical_features = [\"MultipleLines\", 'InternetService',\n",
        "       'OnlineSecurity', 'OnlineBackup', 'DeviceProtection', 'TechSupport',\n",
        "       'StreamingTV', 'StreamingMovies', 'Contract', 'PaymentMethod']\n",
        "categorical_transformer = OneHotEncoder(handle_unknown=\"ignore\")\n",
        "\n",
        "x_columns_ordinal = ['gender', 'Partner', 'Dependents', 'PhoneService', 'PaperlessBilling']\n",
        "preprocessor = ColumnTransformer(\n",
        "    transformers=[\n",
        "        (\"cat\", categorical_transformer, categorical_features),\n",
        "        ('ord_encoder', OrdinalEncoder(), x_columns_ordinal),\n",
        "    ], remainder = 'passthrough'\n",
        ")\n",
        "\n",
        "x_columns = ['gender', 'SeniorCitizen', 'Partner', 'Dependents',\n",
        "       'tenure', 'PhoneService', 'MultipleLines', 'InternetService',\n",
        "       'OnlineSecurity', 'OnlineBackup', 'DeviceProtection', 'TechSupport',\n",
        "       'StreamingTV', 'StreamingMovies', 'Contract', 'PaperlessBilling',\n",
        "       'PaymentMethod', 'MonthlyCharges', 'TotalCharges']\n",
        "\n",
        "processing_pipe = Pipeline([\n",
        "    ('cleaning_column', CleanTransformer('TotalCharges')),\n",
        "    ('columnsTransformer', preprocessor),\n",
        "    (\"selector\", ColumnTransformer([(\"selector\", \"passthrough\", list(range(1,21,1)))], remainder=\"drop\")),\n",
        "    (\"scaler\", StandardScaler()),\n",
        "    # (\"classifier\", LogisticRegression())\n",
        "    ])\n",
        "\n",
        "objective_variable_pipe = Pipeline([\n",
        "    (\"selector\", ColumnTransformer([(\"selector\", \"passthrough\", [20])], remainder=\"drop\")),\n",
        "    ])\n",
        "# X_train, X_test, y_train, y_test = train_test_split(X, y, test_size=0.2, random_state=0)\n",
        "# X_train, X_test, y_train, y_test = train_test_split(X, y, test_size=0.2, random_state=0)\n",
        "\n",
        "X_train, X_test, Y_train, Y_test = train_test_split(data_df.drop('Churn', axis=1), data_df['Churn'], test_size = 0.2, random_state=1)\n",
        "X_train, X_val, Y_train, y_val= train_test_split(X_train, Y_train, test_size = 0.2, random_state=1)\n",
        "\n",
        "processing_pipe.fit(X_train)\n",
        "X_train_processed = processing_pipe.transform(X_train)\n",
        "print(X_train_processed)\n",
        "processing_pipe"
      ],
      "metadata": {
        "colab": {
          "base_uri": "https://localhost:8080/",
          "height": 553
        },
        "id": "7z4MKHbF7Qoh",
        "outputId": "5b8a5ca2-5e91-4fcd-aab8-58e5a0e3922a"
      },
      "execution_count": 387,
      "outputs": [
        {
          "output_type": "stream",
          "name": "stdout",
          "text": [
            "[[-0.33333333 -0.83164293 -0.73758318 ... -0.81826965  1.88838366\n",
            "  -0.78279483]\n",
            " [-0.33333333 -0.83164293  1.35577929 ...  1.22209103 -0.52955341\n",
            "  -0.78279483]\n",
            " [-0.33333333  1.20243913 -0.73758318 ...  1.22209103 -0.52955341\n",
            "  -0.78279483]\n",
            " ...\n",
            " [-0.33333333 -0.83164293 -0.73758318 ... -0.81826965  1.88838366\n",
            "  -0.78279483]\n",
            " [-0.33333333  1.20243913 -0.73758318 ... -0.81826965 -0.52955341\n",
            "   1.27747395]\n",
            " [-0.33333333  1.20243913 -0.73758318 ...  1.22209103 -0.52955341\n",
            "  -0.78279483]]\n"
          ]
        },
        {
          "output_type": "execute_result",
          "data": {
            "text/plain": [
              "Pipeline(steps=[('cleaning_column',\n",
              "                 CleanTransformer(feature_name='TotalCharges')),\n",
              "                ('columnsTransformer',\n",
              "                 ColumnTransformer(remainder='passthrough',\n",
              "                                   transformers=[('cat',\n",
              "                                                  OneHotEncoder(handle_unknown='ignore'),\n",
              "                                                  ['MultipleLines',\n",
              "                                                   'InternetService',\n",
              "                                                   'OnlineSecurity',\n",
              "                                                   'OnlineBackup',\n",
              "                                                   'DeviceProtection',\n",
              "                                                   'TechSupport', 'StreamingTV',\n",
              "                                                   'StreamingMovies',\n",
              "                                                   'Contract',\n",
              "                                                   'PaymentMethod']),\n",
              "                                                 ('ord_encoder',\n",
              "                                                  OrdinalEncoder(),\n",
              "                                                  ['gender', 'Partner',\n",
              "                                                   'Dependents', 'PhoneService',\n",
              "                                                   'PaperlessBilling'])])),\n",
              "                ('selector',\n",
              "                 ColumnTransformer(transformers=[('selector', 'passthrough',\n",
              "                                                  [1, 2, 3, 4, 5, 6, 7, 8, 9,\n",
              "                                                   10, 11, 12, 13, 14, 15, 16,\n",
              "                                                   17, 18, 19, 20])])),\n",
              "                ('scaler', StandardScaler())])"
            ],
            "text/html": [
              "<style>#sk-1758fc61-7e10-4bca-8218-c7579e3cd686 {color: black;background-color: white;}#sk-1758fc61-7e10-4bca-8218-c7579e3cd686 pre{padding: 0;}#sk-1758fc61-7e10-4bca-8218-c7579e3cd686 div.sk-toggleable {background-color: white;}#sk-1758fc61-7e10-4bca-8218-c7579e3cd686 label.sk-toggleable__label {cursor: pointer;display: block;width: 100%;margin-bottom: 0;padding: 0.3em;box-sizing: border-box;text-align: center;}#sk-1758fc61-7e10-4bca-8218-c7579e3cd686 label.sk-toggleable__label-arrow:before {content: \"▸\";float: left;margin-right: 0.25em;color: #696969;}#sk-1758fc61-7e10-4bca-8218-c7579e3cd686 label.sk-toggleable__label-arrow:hover:before {color: black;}#sk-1758fc61-7e10-4bca-8218-c7579e3cd686 div.sk-estimator:hover label.sk-toggleable__label-arrow:before {color: black;}#sk-1758fc61-7e10-4bca-8218-c7579e3cd686 div.sk-toggleable__content {max-height: 0;max-width: 0;overflow: hidden;text-align: left;background-color: #f0f8ff;}#sk-1758fc61-7e10-4bca-8218-c7579e3cd686 div.sk-toggleable__content pre {margin: 0.2em;color: black;border-radius: 0.25em;background-color: #f0f8ff;}#sk-1758fc61-7e10-4bca-8218-c7579e3cd686 input.sk-toggleable__control:checked~div.sk-toggleable__content {max-height: 200px;max-width: 100%;overflow: auto;}#sk-1758fc61-7e10-4bca-8218-c7579e3cd686 input.sk-toggleable__control:checked~label.sk-toggleable__label-arrow:before {content: \"▾\";}#sk-1758fc61-7e10-4bca-8218-c7579e3cd686 div.sk-estimator input.sk-toggleable__control:checked~label.sk-toggleable__label {background-color: #d4ebff;}#sk-1758fc61-7e10-4bca-8218-c7579e3cd686 div.sk-label input.sk-toggleable__control:checked~label.sk-toggleable__label {background-color: #d4ebff;}#sk-1758fc61-7e10-4bca-8218-c7579e3cd686 input.sk-hidden--visually {border: 0;clip: rect(1px 1px 1px 1px);clip: rect(1px, 1px, 1px, 1px);height: 1px;margin: -1px;overflow: hidden;padding: 0;position: absolute;width: 1px;}#sk-1758fc61-7e10-4bca-8218-c7579e3cd686 div.sk-estimator {font-family: monospace;background-color: #f0f8ff;border: 1px dotted black;border-radius: 0.25em;box-sizing: border-box;margin-bottom: 0.5em;}#sk-1758fc61-7e10-4bca-8218-c7579e3cd686 div.sk-estimator:hover {background-color: #d4ebff;}#sk-1758fc61-7e10-4bca-8218-c7579e3cd686 div.sk-parallel-item::after {content: \"\";width: 100%;border-bottom: 1px solid gray;flex-grow: 1;}#sk-1758fc61-7e10-4bca-8218-c7579e3cd686 div.sk-label:hover label.sk-toggleable__label {background-color: #d4ebff;}#sk-1758fc61-7e10-4bca-8218-c7579e3cd686 div.sk-serial::before {content: \"\";position: absolute;border-left: 1px solid gray;box-sizing: border-box;top: 2em;bottom: 0;left: 50%;}#sk-1758fc61-7e10-4bca-8218-c7579e3cd686 div.sk-serial {display: flex;flex-direction: column;align-items: center;background-color: white;padding-right: 0.2em;padding-left: 0.2em;}#sk-1758fc61-7e10-4bca-8218-c7579e3cd686 div.sk-item {z-index: 1;}#sk-1758fc61-7e10-4bca-8218-c7579e3cd686 div.sk-parallel {display: flex;align-items: stretch;justify-content: center;background-color: white;}#sk-1758fc61-7e10-4bca-8218-c7579e3cd686 div.sk-parallel::before {content: \"\";position: absolute;border-left: 1px solid gray;box-sizing: border-box;top: 2em;bottom: 0;left: 50%;}#sk-1758fc61-7e10-4bca-8218-c7579e3cd686 div.sk-parallel-item {display: flex;flex-direction: column;position: relative;background-color: white;}#sk-1758fc61-7e10-4bca-8218-c7579e3cd686 div.sk-parallel-item:first-child::after {align-self: flex-end;width: 50%;}#sk-1758fc61-7e10-4bca-8218-c7579e3cd686 div.sk-parallel-item:last-child::after {align-self: flex-start;width: 50%;}#sk-1758fc61-7e10-4bca-8218-c7579e3cd686 div.sk-parallel-item:only-child::after {width: 0;}#sk-1758fc61-7e10-4bca-8218-c7579e3cd686 div.sk-dashed-wrapped {border: 1px dashed gray;margin: 0 0.4em 0.5em 0.4em;box-sizing: border-box;padding-bottom: 0.4em;background-color: white;position: relative;}#sk-1758fc61-7e10-4bca-8218-c7579e3cd686 div.sk-label label {font-family: monospace;font-weight: bold;background-color: white;display: inline-block;line-height: 1.2em;}#sk-1758fc61-7e10-4bca-8218-c7579e3cd686 div.sk-label-container {position: relative;z-index: 2;text-align: center;}#sk-1758fc61-7e10-4bca-8218-c7579e3cd686 div.sk-container {/* jupyter's `normalize.less` sets `[hidden] { display: none; }` but bootstrap.min.css set `[hidden] { display: none !important; }` so we also need the `!important` here to be able to override the default hidden behavior on the sphinx rendered scikit-learn.org. See: https://github.com/scikit-learn/scikit-learn/issues/21755 */display: inline-block !important;position: relative;}#sk-1758fc61-7e10-4bca-8218-c7579e3cd686 div.sk-text-repr-fallback {display: none;}</style><div id=\"sk-1758fc61-7e10-4bca-8218-c7579e3cd686\" class=\"sk-top-container\"><div class=\"sk-text-repr-fallback\"><pre>Pipeline(steps=[(&#x27;cleaning_column&#x27;,\n",
              "                 CleanTransformer(feature_name=&#x27;TotalCharges&#x27;)),\n",
              "                (&#x27;columnsTransformer&#x27;,\n",
              "                 ColumnTransformer(remainder=&#x27;passthrough&#x27;,\n",
              "                                   transformers=[(&#x27;cat&#x27;,\n",
              "                                                  OneHotEncoder(handle_unknown=&#x27;ignore&#x27;),\n",
              "                                                  [&#x27;MultipleLines&#x27;,\n",
              "                                                   &#x27;InternetService&#x27;,\n",
              "                                                   &#x27;OnlineSecurity&#x27;,\n",
              "                                                   &#x27;OnlineBackup&#x27;,\n",
              "                                                   &#x27;DeviceProtection&#x27;,\n",
              "                                                   &#x27;TechSupport&#x27;, &#x27;StreamingTV&#x27;,\n",
              "                                                   &#x27;StreamingMovies&#x27;,\n",
              "                                                   &#x27;Contract&#x27;,\n",
              "                                                   &#x27;PaymentMethod&#x27;]),\n",
              "                                                 (&#x27;ord_encoder&#x27;,\n",
              "                                                  OrdinalEncoder(),\n",
              "                                                  [&#x27;gender&#x27;, &#x27;Partner&#x27;,\n",
              "                                                   &#x27;Dependents&#x27;, &#x27;PhoneService&#x27;,\n",
              "                                                   &#x27;PaperlessBilling&#x27;])])),\n",
              "                (&#x27;selector&#x27;,\n",
              "                 ColumnTransformer(transformers=[(&#x27;selector&#x27;, &#x27;passthrough&#x27;,\n",
              "                                                  [1, 2, 3, 4, 5, 6, 7, 8, 9,\n",
              "                                                   10, 11, 12, 13, 14, 15, 16,\n",
              "                                                   17, 18, 19, 20])])),\n",
              "                (&#x27;scaler&#x27;, StandardScaler())])</pre><b>Please rerun this cell to show the HTML repr or trust the notebook.</b></div><div class=\"sk-container\" hidden><div class=\"sk-item sk-dashed-wrapped\"><div class=\"sk-label-container\"><div class=\"sk-label sk-toggleable\"><input class=\"sk-toggleable__control sk-hidden--visually\" id=\"b1bd897a-ca1d-4007-a9a9-0546792dae22\" type=\"checkbox\" ><label for=\"b1bd897a-ca1d-4007-a9a9-0546792dae22\" class=\"sk-toggleable__label sk-toggleable__label-arrow\">Pipeline</label><div class=\"sk-toggleable__content\"><pre>Pipeline(steps=[(&#x27;cleaning_column&#x27;,\n",
              "                 CleanTransformer(feature_name=&#x27;TotalCharges&#x27;)),\n",
              "                (&#x27;columnsTransformer&#x27;,\n",
              "                 ColumnTransformer(remainder=&#x27;passthrough&#x27;,\n",
              "                                   transformers=[(&#x27;cat&#x27;,\n",
              "                                                  OneHotEncoder(handle_unknown=&#x27;ignore&#x27;),\n",
              "                                                  [&#x27;MultipleLines&#x27;,\n",
              "                                                   &#x27;InternetService&#x27;,\n",
              "                                                   &#x27;OnlineSecurity&#x27;,\n",
              "                                                   &#x27;OnlineBackup&#x27;,\n",
              "                                                   &#x27;DeviceProtection&#x27;,\n",
              "                                                   &#x27;TechSupport&#x27;, &#x27;StreamingTV&#x27;,\n",
              "                                                   &#x27;StreamingMovies&#x27;,\n",
              "                                                   &#x27;Contract&#x27;,\n",
              "                                                   &#x27;PaymentMethod&#x27;]),\n",
              "                                                 (&#x27;ord_encoder&#x27;,\n",
              "                                                  OrdinalEncoder(),\n",
              "                                                  [&#x27;gender&#x27;, &#x27;Partner&#x27;,\n",
              "                                                   &#x27;Dependents&#x27;, &#x27;PhoneService&#x27;,\n",
              "                                                   &#x27;PaperlessBilling&#x27;])])),\n",
              "                (&#x27;selector&#x27;,\n",
              "                 ColumnTransformer(transformers=[(&#x27;selector&#x27;, &#x27;passthrough&#x27;,\n",
              "                                                  [1, 2, 3, 4, 5, 6, 7, 8, 9,\n",
              "                                                   10, 11, 12, 13, 14, 15, 16,\n",
              "                                                   17, 18, 19, 20])])),\n",
              "                (&#x27;scaler&#x27;, StandardScaler())])</pre></div></div></div><div class=\"sk-serial\"><div class=\"sk-item\"><div class=\"sk-estimator sk-toggleable\"><input class=\"sk-toggleable__control sk-hidden--visually\" id=\"ad078280-b91c-427b-ab0e-a1e221ad3def\" type=\"checkbox\" ><label for=\"ad078280-b91c-427b-ab0e-a1e221ad3def\" class=\"sk-toggleable__label sk-toggleable__label-arrow\">CleanTransformer</label><div class=\"sk-toggleable__content\"><pre>CleanTransformer(feature_name=&#x27;TotalCharges&#x27;)</pre></div></div></div><div class=\"sk-item sk-dashed-wrapped\"><div class=\"sk-label-container\"><div class=\"sk-label sk-toggleable\"><input class=\"sk-toggleable__control sk-hidden--visually\" id=\"4667391c-de49-4ba2-9c99-096dbc512900\" type=\"checkbox\" ><label for=\"4667391c-de49-4ba2-9c99-096dbc512900\" class=\"sk-toggleable__label sk-toggleable__label-arrow\">columnsTransformer: ColumnTransformer</label><div class=\"sk-toggleable__content\"><pre>ColumnTransformer(remainder=&#x27;passthrough&#x27;,\n",
              "                  transformers=[(&#x27;cat&#x27;, OneHotEncoder(handle_unknown=&#x27;ignore&#x27;),\n",
              "                                 [&#x27;MultipleLines&#x27;, &#x27;InternetService&#x27;,\n",
              "                                  &#x27;OnlineSecurity&#x27;, &#x27;OnlineBackup&#x27;,\n",
              "                                  &#x27;DeviceProtection&#x27;, &#x27;TechSupport&#x27;,\n",
              "                                  &#x27;StreamingTV&#x27;, &#x27;StreamingMovies&#x27;, &#x27;Contract&#x27;,\n",
              "                                  &#x27;PaymentMethod&#x27;]),\n",
              "                                (&#x27;ord_encoder&#x27;, OrdinalEncoder(),\n",
              "                                 [&#x27;gender&#x27;, &#x27;Partner&#x27;, &#x27;Dependents&#x27;,\n",
              "                                  &#x27;PhoneService&#x27;, &#x27;PaperlessBilling&#x27;])])</pre></div></div></div><div class=\"sk-parallel\"><div class=\"sk-parallel-item\"><div class=\"sk-item\"><div class=\"sk-label-container\"><div class=\"sk-label sk-toggleable\"><input class=\"sk-toggleable__control sk-hidden--visually\" id=\"746309c5-07ee-4731-aa67-81b3a861dd77\" type=\"checkbox\" ><label for=\"746309c5-07ee-4731-aa67-81b3a861dd77\" class=\"sk-toggleable__label sk-toggleable__label-arrow\">cat</label><div class=\"sk-toggleable__content\"><pre>[&#x27;MultipleLines&#x27;, &#x27;InternetService&#x27;, &#x27;OnlineSecurity&#x27;, &#x27;OnlineBackup&#x27;, &#x27;DeviceProtection&#x27;, &#x27;TechSupport&#x27;, &#x27;StreamingTV&#x27;, &#x27;StreamingMovies&#x27;, &#x27;Contract&#x27;, &#x27;PaymentMethod&#x27;]</pre></div></div></div><div class=\"sk-serial\"><div class=\"sk-item\"><div class=\"sk-estimator sk-toggleable\"><input class=\"sk-toggleable__control sk-hidden--visually\" id=\"031b2cd1-d4e1-4a4c-9998-b5553e68623c\" type=\"checkbox\" ><label for=\"031b2cd1-d4e1-4a4c-9998-b5553e68623c\" class=\"sk-toggleable__label sk-toggleable__label-arrow\">OneHotEncoder</label><div class=\"sk-toggleable__content\"><pre>OneHotEncoder(handle_unknown=&#x27;ignore&#x27;)</pre></div></div></div></div></div></div><div class=\"sk-parallel-item\"><div class=\"sk-item\"><div class=\"sk-label-container\"><div class=\"sk-label sk-toggleable\"><input class=\"sk-toggleable__control sk-hidden--visually\" id=\"99ddc1e2-5ab0-48aa-93bb-9e4955ecd0ba\" type=\"checkbox\" ><label for=\"99ddc1e2-5ab0-48aa-93bb-9e4955ecd0ba\" class=\"sk-toggleable__label sk-toggleable__label-arrow\">ord_encoder</label><div class=\"sk-toggleable__content\"><pre>[&#x27;gender&#x27;, &#x27;Partner&#x27;, &#x27;Dependents&#x27;, &#x27;PhoneService&#x27;, &#x27;PaperlessBilling&#x27;]</pre></div></div></div><div class=\"sk-serial\"><div class=\"sk-item\"><div class=\"sk-estimator sk-toggleable\"><input class=\"sk-toggleable__control sk-hidden--visually\" id=\"28353f5c-b18f-496a-9241-2014d6552a43\" type=\"checkbox\" ><label for=\"28353f5c-b18f-496a-9241-2014d6552a43\" class=\"sk-toggleable__label sk-toggleable__label-arrow\">OrdinalEncoder</label><div class=\"sk-toggleable__content\"><pre>OrdinalEncoder()</pre></div></div></div></div></div></div><div class=\"sk-parallel-item\"><div class=\"sk-item\"><div class=\"sk-label-container\"><div class=\"sk-label sk-toggleable\"><input class=\"sk-toggleable__control sk-hidden--visually\" id=\"d7734c2b-4fd7-4d9a-a455-586cc2ad2bac\" type=\"checkbox\" ><label for=\"d7734c2b-4fd7-4d9a-a455-586cc2ad2bac\" class=\"sk-toggleable__label sk-toggleable__label-arrow\">remainder</label><div class=\"sk-toggleable__content\"><pre>[&#x27;customerID&#x27;, &#x27;SeniorCitizen&#x27;, &#x27;tenure&#x27;, &#x27;MonthlyCharges&#x27;, &#x27;TotalCharges&#x27;]</pre></div></div></div><div class=\"sk-serial\"><div class=\"sk-item\"><div class=\"sk-estimator sk-toggleable\"><input class=\"sk-toggleable__control sk-hidden--visually\" id=\"1f839e21-c640-4368-9b4d-b816c9fdef10\" type=\"checkbox\" ><label for=\"1f839e21-c640-4368-9b4d-b816c9fdef10\" class=\"sk-toggleable__label sk-toggleable__label-arrow\">passthrough</label><div class=\"sk-toggleable__content\"><pre>passthrough</pre></div></div></div></div></div></div></div></div><div class=\"sk-item sk-dashed-wrapped\"><div class=\"sk-label-container\"><div class=\"sk-label sk-toggleable\"><input class=\"sk-toggleable__control sk-hidden--visually\" id=\"2802662e-3f48-4316-b086-097f51c7b450\" type=\"checkbox\" ><label for=\"2802662e-3f48-4316-b086-097f51c7b450\" class=\"sk-toggleable__label sk-toggleable__label-arrow\">selector: ColumnTransformer</label><div class=\"sk-toggleable__content\"><pre>ColumnTransformer(transformers=[(&#x27;selector&#x27;, &#x27;passthrough&#x27;,\n",
              "                                 [1, 2, 3, 4, 5, 6, 7, 8, 9, 10, 11, 12, 13, 14,\n",
              "                                  15, 16, 17, 18, 19, 20])])</pre></div></div></div><div class=\"sk-parallel\"><div class=\"sk-parallel-item\"><div class=\"sk-item\"><div class=\"sk-label-container\"><div class=\"sk-label sk-toggleable\"><input class=\"sk-toggleable__control sk-hidden--visually\" id=\"0d6a9bf4-0d47-4bfc-a28b-4805a7b8e77c\" type=\"checkbox\" ><label for=\"0d6a9bf4-0d47-4bfc-a28b-4805a7b8e77c\" class=\"sk-toggleable__label sk-toggleable__label-arrow\">selector</label><div class=\"sk-toggleable__content\"><pre>[1, 2, 3, 4, 5, 6, 7, 8, 9, 10, 11, 12, 13, 14, 15, 16, 17, 18, 19, 20]</pre></div></div></div><div class=\"sk-serial\"><div class=\"sk-item\"><div class=\"sk-estimator sk-toggleable\"><input class=\"sk-toggleable__control sk-hidden--visually\" id=\"878fcb46-54aa-4b23-9dee-8b4ddaa557e2\" type=\"checkbox\" ><label for=\"878fcb46-54aa-4b23-9dee-8b4ddaa557e2\" class=\"sk-toggleable__label sk-toggleable__label-arrow\">passthrough</label><div class=\"sk-toggleable__content\"><pre>passthrough</pre></div></div></div></div></div></div></div></div><div class=\"sk-item\"><div class=\"sk-estimator sk-toggleable\"><input class=\"sk-toggleable__control sk-hidden--visually\" id=\"004b0a64-33fa-47af-93b4-9b3d0da8fb47\" type=\"checkbox\" ><label for=\"004b0a64-33fa-47af-93b4-9b3d0da8fb47\" class=\"sk-toggleable__label sk-toggleable__label-arrow\">StandardScaler</label><div class=\"sk-toggleable__content\"><pre>StandardScaler()</pre></div></div></div></div></div></div></div>"
            ]
          },
          "metadata": {},
          "execution_count": 387
        }
      ]
    },
    {
      "cell_type": "code",
      "source": [
        "#Aplicamos la transformación a la variable y:\n",
        "class TransformNumericTransformer(BaseEstimator, TransformerMixin):\n",
        "  def fit(self, X, y = None):\n",
        "    return self\n",
        "\n",
        "  def transform(self, X, y = None):\n",
        "    X_ = X.copy()\n",
        "    X_ = X_.replace({'Yes':1, 'No':0})\n",
        "    return X_\n",
        "transform_numeric_pipe = Pipeline([\n",
        "    ('cleaning_column', TransformNumericTransformer())\n",
        "])\n",
        "Y_train = transform_numeric_pipe.transform(Y_train)\n",
        "y_val = transform_numeric_pipe.transform(y_val)\n",
        "Y_test = transform_numeric_pipe.transform(Y_test)"
      ],
      "metadata": {
        "id": "jlk1qyzTUFNv"
      },
      "execution_count": 388,
      "outputs": []
    },
    {
      "cell_type": "markdown",
      "source": [
        "## Búsqueda automática del mejor modelo\n",
        "Realice una búsqueda en grilla con validación cruzada con al menos 3 algoritmos y sus\n",
        "respectivos conjuntos de hiper-parámetros para encontrar el mejor modelo de\n",
        "clasificación de churn optimizando la métrica ROC AUC. Tenga en cuenta lo siguiente:\n",
        "* Este proceso debe realizarse DataSet_Entrenamiento_v1.txt. solamente sobre el archivo\n",
        "* Recuerde que dentro de la búsqueda en grilla también puede hacer selección de\n",
        "modelo para diferentes alternativas de transformación de datos. Si el espacio de\n",
        "búsqueda se vuelve muy amplio, puede optar por una búsqueda aleatoria.\n",
        "* Detalle los aspectos más relevantes del mejor modelo encontrado y sus resultados de diferentes métricas para los datasets de entrenamiento, validación y prueba\n",
        "* Responda la pregunta: ¿Se evidencian problemas de overfitting o underfitting?\n",
        "* Investigue y describa por qué es preferible la métrica ROC AUC sobre las demás\n",
        "métricas como F1, Precision o Recall.\n",
        "* Exporte el mejor modelo obtenido a un archivo tipo pickle o joblib."
      ],
      "metadata": {
        "id": "OL5XA9vPf15S"
      }
    },
    {
      "cell_type": "code",
      "source": [
        "def print_confusion_and_roc_auc_metrics(grid_search_clf, X_df, y_df):\n",
        "  best_base = grid_search_clf.best_estimator_\n",
        "  print(grid_search_clf.best_params_)\n",
        "  predictions = best_base.predict(X_df)\n",
        "  print(\"Matriz de confusión:\")\n",
        "  print(classification_report(y_df, predictions))\n",
        "  print(\"ROC AUC:\")\n",
        "  print(roc_auc_score(y_df, predictions))"
      ],
      "metadata": {
        "id": "z8xN5v-ZZl7E"
      },
      "execution_count": 389,
      "outputs": []
    },
    {
      "cell_type": "markdown",
      "source": [
        "### LogisticRegression"
      ],
      "metadata": {
        "id": "gUNScRQ0zNr_"
      }
    },
    {
      "cell_type": "code",
      "source": [
        "processing_pipe.get_params().keys()"
      ],
      "metadata": {
        "colab": {
          "base_uri": "https://localhost:8080/"
        },
        "id": "iZXFpA1Ys2fC",
        "outputId": "3c33cd66-e34a-4332-fee5-0acf2a0293aa"
      },
      "execution_count": 390,
      "outputs": [
        {
          "output_type": "execute_result",
          "data": {
            "text/plain": [
              "dict_keys(['memory', 'steps', 'verbose', 'cleaning_column', 'columnsTransformer', 'selector', 'scaler', 'cleaning_column__feature_name', 'columnsTransformer__n_jobs', 'columnsTransformer__remainder', 'columnsTransformer__sparse_threshold', 'columnsTransformer__transformer_weights', 'columnsTransformer__transformers', 'columnsTransformer__verbose', 'columnsTransformer__verbose_feature_names_out', 'columnsTransformer__cat', 'columnsTransformer__ord_encoder', 'columnsTransformer__cat__categories', 'columnsTransformer__cat__drop', 'columnsTransformer__cat__dtype', 'columnsTransformer__cat__handle_unknown', 'columnsTransformer__cat__sparse', 'columnsTransformer__ord_encoder__categories', 'columnsTransformer__ord_encoder__dtype', 'columnsTransformer__ord_encoder__handle_unknown', 'columnsTransformer__ord_encoder__unknown_value', 'selector__n_jobs', 'selector__remainder', 'selector__sparse_threshold', 'selector__transformer_weights', 'selector__transformers', 'selector__verbose', 'selector__verbose_feature_names_out', 'selector__selector', 'scaler__copy', 'scaler__with_mean', 'scaler__with_std'])"
            ]
          },
          "metadata": {},
          "execution_count": 390
        }
      ]
    },
    {
      "cell_type": "code",
      "source": [
        "processing_pipe.steps.append([\"classifier\",  LogisticRegression(max_iter=10000, tol=0.1)])\n",
        "grid={\"classifier__C\":np.logspace(-4, 4, 4), \"classifier__penalty\":[\"l2\"], \"classifier__max_iter\": [1000, 5000, 10000, 100000]}\n",
        "\n",
        "grid_search_log = GridSearchCV(processing_pipe,grid,cv=5)\n",
        "grid_search_log.fit(X_train, Y_train)\n",
        "grid_search_log.best_params_\n",
        "processing_pipe.steps.pop(-1)"
      ],
      "metadata": {
        "colab": {
          "base_uri": "https://localhost:8080/"
        },
        "id": "zItUgxleinBZ",
        "outputId": "7837d00e-d035-4a25-c4ca-7df25db851ef"
      },
      "execution_count": 391,
      "outputs": [
        {
          "output_type": "execute_result",
          "data": {
            "text/plain": [
              "['classifier', LogisticRegression(max_iter=10000, tol=0.1)]"
            ]
          },
          "metadata": {},
          "execution_count": 391
        }
      ]
    },
    {
      "cell_type": "code",
      "source": [
        "print_confusion_and_roc_auc_metrics(grid_search_log, X_val, y_val)"
      ],
      "metadata": {
        "colab": {
          "base_uri": "https://localhost:8080/"
        },
        "id": "jcu8HcTCiNYN",
        "outputId": "02d1ebc1-9d0a-4eb1-9741-3b22bf240929"
      },
      "execution_count": 392,
      "outputs": [
        {
          "output_type": "stream",
          "name": "stdout",
          "text": [
            "{'classifier__C': 0.046415888336127774, 'classifier__max_iter': 1000, 'classifier__penalty': 'l2'}\n",
            "Matriz de confusión:\n",
            "              precision    recall  f1-score   support\n",
            "\n",
            "           0       0.78      0.91      0.84       698\n",
            "           1       0.58      0.32      0.41       262\n",
            "\n",
            "    accuracy                           0.75       960\n",
            "   macro avg       0.68      0.62      0.63       960\n",
            "weighted avg       0.73      0.75      0.72       960\n",
            "\n",
            "ROC AUC:\n",
            "0.6154170038714757\n"
          ]
        }
      ]
    },
    {
      "cell_type": "markdown",
      "source": [
        "Se aplica SMOTE:"
      ],
      "metadata": {
        "id": "bkOyengIiTvt"
      }
    },
    {
      "cell_type": "code",
      "source": [
        "processing_pipe.steps.append(['sampling', SMOTE()])\n",
        "processing_pipe.steps.append([\"classifier\",  LogisticRegression(max_iter=10000, tol=0.1)])\n",
        "grid={\"classifier__C\":np.logspace(-4, 4, 4), \"classifier__penalty\":[\"l2\"], \"classifier__max_iter\": [1000, 5000, 10000, 100000]}\n",
        "\n",
        "grid_search_log = GridSearchCV(processing_pipe,grid,cv=5)\n",
        "grid_search_log.fit(X_train, Y_train)\n",
        "grid_search_log.best_params_\n",
        "processing_pipe.steps.pop(-1)\n",
        "processing_pipe.steps.pop(-1)"
      ],
      "metadata": {
        "colab": {
          "base_uri": "https://localhost:8080/"
        },
        "id": "DOzMuTdVLTzx",
        "outputId": "ca61dd74-03ae-4fc0-aadf-3b32c42fc084"
      },
      "execution_count": 393,
      "outputs": [
        {
          "output_type": "execute_result",
          "data": {
            "text/plain": [
              "['sampling', SMOTE()]"
            ]
          },
          "metadata": {},
          "execution_count": 393
        }
      ]
    },
    {
      "cell_type": "code",
      "source": [
        "print_confusion_and_roc_auc_metrics(grid_search_log, X_val, y_val)"
      ],
      "metadata": {
        "colab": {
          "base_uri": "https://localhost:8080/"
        },
        "id": "5qIGjHS4NeLm",
        "outputId": "52861690-b60f-442b-87a7-29580d321cad"
      },
      "execution_count": 394,
      "outputs": [
        {
          "output_type": "stream",
          "name": "stdout",
          "text": [
            "{'classifier__C': 0.046415888336127774, 'classifier__max_iter': 1000, 'classifier__penalty': 'l2'}\n",
            "Matriz de confusión:\n",
            "              precision    recall  f1-score   support\n",
            "\n",
            "           0       0.88      0.71      0.79       698\n",
            "           1       0.49      0.75      0.60       262\n",
            "\n",
            "    accuracy                           0.72       960\n",
            "   macro avg       0.69      0.73      0.69       960\n",
            "weighted avg       0.78      0.72      0.73       960\n",
            "\n",
            "ROC AUC:\n",
            "0.7305387256939129\n"
          ]
        }
      ]
    },
    {
      "cell_type": "markdown",
      "source": [
        "Model2"
      ],
      "metadata": {
        "id": "f7n_mozGzZ3b"
      }
    },
    {
      "cell_type": "code",
      "source": [],
      "metadata": {
        "id": "crVBh-ibzaV0"
      },
      "execution_count": 394,
      "outputs": []
    },
    {
      "cell_type": "markdown",
      "source": [
        "Model3"
      ],
      "metadata": {
        "id": "zW2pSUUfzaqd"
      }
    },
    {
      "cell_type": "code",
      "source": [],
      "metadata": {
        "id": "8EB_Aw3Pzav7"
      },
      "execution_count": 394,
      "outputs": []
    }
  ]
}