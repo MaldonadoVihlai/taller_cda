{
  "nbformat": 4,
  "nbformat_minor": 0,
  "metadata": {
    "colab": {
      "provenance": []
    },
    "kernelspec": {
      "name": "python3",
      "display_name": "Python 3"
    },
    "language_info": {
      "name": "python"
    }
  },
  "cells": [
    {
      "cell_type": "markdown",
      "source": [
        "# QUIZ 2\n",
        "Vihlai Maldonado Cuevas - 201619479"
      ],
      "metadata": {
        "id": "1WZeIWcxjckh"
      }
    },
    {
      "cell_type": "code",
      "execution_count": 160,
      "metadata": {
        "colab": {
          "base_uri": "https://localhost:8080/"
        },
        "id": "tSRwl9yqjHCj",
        "outputId": "f50472dd-e067-456a-e12d-6a30b917b4eb"
      },
      "outputs": [
        {
          "output_type": "stream",
          "name": "stdout",
          "text": [
            "Looking in indexes: https://pypi.org/simple, https://us-python.pkg.dev/colab-wheels/public/simple/\n",
            "Requirement already satisfied: pandas-profiling in /usr/local/lib/python3.7/dist-packages (3.3.0)\n",
            "Requirement already satisfied: numpy<1.24,>=1.16.0 in /usr/local/lib/python3.7/dist-packages (from pandas-profiling) (1.21.6)\n",
            "Requirement already satisfied: statsmodels<0.14,>=0.13.2 in /usr/local/lib/python3.7/dist-packages (from pandas-profiling) (0.13.2)\n",
            "Requirement already satisfied: pandas!=1.4.0,<1.5,>1.1 in /usr/local/lib/python3.7/dist-packages (from pandas-profiling) (1.3.5)\n",
            "Requirement already satisfied: joblib~=1.1.0 in /usr/local/lib/python3.7/dist-packages (from pandas-profiling) (1.1.0)\n",
            "Requirement already satisfied: tqdm<4.65,>=4.48.2 in /usr/local/lib/python3.7/dist-packages (from pandas-profiling) (4.64.1)\n",
            "Requirement already satisfied: seaborn<0.12,>=0.10.1 in /usr/local/lib/python3.7/dist-packages (from pandas-profiling) (0.11.2)\n",
            "Requirement already satisfied: multimethod<1.9,>=1.4 in /usr/local/lib/python3.7/dist-packages (from pandas-profiling) (1.8)\n",
            "Requirement already satisfied: scipy<1.10,>=1.4.1 in /usr/local/lib/python3.7/dist-packages (from pandas-profiling) (1.7.3)\n",
            "Requirement already satisfied: PyYAML<6.1,>=5.0.0 in /usr/local/lib/python3.7/dist-packages (from pandas-profiling) (6.0)\n",
            "Requirement already satisfied: phik<0.13,>=0.11.1 in /usr/local/lib/python3.7/dist-packages (from pandas-profiling) (0.12.2)\n",
            "Requirement already satisfied: matplotlib<3.6,>=3.2 in /usr/local/lib/python3.7/dist-packages (from pandas-profiling) (3.2.2)\n",
            "Requirement already satisfied: requests<2.29,>=2.24.0 in /usr/local/lib/python3.7/dist-packages (from pandas-profiling) (2.28.1)\n",
            "Requirement already satisfied: visions[type_image_path]==0.7.5 in /usr/local/lib/python3.7/dist-packages (from pandas-profiling) (0.7.5)\n",
            "Requirement already satisfied: tangled-up-in-unicode==0.2.0 in /usr/local/lib/python3.7/dist-packages (from pandas-profiling) (0.2.0)\n",
            "Requirement already satisfied: jinja2<3.2,>=2.11.1 in /usr/local/lib/python3.7/dist-packages (from pandas-profiling) (2.11.3)\n",
            "Requirement already satisfied: htmlmin==0.1.12 in /usr/local/lib/python3.7/dist-packages (from pandas-profiling) (0.1.12)\n",
            "Requirement already satisfied: missingno<0.6,>=0.4.2 in /usr/local/lib/python3.7/dist-packages (from pandas-profiling) (0.5.1)\n",
            "Requirement already satisfied: pydantic<1.10,>=1.8.1 in /usr/local/lib/python3.7/dist-packages (from pandas-profiling) (1.9.2)\n",
            "Requirement already satisfied: attrs>=19.3.0 in /usr/local/lib/python3.7/dist-packages (from visions[type_image_path]==0.7.5->pandas-profiling) (22.1.0)\n",
            "Requirement already satisfied: networkx>=2.4 in /usr/local/lib/python3.7/dist-packages (from visions[type_image_path]==0.7.5->pandas-profiling) (2.6.3)\n",
            "Requirement already satisfied: Pillow in /usr/local/lib/python3.7/dist-packages (from visions[type_image_path]==0.7.5->pandas-profiling) (7.1.2)\n",
            "Requirement already satisfied: imagehash in /usr/local/lib/python3.7/dist-packages (from visions[type_image_path]==0.7.5->pandas-profiling) (4.3.0)\n",
            "Requirement already satisfied: MarkupSafe>=0.23 in /usr/local/lib/python3.7/dist-packages (from jinja2<3.2,>=2.11.1->pandas-profiling) (2.0.1)\n",
            "Requirement already satisfied: cycler>=0.10 in /usr/local/lib/python3.7/dist-packages (from matplotlib<3.6,>=3.2->pandas-profiling) (0.11.0)\n",
            "Requirement already satisfied: python-dateutil>=2.1 in /usr/local/lib/python3.7/dist-packages (from matplotlib<3.6,>=3.2->pandas-profiling) (2.8.2)\n",
            "Requirement already satisfied: kiwisolver>=1.0.1 in /usr/local/lib/python3.7/dist-packages (from matplotlib<3.6,>=3.2->pandas-profiling) (1.4.4)\n",
            "Requirement already satisfied: pyparsing!=2.0.4,!=2.1.2,!=2.1.6,>=2.0.1 in /usr/local/lib/python3.7/dist-packages (from matplotlib<3.6,>=3.2->pandas-profiling) (3.0.9)\n",
            "Requirement already satisfied: typing-extensions in /usr/local/lib/python3.7/dist-packages (from kiwisolver>=1.0.1->matplotlib<3.6,>=3.2->pandas-profiling) (4.1.1)\n",
            "Requirement already satisfied: pytz>=2017.3 in /usr/local/lib/python3.7/dist-packages (from pandas!=1.4.0,<1.5,>1.1->pandas-profiling) (2022.2.1)\n",
            "Requirement already satisfied: six>=1.5 in /usr/local/lib/python3.7/dist-packages (from python-dateutil>=2.1->matplotlib<3.6,>=3.2->pandas-profiling) (1.15.0)\n",
            "Requirement already satisfied: certifi>=2017.4.17 in /usr/local/lib/python3.7/dist-packages (from requests<2.29,>=2.24.0->pandas-profiling) (2022.6.15)\n",
            "Requirement already satisfied: urllib3<1.27,>=1.21.1 in /usr/local/lib/python3.7/dist-packages (from requests<2.29,>=2.24.0->pandas-profiling) (1.24.3)\n",
            "Requirement already satisfied: charset-normalizer<3,>=2 in /usr/local/lib/python3.7/dist-packages (from requests<2.29,>=2.24.0->pandas-profiling) (2.1.1)\n",
            "Requirement already satisfied: idna<4,>=2.5 in /usr/local/lib/python3.7/dist-packages (from requests<2.29,>=2.24.0->pandas-profiling) (2.10)\n",
            "Requirement already satisfied: packaging>=21.3 in /usr/local/lib/python3.7/dist-packages (from statsmodels<0.14,>=0.13.2->pandas-profiling) (21.3)\n",
            "Requirement already satisfied: patsy>=0.5.2 in /usr/local/lib/python3.7/dist-packages (from statsmodels<0.14,>=0.13.2->pandas-profiling) (0.5.2)\n",
            "Requirement already satisfied: PyWavelets in /usr/local/lib/python3.7/dist-packages (from imagehash->visions[type_image_path]==0.7.5->pandas-profiling) (1.3.0)\n",
            "Looking in indexes: https://pypi.org/simple, https://us-python.pkg.dev/colab-wheels/public/simple/\n",
            "Requirement already satisfied: markupsafe==2.0.1 in /usr/local/lib/python3.7/dist-packages (2.0.1)\n"
          ]
        }
      ],
      "source": [
        "!pip install --upgrade pandas-profiling\n",
        "!pip install markupsafe==2.0.1"
      ]
    },
    {
      "cell_type": "code",
      "source": [
        "import numpy as np\n",
        "import pandas as pd\n",
        "\n",
        "from sklearn.model_selection import train_test_split\n",
        "from sklearn.preprocessing import StandardScaler\n",
        "from sklearn.linear_model import LinearRegression\n",
        "from sklearn.metrics import mean_squared_error, mean_absolute_error\n",
        "\n",
        "import matplotlib.pyplot as plt\n",
        "import seaborn as sns\n",
        "\n",
        "from sklearn.metrics import r2_score\n",
        "from pandas_profiling import ProfileReport\n",
        "from sklearn.linear_model import LinearRegression\n",
        "from sklearn.preprocessing import PolynomialFeatures\n",
        "from sklearn.linear_model import Ridge\n",
        "from sklearn.linear_model import Lasso\n",
        "import matplotlib.pyplot as plt\n",
        "plt.style.use(\"seaborn-deep\")\n",
        "import seaborn as sns"
      ],
      "metadata": {
        "id": "TVcG_lxgjIqe"
      },
      "execution_count": 161,
      "outputs": []
    },
    {
      "cell_type": "code",
      "source": [
        "data_df = pd.read_csv('insurance.csv')"
      ],
      "metadata": {
        "id": "4G_vaW2ijQne"
      },
      "execution_count": 162,
      "outputs": []
    },
    {
      "cell_type": "code",
      "source": [
        "data_df.shape"
      ],
      "metadata": {
        "colab": {
          "base_uri": "https://localhost:8080/"
        },
        "id": "4X__-A7YjRMW",
        "outputId": "0555ad88-7263-41c7-ebcf-b25b886effc2"
      },
      "execution_count": 163,
      "outputs": [
        {
          "output_type": "execute_result",
          "data": {
            "text/plain": [
              "(1338, 7)"
            ]
          },
          "metadata": {},
          "execution_count": 163
        }
      ]
    },
    {
      "cell_type": "code",
      "source": [
        "data_df.dtypes"
      ],
      "metadata": {
        "colab": {
          "base_uri": "https://localhost:8080/"
        },
        "id": "somj1nlgjVke",
        "outputId": "d633251b-2b1c-45d1-d1b0-8dc34711c2db"
      },
      "execution_count": 164,
      "outputs": [
        {
          "output_type": "execute_result",
          "data": {
            "text/plain": [
              "age           int64\n",
              "sex          object\n",
              "bmi         float64\n",
              "children      int64\n",
              "smoker       object\n",
              "region       object\n",
              "charges     float64\n",
              "dtype: object"
            ]
          },
          "metadata": {},
          "execution_count": 164
        }
      ]
    },
    {
      "cell_type": "code",
      "source": [
        "data_df.head()"
      ],
      "metadata": {
        "colab": {
          "base_uri": "https://localhost:8080/",
          "height": 206
        },
        "id": "OQAW64IMjXp2",
        "outputId": "e8804578-3be6-4948-89f0-a3f616dc7dc5"
      },
      "execution_count": 165,
      "outputs": [
        {
          "output_type": "execute_result",
          "data": {
            "text/plain": [
              "   age     sex     bmi  children smoker     region      charges\n",
              "0   19  female  27.900         0    yes  southwest  16884.92400\n",
              "1   18    male  33.770         1     no  southeast   1725.55230\n",
              "2   28    male  33.000         3     no  southeast   4449.46200\n",
              "3   33    male  22.705         0     no  northwest  21984.47061\n",
              "4   32    male  28.880         0     no  northwest   3866.85520"
            ],
            "text/html": [
              "\n",
              "  <div id=\"df-cb04133f-ac0c-4ca8-b9c4-5008f9be54b4\">\n",
              "    <div class=\"colab-df-container\">\n",
              "      <div>\n",
              "<style scoped>\n",
              "    .dataframe tbody tr th:only-of-type {\n",
              "        vertical-align: middle;\n",
              "    }\n",
              "\n",
              "    .dataframe tbody tr th {\n",
              "        vertical-align: top;\n",
              "    }\n",
              "\n",
              "    .dataframe thead th {\n",
              "        text-align: right;\n",
              "    }\n",
              "</style>\n",
              "<table border=\"1\" class=\"dataframe\">\n",
              "  <thead>\n",
              "    <tr style=\"text-align: right;\">\n",
              "      <th></th>\n",
              "      <th>age</th>\n",
              "      <th>sex</th>\n",
              "      <th>bmi</th>\n",
              "      <th>children</th>\n",
              "      <th>smoker</th>\n",
              "      <th>region</th>\n",
              "      <th>charges</th>\n",
              "    </tr>\n",
              "  </thead>\n",
              "  <tbody>\n",
              "    <tr>\n",
              "      <th>0</th>\n",
              "      <td>19</td>\n",
              "      <td>female</td>\n",
              "      <td>27.900</td>\n",
              "      <td>0</td>\n",
              "      <td>yes</td>\n",
              "      <td>southwest</td>\n",
              "      <td>16884.92400</td>\n",
              "    </tr>\n",
              "    <tr>\n",
              "      <th>1</th>\n",
              "      <td>18</td>\n",
              "      <td>male</td>\n",
              "      <td>33.770</td>\n",
              "      <td>1</td>\n",
              "      <td>no</td>\n",
              "      <td>southeast</td>\n",
              "      <td>1725.55230</td>\n",
              "    </tr>\n",
              "    <tr>\n",
              "      <th>2</th>\n",
              "      <td>28</td>\n",
              "      <td>male</td>\n",
              "      <td>33.000</td>\n",
              "      <td>3</td>\n",
              "      <td>no</td>\n",
              "      <td>southeast</td>\n",
              "      <td>4449.46200</td>\n",
              "    </tr>\n",
              "    <tr>\n",
              "      <th>3</th>\n",
              "      <td>33</td>\n",
              "      <td>male</td>\n",
              "      <td>22.705</td>\n",
              "      <td>0</td>\n",
              "      <td>no</td>\n",
              "      <td>northwest</td>\n",
              "      <td>21984.47061</td>\n",
              "    </tr>\n",
              "    <tr>\n",
              "      <th>4</th>\n",
              "      <td>32</td>\n",
              "      <td>male</td>\n",
              "      <td>28.880</td>\n",
              "      <td>0</td>\n",
              "      <td>no</td>\n",
              "      <td>northwest</td>\n",
              "      <td>3866.85520</td>\n",
              "    </tr>\n",
              "  </tbody>\n",
              "</table>\n",
              "</div>\n",
              "      <button class=\"colab-df-convert\" onclick=\"convertToInteractive('df-cb04133f-ac0c-4ca8-b9c4-5008f9be54b4')\"\n",
              "              title=\"Convert this dataframe to an interactive table.\"\n",
              "              style=\"display:none;\">\n",
              "        \n",
              "  <svg xmlns=\"http://www.w3.org/2000/svg\" height=\"24px\"viewBox=\"0 0 24 24\"\n",
              "       width=\"24px\">\n",
              "    <path d=\"M0 0h24v24H0V0z\" fill=\"none\"/>\n",
              "    <path d=\"M18.56 5.44l.94 2.06.94-2.06 2.06-.94-2.06-.94-.94-2.06-.94 2.06-2.06.94zm-11 1L8.5 8.5l.94-2.06 2.06-.94-2.06-.94L8.5 2.5l-.94 2.06-2.06.94zm10 10l.94 2.06.94-2.06 2.06-.94-2.06-.94-.94-2.06-.94 2.06-2.06.94z\"/><path d=\"M17.41 7.96l-1.37-1.37c-.4-.4-.92-.59-1.43-.59-.52 0-1.04.2-1.43.59L10.3 9.45l-7.72 7.72c-.78.78-.78 2.05 0 2.83L4 21.41c.39.39.9.59 1.41.59.51 0 1.02-.2 1.41-.59l7.78-7.78 2.81-2.81c.8-.78.8-2.07 0-2.86zM5.41 20L4 18.59l7.72-7.72 1.47 1.35L5.41 20z\"/>\n",
              "  </svg>\n",
              "      </button>\n",
              "      \n",
              "  <style>\n",
              "    .colab-df-container {\n",
              "      display:flex;\n",
              "      flex-wrap:wrap;\n",
              "      gap: 12px;\n",
              "    }\n",
              "\n",
              "    .colab-df-convert {\n",
              "      background-color: #E8F0FE;\n",
              "      border: none;\n",
              "      border-radius: 50%;\n",
              "      cursor: pointer;\n",
              "      display: none;\n",
              "      fill: #1967D2;\n",
              "      height: 32px;\n",
              "      padding: 0 0 0 0;\n",
              "      width: 32px;\n",
              "    }\n",
              "\n",
              "    .colab-df-convert:hover {\n",
              "      background-color: #E2EBFA;\n",
              "      box-shadow: 0px 1px 2px rgba(60, 64, 67, 0.3), 0px 1px 3px 1px rgba(60, 64, 67, 0.15);\n",
              "      fill: #174EA6;\n",
              "    }\n",
              "\n",
              "    [theme=dark] .colab-df-convert {\n",
              "      background-color: #3B4455;\n",
              "      fill: #D2E3FC;\n",
              "    }\n",
              "\n",
              "    [theme=dark] .colab-df-convert:hover {\n",
              "      background-color: #434B5C;\n",
              "      box-shadow: 0px 1px 3px 1px rgba(0, 0, 0, 0.15);\n",
              "      filter: drop-shadow(0px 1px 2px rgba(0, 0, 0, 0.3));\n",
              "      fill: #FFFFFF;\n",
              "    }\n",
              "  </style>\n",
              "\n",
              "      <script>\n",
              "        const buttonEl =\n",
              "          document.querySelector('#df-cb04133f-ac0c-4ca8-b9c4-5008f9be54b4 button.colab-df-convert');\n",
              "        buttonEl.style.display =\n",
              "          google.colab.kernel.accessAllowed ? 'block' : 'none';\n",
              "\n",
              "        async function convertToInteractive(key) {\n",
              "          const element = document.querySelector('#df-cb04133f-ac0c-4ca8-b9c4-5008f9be54b4');\n",
              "          const dataTable =\n",
              "            await google.colab.kernel.invokeFunction('convertToInteractive',\n",
              "                                                     [key], {});\n",
              "          if (!dataTable) return;\n",
              "\n",
              "          const docLinkHtml = 'Like what you see? Visit the ' +\n",
              "            '<a target=\"_blank\" href=https://colab.research.google.com/notebooks/data_table.ipynb>data table notebook</a>'\n",
              "            + ' to learn more about interactive tables.';\n",
              "          element.innerHTML = '';\n",
              "          dataTable['output_type'] = 'display_data';\n",
              "          await google.colab.output.renderOutput(dataTable, element);\n",
              "          const docLink = document.createElement('div');\n",
              "          docLink.innerHTML = docLinkHtml;\n",
              "          element.appendChild(docLink);\n",
              "        }\n",
              "      </script>\n",
              "    </div>\n",
              "  </div>\n",
              "  "
            ]
          },
          "metadata": {},
          "execution_count": 165
        }
      ]
    },
    {
      "cell_type": "code",
      "source": [
        "data_df = data_df.drop_duplicates()"
      ],
      "metadata": {
        "id": "R0PFkz_txKQk"
      },
      "execution_count": 166,
      "outputs": []
    },
    {
      "cell_type": "code",
      "source": [
        "data_df.shape"
      ],
      "metadata": {
        "colab": {
          "base_uri": "https://localhost:8080/"
        },
        "id": "HKAPDGvyjYjm",
        "outputId": "0367482e-c198-498a-b36b-956e4efcc552"
      },
      "execution_count": 167,
      "outputs": [
        {
          "output_type": "execute_result",
          "data": {
            "text/plain": [
              "(1337, 7)"
            ]
          },
          "metadata": {},
          "execution_count": 167
        }
      ]
    },
    {
      "cell_type": "markdown",
      "source": [
        "## Procesamiento"
      ],
      "metadata": {
        "id": "Q6w_NW2xzclK"
      }
    },
    {
      "cell_type": "code",
      "source": [
        "data_df['sex'] = data_df['sex'] .replace({'female': 1, 'male': 0})\n",
        "data_df['smoker'] = data_df['smoker'] .replace({'yes': 1, 'no': 0})"
      ],
      "metadata": {
        "colab": {
          "base_uri": "https://localhost:8080/"
        },
        "id": "HtSpMW1FzeDG",
        "outputId": "479de334-8804-4eba-cef7-5df051178e58"
      },
      "execution_count": 168,
      "outputs": [
        {
          "output_type": "stream",
          "name": "stderr",
          "text": [
            "/usr/local/lib/python3.7/dist-packages/ipykernel_launcher.py:1: SettingWithCopyWarning: \n",
            "A value is trying to be set on a copy of a slice from a DataFrame.\n",
            "Try using .loc[row_indexer,col_indexer] = value instead\n",
            "\n",
            "See the caveats in the documentation: https://pandas.pydata.org/pandas-docs/stable/user_guide/indexing.html#returning-a-view-versus-a-copy\n",
            "  \"\"\"Entry point for launching an IPython kernel.\n",
            "/usr/local/lib/python3.7/dist-packages/ipykernel_launcher.py:2: SettingWithCopyWarning: \n",
            "A value is trying to be set on a copy of a slice from a DataFrame.\n",
            "Try using .loc[row_indexer,col_indexer] = value instead\n",
            "\n",
            "See the caveats in the documentation: https://pandas.pydata.org/pandas-docs/stable/user_guide/indexing.html#returning-a-view-versus-a-copy\n",
            "  \n"
          ]
        }
      ]
    },
    {
      "cell_type": "code",
      "source": [
        "region_dummies = pd.get_dummies(data_df['region'], prefix='region_')\n",
        "data_df = pd.concat([data_df, region_dummies], axis = 1).drop('region', axis=1)"
      ],
      "metadata": {
        "id": "I99dFPr30oOS"
      },
      "execution_count": 169,
      "outputs": []
    },
    {
      "cell_type": "code",
      "source": [
        "data_df.head()"
      ],
      "metadata": {
        "colab": {
          "base_uri": "https://localhost:8080/",
          "height": 206
        },
        "id": "DEn4jEHC0yNC",
        "outputId": "78e3a379-d119-4833-ba13-c864d5ee0c92"
      },
      "execution_count": 170,
      "outputs": [
        {
          "output_type": "execute_result",
          "data": {
            "text/plain": [
              "   age  sex     bmi  children  smoker      charges  region__northeast  \\\n",
              "0   19    1  27.900         0       1  16884.92400                  0   \n",
              "1   18    0  33.770         1       0   1725.55230                  0   \n",
              "2   28    0  33.000         3       0   4449.46200                  0   \n",
              "3   33    0  22.705         0       0  21984.47061                  0   \n",
              "4   32    0  28.880         0       0   3866.85520                  0   \n",
              "\n",
              "   region__northwest  region__southeast  region__southwest  \n",
              "0                  0                  0                  1  \n",
              "1                  0                  1                  0  \n",
              "2                  0                  1                  0  \n",
              "3                  1                  0                  0  \n",
              "4                  1                  0                  0  "
            ],
            "text/html": [
              "\n",
              "  <div id=\"df-da704e96-bca4-4bdc-873a-2437a7755746\">\n",
              "    <div class=\"colab-df-container\">\n",
              "      <div>\n",
              "<style scoped>\n",
              "    .dataframe tbody tr th:only-of-type {\n",
              "        vertical-align: middle;\n",
              "    }\n",
              "\n",
              "    .dataframe tbody tr th {\n",
              "        vertical-align: top;\n",
              "    }\n",
              "\n",
              "    .dataframe thead th {\n",
              "        text-align: right;\n",
              "    }\n",
              "</style>\n",
              "<table border=\"1\" class=\"dataframe\">\n",
              "  <thead>\n",
              "    <tr style=\"text-align: right;\">\n",
              "      <th></th>\n",
              "      <th>age</th>\n",
              "      <th>sex</th>\n",
              "      <th>bmi</th>\n",
              "      <th>children</th>\n",
              "      <th>smoker</th>\n",
              "      <th>charges</th>\n",
              "      <th>region__northeast</th>\n",
              "      <th>region__northwest</th>\n",
              "      <th>region__southeast</th>\n",
              "      <th>region__southwest</th>\n",
              "    </tr>\n",
              "  </thead>\n",
              "  <tbody>\n",
              "    <tr>\n",
              "      <th>0</th>\n",
              "      <td>19</td>\n",
              "      <td>1</td>\n",
              "      <td>27.900</td>\n",
              "      <td>0</td>\n",
              "      <td>1</td>\n",
              "      <td>16884.92400</td>\n",
              "      <td>0</td>\n",
              "      <td>0</td>\n",
              "      <td>0</td>\n",
              "      <td>1</td>\n",
              "    </tr>\n",
              "    <tr>\n",
              "      <th>1</th>\n",
              "      <td>18</td>\n",
              "      <td>0</td>\n",
              "      <td>33.770</td>\n",
              "      <td>1</td>\n",
              "      <td>0</td>\n",
              "      <td>1725.55230</td>\n",
              "      <td>0</td>\n",
              "      <td>0</td>\n",
              "      <td>1</td>\n",
              "      <td>0</td>\n",
              "    </tr>\n",
              "    <tr>\n",
              "      <th>2</th>\n",
              "      <td>28</td>\n",
              "      <td>0</td>\n",
              "      <td>33.000</td>\n",
              "      <td>3</td>\n",
              "      <td>0</td>\n",
              "      <td>4449.46200</td>\n",
              "      <td>0</td>\n",
              "      <td>0</td>\n",
              "      <td>1</td>\n",
              "      <td>0</td>\n",
              "    </tr>\n",
              "    <tr>\n",
              "      <th>3</th>\n",
              "      <td>33</td>\n",
              "      <td>0</td>\n",
              "      <td>22.705</td>\n",
              "      <td>0</td>\n",
              "      <td>0</td>\n",
              "      <td>21984.47061</td>\n",
              "      <td>0</td>\n",
              "      <td>1</td>\n",
              "      <td>0</td>\n",
              "      <td>0</td>\n",
              "    </tr>\n",
              "    <tr>\n",
              "      <th>4</th>\n",
              "      <td>32</td>\n",
              "      <td>0</td>\n",
              "      <td>28.880</td>\n",
              "      <td>0</td>\n",
              "      <td>0</td>\n",
              "      <td>3866.85520</td>\n",
              "      <td>0</td>\n",
              "      <td>1</td>\n",
              "      <td>0</td>\n",
              "      <td>0</td>\n",
              "    </tr>\n",
              "  </tbody>\n",
              "</table>\n",
              "</div>\n",
              "      <button class=\"colab-df-convert\" onclick=\"convertToInteractive('df-da704e96-bca4-4bdc-873a-2437a7755746')\"\n",
              "              title=\"Convert this dataframe to an interactive table.\"\n",
              "              style=\"display:none;\">\n",
              "        \n",
              "  <svg xmlns=\"http://www.w3.org/2000/svg\" height=\"24px\"viewBox=\"0 0 24 24\"\n",
              "       width=\"24px\">\n",
              "    <path d=\"M0 0h24v24H0V0z\" fill=\"none\"/>\n",
              "    <path d=\"M18.56 5.44l.94 2.06.94-2.06 2.06-.94-2.06-.94-.94-2.06-.94 2.06-2.06.94zm-11 1L8.5 8.5l.94-2.06 2.06-.94-2.06-.94L8.5 2.5l-.94 2.06-2.06.94zm10 10l.94 2.06.94-2.06 2.06-.94-2.06-.94-.94-2.06-.94 2.06-2.06.94z\"/><path d=\"M17.41 7.96l-1.37-1.37c-.4-.4-.92-.59-1.43-.59-.52 0-1.04.2-1.43.59L10.3 9.45l-7.72 7.72c-.78.78-.78 2.05 0 2.83L4 21.41c.39.39.9.59 1.41.59.51 0 1.02-.2 1.41-.59l7.78-7.78 2.81-2.81c.8-.78.8-2.07 0-2.86zM5.41 20L4 18.59l7.72-7.72 1.47 1.35L5.41 20z\"/>\n",
              "  </svg>\n",
              "      </button>\n",
              "      \n",
              "  <style>\n",
              "    .colab-df-container {\n",
              "      display:flex;\n",
              "      flex-wrap:wrap;\n",
              "      gap: 12px;\n",
              "    }\n",
              "\n",
              "    .colab-df-convert {\n",
              "      background-color: #E8F0FE;\n",
              "      border: none;\n",
              "      border-radius: 50%;\n",
              "      cursor: pointer;\n",
              "      display: none;\n",
              "      fill: #1967D2;\n",
              "      height: 32px;\n",
              "      padding: 0 0 0 0;\n",
              "      width: 32px;\n",
              "    }\n",
              "\n",
              "    .colab-df-convert:hover {\n",
              "      background-color: #E2EBFA;\n",
              "      box-shadow: 0px 1px 2px rgba(60, 64, 67, 0.3), 0px 1px 3px 1px rgba(60, 64, 67, 0.15);\n",
              "      fill: #174EA6;\n",
              "    }\n",
              "\n",
              "    [theme=dark] .colab-df-convert {\n",
              "      background-color: #3B4455;\n",
              "      fill: #D2E3FC;\n",
              "    }\n",
              "\n",
              "    [theme=dark] .colab-df-convert:hover {\n",
              "      background-color: #434B5C;\n",
              "      box-shadow: 0px 1px 3px 1px rgba(0, 0, 0, 0.15);\n",
              "      filter: drop-shadow(0px 1px 2px rgba(0, 0, 0, 0.3));\n",
              "      fill: #FFFFFF;\n",
              "    }\n",
              "  </style>\n",
              "\n",
              "      <script>\n",
              "        const buttonEl =\n",
              "          document.querySelector('#df-da704e96-bca4-4bdc-873a-2437a7755746 button.colab-df-convert');\n",
              "        buttonEl.style.display =\n",
              "          google.colab.kernel.accessAllowed ? 'block' : 'none';\n",
              "\n",
              "        async function convertToInteractive(key) {\n",
              "          const element = document.querySelector('#df-da704e96-bca4-4bdc-873a-2437a7755746');\n",
              "          const dataTable =\n",
              "            await google.colab.kernel.invokeFunction('convertToInteractive',\n",
              "                                                     [key], {});\n",
              "          if (!dataTable) return;\n",
              "\n",
              "          const docLinkHtml = 'Like what you see? Visit the ' +\n",
              "            '<a target=\"_blank\" href=https://colab.research.google.com/notebooks/data_table.ipynb>data table notebook</a>'\n",
              "            + ' to learn more about interactive tables.';\n",
              "          element.innerHTML = '';\n",
              "          dataTable['output_type'] = 'display_data';\n",
              "          await google.colab.output.renderOutput(dataTable, element);\n",
              "          const docLink = document.createElement('div');\n",
              "          docLink.innerHTML = docLinkHtml;\n",
              "          element.appendChild(docLink);\n",
              "        }\n",
              "      </script>\n",
              "    </div>\n",
              "  </div>\n",
              "  "
            ]
          },
          "metadata": {},
          "execution_count": 170
        }
      ]
    },
    {
      "cell_type": "markdown",
      "source": [
        "Variable objetivo:"
      ],
      "metadata": {
        "id": "Lvxm8t6C2yfZ"
      }
    },
    {
      "cell_type": "code",
      "source": [
        "sns.histplot(data_df['charges'], kde=True)"
      ],
      "metadata": {
        "colab": {
          "base_uri": "https://localhost:8080/",
          "height": 296
        },
        "id": "VLTSg7y82qTn",
        "outputId": "78dc1a34-bae2-4b4f-ae41-a0af5479d7a3"
      },
      "execution_count": 171,
      "outputs": [
        {
          "output_type": "execute_result",
          "data": {
            "text/plain": [
              "<matplotlib.axes._subplots.AxesSubplot at 0x7fb4751cb090>"
            ]
          },
          "metadata": {},
          "execution_count": 171
        },
        {
          "output_type": "display_data",
          "data": {
            "text/plain": [
              "<Figure size 432x288 with 1 Axes>"
            ],
            "image/png": "[encoded data removed]"
          },
          "metadata": {
            "needs_background": "light"
          }
        }
      ]
    },
    {
      "cell_type": "code",
      "source": [
        "data_df['charges'].describe()"
      ],
      "metadata": {
        "colab": {
          "base_uri": "https://localhost:8080/"
        },
        "id": "fm2oNO6g2x83",
        "outputId": "4effe500-f95f-40c0-8d3f-16152a15acec"
      },
      "execution_count": 172,
      "outputs": [
        {
          "output_type": "execute_result",
          "data": {
            "text/plain": [
              "count     1337.000000\n",
              "mean     13279.121487\n",
              "std      12110.359656\n",
              "min       1121.873900\n",
              "25%       4746.344000\n",
              "50%       9386.161300\n",
              "75%      16657.717450\n",
              "max      63770.428010\n",
              "Name: charges, dtype: float64"
            ]
          },
          "metadata": {},
          "execution_count": 172
        }
      ]
    },
    {
      "cell_type": "markdown",
      "source": [
        "División datos de entrenamiento y test:"
      ],
      "metadata": {
        "id": "OkfXrDkZzAfL"
      }
    },
    {
      "cell_type": "code",
      "source": [
        "X=data_df.drop('charges', axis=1)\n",
        "Y=data_df['charges']"
      ],
      "metadata": {
        "id": "_TECAc35zLT8"
      },
      "execution_count": 195,
      "outputs": []
    },
    {
      "cell_type": "code",
      "source": [
        "X_train, X_test, Y_train, Y_test = train_test_split(X, Y, test_size = 0.2, random_state = 1)"
      ],
      "metadata": {
        "id": "TiJGxDpgyQuL"
      },
      "execution_count": 196,
      "outputs": []
    },
    {
      "cell_type": "code",
      "source": [
        "scaler = StandardScaler()\n",
        "X_train_scaled = scaler.fit_transform(X_train)\n",
        "X_test_scaled = scaler.transform(X_test)"
      ],
      "metadata": {
        "id": "38UzKNV_1OWc"
      },
      "execution_count": 197,
      "outputs": []
    },
    {
      "cell_type": "markdown",
      "source": [
        "## a. Modelo de regresión lineal"
      ],
      "metadata": {
        "id": "JxoBvy6Dyt3A"
      }
    },
    {
      "cell_type": "code",
      "source": [
        "lin_reg = LinearRegression()\n",
        "lin_reg.fit(X_train_scaled, Y_train)"
      ],
      "metadata": {
        "colab": {
          "base_uri": "https://localhost:8080/"
        },
        "id": "NKrJkQYYyxM7",
        "outputId": "6c3b12b0-2fcb-4090-98a0-f75b7101a882"
      },
      "execution_count": 198,
      "outputs": [
        {
          "output_type": "execute_result",
          "data": {
            "text/plain": [
              "LinearRegression()"
            ]
          },
          "metadata": {},
          "execution_count": 198
        }
      ]
    },
    {
      "cell_type": "code",
      "source": [
        "lin_reg.coef_"
      ],
      "metadata": {
        "colab": {
          "base_uri": "https://localhost:8080/"
        },
        "id": "jY4zbujay-Gj",
        "outputId": "499e1595-1a7e-4923-978c-b93c0c60d908"
      },
      "execution_count": 199,
      "outputs": [
        {
          "output_type": "execute_result",
          "data": {
            "text/plain": [
              "array([3579.52257131,  260.80993236, 2324.12976783,  694.23180037,\n",
              "       9784.79290277,  296.8140035 ,   92.84819927, -297.93896863,\n",
              "        -82.54735287])"
            ]
          },
          "metadata": {},
          "execution_count": 199
        }
      ]
    },
    {
      "cell_type": "code",
      "source": [
        "X_train.columns"
      ],
      "metadata": {
        "colab": {
          "base_uri": "https://localhost:8080/"
        },
        "id": "9bid1hEkLxgg",
        "outputId": "a19a99e1-9be0-4781-a078-f20a8db71f02"
      },
      "execution_count": 178,
      "outputs": [
        {
          "output_type": "execute_result",
          "data": {
            "text/plain": [
              "Index(['age', 'sex', 'bmi', 'children', 'smoker', 'region__northeast',\n",
              "       'region__northwest', 'region__southeast', 'region__southwest'],\n",
              "      dtype='object')"
            ]
          },
          "metadata": {},
          "execution_count": 178
        }
      ]
    },
    {
      "cell_type": "code",
      "source": [
        "lin_reg.intercept_"
      ],
      "metadata": {
        "colab": {
          "base_uri": "https://localhost:8080/"
        },
        "id": "MKBHiuL41hCE",
        "outputId": "90501f00-d5f6-4fb1-ea66-259ee828ab83"
      },
      "execution_count": 179,
      "outputs": [
        {
          "output_type": "execute_result",
          "data": {
            "text/plain": [
              "13631.418931682883"
            ]
          },
          "metadata": {},
          "execution_count": 179
        }
      ]
    },
    {
      "cell_type": "markdown",
      "source": [
        "### Evaluación del modelo"
      ],
      "metadata": {
        "id": "wNeSC-Wwy-4_"
      }
    },
    {
      "cell_type": "code",
      "source": [
        "preds_train = lin_reg.predict(X_train_scaled)\n",
        "preds_test = lin_reg.predict(X_test_scaled)"
      ],
      "metadata": {
        "id": "Zk4WMws61wR9"
      },
      "execution_count": 180,
      "outputs": []
    },
    {
      "cell_type": "code",
      "source": [
        "mean_absolute_error(Y_train, preds_train), mean_absolute_error(Y_test, preds_test)"
      ],
      "metadata": {
        "colab": {
          "base_uri": "https://localhost:8080/"
        },
        "id": "Cy67k5cB11xV",
        "outputId": "8c52ba4f-fb1d-415f-cb61-25aa2e19c7a0"
      },
      "execution_count": 181,
      "outputs": [
        {
          "output_type": "execute_result",
          "data": {
            "text/plain": [
              "(4362.80036112836, 3924.636038021783)"
            ]
          },
          "metadata": {},
          "execution_count": 181
        }
      ]
    },
    {
      "cell_type": "code",
      "source": [
        "np.sqrt(mean_squared_error(Y_train, preds_train)), np.sqrt(mean_squared_error(Y_test, preds_test))"
      ],
      "metadata": {
        "colab": {
          "base_uri": "https://localhost:8080/"
        },
        "id": "_Rb44wVC15sN",
        "outputId": "7bea4757-e3e0-49ef-8fe4-dea45ca9f3ba"
      },
      "execution_count": 182,
      "outputs": [
        {
          "output_type": "execute_result",
          "data": {
            "text/plain": [
              "(6145.32833487281, 5689.308291189106)"
            ]
          },
          "metadata": {},
          "execution_count": 182
        }
      ]
    },
    {
      "cell_type": "code",
      "source": [
        "np.sqrt(mean_squared_error(Y_train, preds_train))/Y_test.mean()"
      ],
      "metadata": {
        "colab": {
          "base_uri": "https://localhost:8080/"
        },
        "id": "YZYkNoLREXn3",
        "outputId": "22570288-44c9-48d6-f956-1a7b24a194c6"
      },
      "execution_count": 183,
      "outputs": [
        {
          "output_type": "execute_result",
          "data": {
            "text/plain": [
              "0.5175503499630278"
            ]
          },
          "metadata": {},
          "execution_count": 183
        }
      ]
    },
    {
      "cell_type": "code",
      "source": [
        "np.sqrt(mean_squared_error(Y_test, preds_test))/Y_test.mean()"
      ],
      "metadata": {
        "colab": {
          "base_uri": "https://localhost:8080/"
        },
        "id": "s8f8iMtVA5Mv",
        "outputId": "d1e3d58c-4f7f-4e44-c31a-f6041969b455"
      },
      "execution_count": 184,
      "outputs": [
        {
          "output_type": "execute_result",
          "data": {
            "text/plain": [
              "0.4791450247569921"
            ]
          },
          "metadata": {},
          "execution_count": 184
        }
      ]
    },
    {
      "cell_type": "code",
      "source": [
        "mean_squared_error(Y_train, preds_train), mean_squared_error(Y_test, preds_test)"
      ],
      "metadata": {
        "colab": {
          "base_uri": "https://localhost:8080/"
        },
        "id": "0-WBrF1a5vjL",
        "outputId": "d225d182-da4c-412d-c2e3-1b1977a3399e"
      },
      "execution_count": 185,
      "outputs": [
        {
          "output_type": "execute_result",
          "data": {
            "text/plain": [
              "(37765060.34339062, 32368228.832193103)"
            ]
          },
          "metadata": {},
          "execution_count": 185
        }
      ]
    },
    {
      "cell_type": "code",
      "source": [
        "r2_score(Y_test, preds_test)"
      ],
      "metadata": {
        "colab": {
          "base_uri": "https://localhost:8080/"
        },
        "id": "3d7RAFNfKEad",
        "outputId": "6b694db3-d4b7-46b7-cf67-1380be6048d2"
      },
      "execution_count": 186,
      "outputs": [
        {
          "output_type": "execute_result",
          "data": {
            "text/plain": [
              "0.7497814388540701"
            ]
          },
          "metadata": {},
          "execution_count": 186
        }
      ]
    },
    {
      "cell_type": "markdown",
      "source": [
        "I. ¿Es aceptable el error obtenido?\\\n",
        "Esto dependería de los requerimientos del negocio, pero si tomamos como métrica el MAE y el valor mayor de `charges`, que es 63770, vemos que el error en términos porcentuales respecto al valor máximo de `charges` es inferior al 10%. En todo caso este modelo puede ser mejorado incrementando su complejidad y añadiendo regularización para prevenir overfitting.\n",
        "\n",
        "II. ¿Hay evidencia de overfitting? \\\n",
        "De acuerdo a la métrica MAE se observa que se tuvo un mejor desempeño en los datos de test que en los de entrenamiento, por lo cual no se evidencia el sobreajuste en el modelo. Asimismo, esto es consistente con la métrica RMSE y MSE.\n",
        "\n"
      ],
      "metadata": {
        "id": "OhKLVtU23Chg"
      }
    },
    {
      "cell_type": "code",
      "source": [
        "3924*100/63770"
      ],
      "metadata": {
        "colab": {
          "base_uri": "https://localhost:8080/"
        },
        "id": "KHu_dGY7Juk1",
        "outputId": "3ddd23a9-693e-47bc-8957-abac70f85e29"
      },
      "execution_count": 187,
      "outputs": [
        {
          "output_type": "execute_result",
          "data": {
            "text/plain": [
              "6.153363650619413"
            ]
          },
          "metadata": {},
          "execution_count": 187
        }
      ]
    },
    {
      "cell_type": "markdown",
      "source": [
        "## b. Modelo de regresión polinomial"
      ],
      "metadata": {
        "id": "2IMYmGTfyx4m"
      }
    },
    {
      "cell_type": "markdown",
      "source": [
        "Regresión Ridge:"
      ],
      "metadata": {
        "id": "Zl3DVoTZ4Bbv"
      }
    },
    {
      "cell_type": "code",
      "source": [
        "for model_degree in [2, 3, 4, 5, 6]:\n",
        "  print(\"Modelo de regresión polinomial grado: \", model_degree)\n",
        "  poly_features = PolynomialFeatures(degree=model_degree, include_bias=False)\n",
        "  for alpha in [0.01, 0.1, 1, 10, 100]:\n",
        "    x_train_poly = poly_features.fit_transform(X_train_scaled)\n",
        "    x_test_poly = poly_features.fit_transform(X_test_scaled)\n",
        "    ridge_reg = Ridge(alpha=alpha, solver='cholesky')\n",
        "    ridge_reg.fit(x_train_poly, Y_train)\n",
        "    ridge_preds_train = ridge_reg.predict(x_train_poly)\n",
        "    ridge_preds_test = ridge_reg.predict(x_test_poly)\n",
        "    print(\"Desempeño en datos de test, alpha = \", alpha)\n",
        "    print('MAE: ', mean_absolute_error(Y_test, ridge_preds_test))\n",
        "    print('MSE: ', mean_squared_error(Y_test, ridge_preds_test))\n",
        "    print('RMSE: ', np.sqrt(mean_squared_error(Y_test, ridge_preds_test)))"
      ],
      "metadata": {
        "colab": {
          "base_uri": "https://localhost:8080/"
        },
        "id": "yCJSL-Y8B-KO",
        "outputId": "da3c1211-f388-4801-f4d0-e468f33ba5b8"
      },
      "execution_count": 188,
      "outputs": [
        {
          "output_type": "stream",
          "name": "stdout",
          "text": [
            "Modelo de regresión polinomial grado:  2\n",
            "Desempeño en datos de test, alpha =  0.01\n",
            "MAE:  2667.741727502817\n",
            "MSE:  21773198.47024501\n",
            "RMSE:  4666.176000778904\n",
            "Desempeño en datos de test, alpha =  0.1\n",
            "MAE:  2667.7969280340867\n",
            "MSE:  21772645.79812502\n",
            "RMSE:  4666.116779306431\n",
            "Desempeño en datos de test, alpha =  1\n",
            "MAE:  2668.356110945344\n",
            "MSE:  21767168.885217864\n",
            "RMSE:  4665.529861143091\n",
            "Desempeño en datos de test, alpha =  10\n",
            "MAE:  2674.5362719015357\n",
            "MSE:  21717281.383471914\n",
            "RMSE:  4660.180402459964\n",
            "Desempeño en datos de test, alpha =  100\n",
            "MAE:  2773.3108955501066\n",
            "MSE:  21623470.959840335\n",
            "RMSE:  4650.104403111863\n",
            "Modelo de regresión polinomial grado:  3\n",
            "Desempeño en datos de test, alpha =  0.01\n",
            "MAE:  3000.0143579760775\n",
            "MSE:  24330439.493221916\n",
            "RMSE:  4932.589532205362\n",
            "Desempeño en datos de test, alpha =  0.1\n",
            "MAE:  2999.9348123878626\n",
            "MSE:  24329398.998702444\n",
            "RMSE:  4932.484059650112\n",
            "Desempeño en datos de test, alpha =  1\n",
            "MAE:  2999.140774877021\n",
            "MSE:  24319037.811076056\n",
            "RMSE:  4931.433646626107\n",
            "Desempeño en datos de test, alpha =  10\n",
            "MAE:  2991.33877653052\n",
            "MSE:  24219631.94099631\n",
            "RMSE:  4921.344525736469\n",
            "Desempeño en datos de test, alpha =  100\n",
            "MAE:  2934.258578630335\n",
            "MSE:  23526978.249018613\n",
            "RMSE:  4850.461653185046\n",
            "Modelo de regresión polinomial grado:  4\n",
            "Desempeño en datos de test, alpha =  0.01\n",
            "MAE:  3744.811704519108\n",
            "MSE:  41630563.32482792\n",
            "RMSE:  6452.175084793338\n",
            "Desempeño en datos de test, alpha =  0.1\n",
            "MAE:  3744.2448550026406\n",
            "MSE:  41616493.3775178\n",
            "RMSE:  6451.084666745414\n",
            "Desempeño en datos de test, alpha =  1\n",
            "MAE:  3738.615802084698\n",
            "MSE:  41477290.06333405\n",
            "RMSE:  6440.286489228103\n",
            "Desempeño en datos de test, alpha =  10\n",
            "MAE:  3686.2130712672083\n",
            "MSE:  40216599.05575869\n",
            "RMSE:  6341.6558607164025\n",
            "Desempeño en datos de test, alpha =  100\n",
            "MAE:  3363.381529953813\n",
            "MSE:  33522715.412792776\n",
            "RMSE:  5789.880431649066\n",
            "Modelo de regresión polinomial grado:  5\n",
            "Desempeño en datos de test, alpha =  0.01\n",
            "MAE:  4987.159386365459\n",
            "MSE:  102197341.91341743\n",
            "RMSE:  10109.27009795551\n",
            "Desempeño en datos de test, alpha =  0.1\n",
            "MAE:  4984.0676391584575\n",
            "MSE:  101919012.13074608\n",
            "RMSE:  10095.494645174454\n",
            "Desempeño en datos de test, alpha =  1\n",
            "MAE:  4952.68431039215\n",
            "MSE:  99285633.29621467\n",
            "RMSE:  9964.217645967728\n",
            "Desempeño en datos de test, alpha =  10\n",
            "MAE:  4702.427787836063\n",
            "MSE:  82345127.23244706\n",
            "RMSE:  9074.421592170327\n",
            "Desempeño en datos de test, alpha =  100\n",
            "MAE:  3929.469765260344\n",
            "MSE:  49178453.36609581\n",
            "RMSE:  7012.735084551235\n",
            "Modelo de regresión polinomial grado:  6\n",
            "Desempeño en datos de test, alpha =  0.01\n",
            "MAE:  36545.175714970355\n",
            "MSE:  53026635052.72204\n",
            "RMSE:  230275.12903638126\n",
            "Desempeño en datos de test, alpha =  0.1\n",
            "MAE:  19595.722876996817\n",
            "MSE:  11702389985.92647\n",
            "RMSE:  108177.58541364505\n",
            "Desempeño en datos de test, alpha =  1\n",
            "MAE:  14212.24051143141\n",
            "MSE:  4653573730.724911\n",
            "RMSE:  68217.10731718922\n",
            "Desempeño en datos de test, alpha =  10\n",
            "MAE:  8533.187877716055\n",
            "MSE:  945018491.986559\n",
            "RMSE:  30741.15306859128\n",
            "Desempeño en datos de test, alpha =  100\n",
            "MAE:  4871.167370239462\n",
            "MSE:  110867021.75199291\n",
            "RMSE:  10529.340993243257\n"
          ]
        }
      ]
    },
    {
      "cell_type": "markdown",
      "source": [
        "De acuerdo al resultado anterior observamos que a un mayor grado del polinomio el error en los datos de test es más alto, lo cual implica que el modelo se está sobreajustando a los datos de entrenamiento. Asimismo conforme aumentan los valores de alpha en la regularización Ridge, observamos que para polinomios de alto grado, las métricas de error disminuyen considerablemente, lo cual indica que la regularización ayuda con el problema de sobreajuste.\n"
      ],
      "metadata": {
        "id": "f3NoLU9QDBxu"
      }
    },
    {
      "cell_type": "markdown",
      "source": [
        "I. ¿Fue posible mejorar el error? \\\n",
        "Con respecto al modelo de regresión lineal del primer punto, fue posible mejorar el error para polinomios de grado pequeño. Por ejemplo para grado 2 y alpha =  0.001, el valore de MAE obtenido fue de 2667.74 en cambio con el mejor modelo de regresión lineal se obtuvo un MAE de 3924.6. \\\n",
        "¿Qué hiper-parámetros tiene el modelo que produce el menor error? \\\n",
        "Siguiendo la métrica MAE, el mejor modelo es de grado 2 con alpha =  0.001, con el que se obtuvo un MAE de 2667.74. \\\n",
        "II. ¿Qué atributos parecen ser los más importantes para realizar la predicción? \\\n",
        "Del primer modelo de predicción se encuentra que los atributos con mayor peso en la regresión son: la variable `smoker`, la variable `age` y el `bmi`.\n"
      ],
      "metadata": {
        "id": "8rkO7UfDHTp7"
      }
    }
  ]
}