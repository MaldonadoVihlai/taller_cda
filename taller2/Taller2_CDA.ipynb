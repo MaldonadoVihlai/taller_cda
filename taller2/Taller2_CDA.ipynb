{
  "nbformat": 4,
  "nbformat_minor": 0,
  "metadata": {
    "colab": {
      "provenance": [],
      "collapsed_sections": []
    },
    "kernelspec": {
      "name": "python3",
      "display_name": "Python 3"
    },
    "language_info": {
      "name": "python"
    }
  },
  "cells": [
    {
      "cell_type": "markdown",
      "source": [
        "# Taller 2\n",
        "Vihlai Maldonado Cuevas 201619479"
      ],
      "metadata": {
        "id": "jTUx0kcIk49v"
      }
    },
    {
      "cell_type": "markdown",
      "source": [
        "## Objetivo\n",
        "Evaluar las capacidades del estudiante para desarrollar modelos analíticos supervisados contemplando las etapas de la metodología ASUM-DM, como son el análisis y entendimiento de los datos, preparación de datos, creación de modelos, evaluación y análisis de resultados."
      ],
      "metadata": {
        "id": "O2y9CfFElCEN"
      }
    },
    {
      "cell_type": "markdown",
      "source": [
        "## Planteamiento del problema\n",
        "La alcandía de una ciudad está interesada en implementar un nuevo servicio de patinetas para incentivar la movilidad sostenible y como parte de este proceso se encuentra evaluando la viabilidad económica e impacto de dicho servicio. Dado lo anterior, le ha encargado a la consultora Andes CDA el desarrollo de un modelo predictivo de la demanda de patinetas por día con base en datos de una ciudad vecina. Su objetivo como consultor de esta empresa es la creación del mejor modelo posible de regresión lineal que le permita predecir el número de usuarios promedio por día del nuevo servicio, al mismo tiempo de poder entender la importancia y relación de las variables consideradas. A continuación, se relaciona el diccionario de datos:"
      ],
      "metadata": {
        "id": "ddwsBDXelEuJ"
      }
    },
    {
      "cell_type": "markdown",
      "source": [
        "| Field      | Description                                                      |\n",
        "|------------|------------------------------------------------------------------|\n",
        "| Instant    | Record Index                                                     |\n",
        "| Date       | Date (Format:YYYY-MM-DD)                                         |\n",
        "| Season     | Season of the year                                               |\n",
        "| Holiday    | Is it holiday?                                                   |\n",
        "| Weather    | Description of the weather situation                             |\n",
        "| Temp       | Temperature in Celsius                                           |\n",
        "| Feel_Temp  | Feeling temperature in Celsius                                   |\n",
        "| Hum        | Normalized humidity                                              |\n",
        "| Wind       | Wind speed in m/s                                                |\n",
        "| Casual     | Count of casual users                                            |\n",
        "| Registered | Count of registered users                                        |\n",
        "| cnt        | Count of total rental bikes including both casual and registered |"
      ],
      "metadata": {
        "id": "I-iaSWsdlKAZ"
      }
    },
    {
      "cell_type": "code",
      "execution_count": 542,
      "metadata": {
        "colab": {
          "base_uri": "https://localhost:8080/"
        },
        "id": "UShQMMJvqigP",
        "outputId": "c8746ac6-289b-4648-a917-999a11b03985"
      },
      "outputs": [
        {
          "output_type": "stream",
          "name": "stdout",
          "text": [
            "Looking in indexes: https://pypi.org/simple, https://us-python.pkg.dev/colab-wheels/public/simple/\n",
            "Requirement already satisfied: pandas-profiling in /usr/local/lib/python3.7/dist-packages (3.3.0)\n",
            "Requirement already satisfied: requests<2.29,>=2.24.0 in /usr/local/lib/python3.7/dist-packages (from pandas-profiling) (2.28.1)\n",
            "Requirement already satisfied: visions[type_image_path]==0.7.5 in /usr/local/lib/python3.7/dist-packages (from pandas-profiling) (0.7.5)\n",
            "Requirement already satisfied: jinja2<3.2,>=2.11.1 in /usr/local/lib/python3.7/dist-packages (from pandas-profiling) (2.11.3)\n",
            "Requirement already satisfied: PyYAML<6.1,>=5.0.0 in /usr/local/lib/python3.7/dist-packages (from pandas-profiling) (6.0)\n",
            "Requirement already satisfied: htmlmin==0.1.12 in /usr/local/lib/python3.7/dist-packages (from pandas-profiling) (0.1.12)\n",
            "Requirement already satisfied: tqdm<4.65,>=4.48.2 in /usr/local/lib/python3.7/dist-packages (from pandas-profiling) (4.64.1)\n",
            "Requirement already satisfied: scipy<1.10,>=1.4.1 in /usr/local/lib/python3.7/dist-packages (from pandas-profiling) (1.7.3)\n",
            "Requirement already satisfied: statsmodels<0.14,>=0.13.2 in /usr/local/lib/python3.7/dist-packages (from pandas-profiling) (0.13.2)\n",
            "Requirement already satisfied: numpy<1.24,>=1.16.0 in /usr/local/lib/python3.7/dist-packages (from pandas-profiling) (1.21.6)\n",
            "Requirement already satisfied: matplotlib<3.6,>=3.2 in /usr/local/lib/python3.7/dist-packages (from pandas-profiling) (3.2.2)\n",
            "Requirement already satisfied: tangled-up-in-unicode==0.2.0 in /usr/local/lib/python3.7/dist-packages (from pandas-profiling) (0.2.0)\n",
            "Requirement already satisfied: joblib~=1.1.0 in /usr/local/lib/python3.7/dist-packages (from pandas-profiling) (1.1.0)\n",
            "Requirement already satisfied: seaborn<0.12,>=0.10.1 in /usr/local/lib/python3.7/dist-packages (from pandas-profiling) (0.11.2)\n",
            "Requirement already satisfied: pydantic<1.10,>=1.8.1 in /usr/local/lib/python3.7/dist-packages (from pandas-profiling) (1.9.2)\n",
            "Requirement already satisfied: phik<0.13,>=0.11.1 in /usr/local/lib/python3.7/dist-packages (from pandas-profiling) (0.12.2)\n",
            "Requirement already satisfied: missingno<0.6,>=0.4.2 in /usr/local/lib/python3.7/dist-packages (from pandas-profiling) (0.5.1)\n",
            "Requirement already satisfied: pandas!=1.4.0,<1.5,>1.1 in /usr/local/lib/python3.7/dist-packages (from pandas-profiling) (1.3.5)\n",
            "Requirement already satisfied: multimethod<1.9,>=1.4 in /usr/local/lib/python3.7/dist-packages (from pandas-profiling) (1.8)\n",
            "Requirement already satisfied: attrs>=19.3.0 in /usr/local/lib/python3.7/dist-packages (from visions[type_image_path]==0.7.5->pandas-profiling) (22.1.0)\n",
            "Requirement already satisfied: networkx>=2.4 in /usr/local/lib/python3.7/dist-packages (from visions[type_image_path]==0.7.5->pandas-profiling) (2.6.3)\n",
            "Requirement already satisfied: Pillow in /usr/local/lib/python3.7/dist-packages (from visions[type_image_path]==0.7.5->pandas-profiling) (7.1.2)\n",
            "Requirement already satisfied: imagehash in /usr/local/lib/python3.7/dist-packages (from visions[type_image_path]==0.7.5->pandas-profiling) (4.3.1)\n",
            "Requirement already satisfied: MarkupSafe>=0.23 in /usr/local/lib/python3.7/dist-packages (from jinja2<3.2,>=2.11.1->pandas-profiling) (2.0.1)\n",
            "Requirement already satisfied: pyparsing!=2.0.4,!=2.1.2,!=2.1.6,>=2.0.1 in /usr/local/lib/python3.7/dist-packages (from matplotlib<3.6,>=3.2->pandas-profiling) (3.0.9)\n",
            "Requirement already satisfied: kiwisolver>=1.0.1 in /usr/local/lib/python3.7/dist-packages (from matplotlib<3.6,>=3.2->pandas-profiling) (1.4.4)\n",
            "Requirement already satisfied: cycler>=0.10 in /usr/local/lib/python3.7/dist-packages (from matplotlib<3.6,>=3.2->pandas-profiling) (0.11.0)\n",
            "Requirement already satisfied: python-dateutil>=2.1 in /usr/local/lib/python3.7/dist-packages (from matplotlib<3.6,>=3.2->pandas-profiling) (2.8.2)\n",
            "Requirement already satisfied: typing-extensions in /usr/local/lib/python3.7/dist-packages (from kiwisolver>=1.0.1->matplotlib<3.6,>=3.2->pandas-profiling) (4.1.1)\n",
            "Requirement already satisfied: pytz>=2017.3 in /usr/local/lib/python3.7/dist-packages (from pandas!=1.4.0,<1.5,>1.1->pandas-profiling) (2022.2.1)\n",
            "Requirement already satisfied: six>=1.5 in /usr/local/lib/python3.7/dist-packages (from python-dateutil>=2.1->matplotlib<3.6,>=3.2->pandas-profiling) (1.15.0)\n",
            "Requirement already satisfied: idna<4,>=2.5 in /usr/local/lib/python3.7/dist-packages (from requests<2.29,>=2.24.0->pandas-profiling) (2.10)\n",
            "Requirement already satisfied: urllib3<1.27,>=1.21.1 in /usr/local/lib/python3.7/dist-packages (from requests<2.29,>=2.24.0->pandas-profiling) (1.24.3)\n",
            "Requirement already satisfied: charset-normalizer<3,>=2 in /usr/local/lib/python3.7/dist-packages (from requests<2.29,>=2.24.0->pandas-profiling) (2.1.1)\n",
            "Requirement already satisfied: certifi>=2017.4.17 in /usr/local/lib/python3.7/dist-packages (from requests<2.29,>=2.24.0->pandas-profiling) (2022.6.15)\n",
            "Requirement already satisfied: packaging>=21.3 in /usr/local/lib/python3.7/dist-packages (from statsmodels<0.14,>=0.13.2->pandas-profiling) (21.3)\n",
            "Requirement already satisfied: patsy>=0.5.2 in /usr/local/lib/python3.7/dist-packages (from statsmodels<0.14,>=0.13.2->pandas-profiling) (0.5.2)\n",
            "Requirement already satisfied: PyWavelets in /usr/local/lib/python3.7/dist-packages (from imagehash->visions[type_image_path]==0.7.5->pandas-profiling) (1.3.0)\n",
            "Looking in indexes: https://pypi.org/simple, https://us-python.pkg.dev/colab-wheels/public/simple/\n",
            "Requirement already satisfied: markupsafe==2.0.1 in /usr/local/lib/python3.7/dist-packages (2.0.1)\n"
          ]
        }
      ],
      "source": [
        "!pip install --upgrade pandas-profiling\n",
        "!pip install markupsafe==2.0.1"
      ]
    },
    {
      "cell_type": "code",
      "source": [
        "# Importing libraries\n",
        "import pandas as pd\n",
        "import numpy as np\n",
        "from pandas_profiling import ProfileReport\n",
        "import matplotlib.pyplot as plt\n",
        "plt.style.use(\"seaborn-deep\")\n",
        "import seaborn as sns\n",
        "import csv\n",
        "%matplotlib inline\n",
        "import missingno as msno\n",
        "from sklearn.linear_model import LinearRegression\n",
        "\n",
        "from sklearn.metrics import r2_score\n",
        "from pandas_profiling import ProfileReport\n",
        "from sklearn.linear_model import LinearRegression\n",
        "from sklearn.preprocessing import PolynomialFeatures\n",
        "from sklearn.linear_model import Ridge\n",
        "from sklearn.linear_model import Lasso\n",
        "from sklearn.model_selection import train_test_split\n",
        "from sklearn.metrics import mean_squared_error, mean_absolute_error\n",
        "from sklearn.preprocessing import StandardScaler"
      ],
      "metadata": {
        "id": "qe7A1s4FkeCC"
      },
      "execution_count": 543,
      "outputs": []
    },
    {
      "cell_type": "code",
      "source": [
        "# Pandas configuration for extending the number of rows and columns to visualize, if not limit set parameter to None or -1\n",
        "pd.set_option('display.max_rows', 100)\n",
        "pd.set_option('display.max_columns', 100)"
      ],
      "metadata": {
        "id": "U5B03-ONkpdx"
      },
      "execution_count": 544,
      "outputs": []
    },
    {
      "cell_type": "markdown",
      "source": [
        "### Lectura DataFrame\n",
        "A continuación se hace la primera lectura del archivo CSV."
      ],
      "metadata": {
        "id": "2Q2gYeqSksN4"
      }
    },
    {
      "cell_type": "code",
      "source": [
        "data_df = pd.read_csv('Data_Taller_2.csv', sep=';', decimal=\",\")\n",
        "data_df.head()"
      ],
      "metadata": {
        "colab": {
          "base_uri": "https://localhost:8080/",
          "height": 206
        },
        "id": "y5EJbNGikrdx",
        "outputId": "dc947df7-2e8c-4055-f8ed-55f3b704d3dc"
      },
      "execution_count": 545,
      "outputs": [
        {
          "output_type": "execute_result",
          "data": {
            "text/plain": [
              "   instant       Date    Season Holiday            Weather      Temp  \\\n",
              "0        1  1/01/2020  Springer      No      Mist + Cloudy  8.175849   \n",
              "1        2  2/01/2020  Springer      No      Mist + Cloudy  9.083466   \n",
              "2        3  3/01/2020  Springer      No         Few clouds  1.229108   \n",
              "3        4  4/01/2020  Springer      No         Few clouds  1.400000   \n",
              "4        5  5/01/2020  Springer      No   Partly    cloudy  2.666979   \n",
              "\n",
              "   Feel_Temp       Hum       Wind  Casual  Registered   cnt  \n",
              "0   9.090375  0.805833  10.749882     331         654   985  \n",
              "1   8.625733  0.696087 -16.652113     131         670   801  \n",
              "2   0.902035  0.437273  16.636703     120        1229  1349  \n",
              "3   1.969734  0.590435  10.739832     108        1454  1562  \n",
              "4   2.775690  0.436957  12.522300      82        1518  1600  "
            ],
            "text/html": [
              "\n",
              "  <div id=\"df-8c152aa5-0be2-4983-8962-c017eee11d5e\">\n",
              "    <div class=\"colab-df-container\">\n",
              "      <div>\n",
              "<style scoped>\n",
              "    .dataframe tbody tr th:only-of-type {\n",
              "        vertical-align: middle;\n",
              "    }\n",
              "\n",
              "    .dataframe tbody tr th {\n",
              "        vertical-align: top;\n",
              "    }\n",
              "\n",
              "    .dataframe thead th {\n",
              "        text-align: right;\n",
              "    }\n",
              "</style>\n",
              "<table border=\"1\" class=\"dataframe\">\n",
              "  <thead>\n",
              "    <tr style=\"text-align: right;\">\n",
              "      <th></th>\n",
              "      <th>instant</th>\n",
              "      <th>Date</th>\n",
              "      <th>Season</th>\n",
              "      <th>Holiday</th>\n",
              "      <th>Weather</th>\n",
              "      <th>Temp</th>\n",
              "      <th>Feel_Temp</th>\n",
              "      <th>Hum</th>\n",
              "      <th>Wind</th>\n",
              "      <th>Casual</th>\n",
              "      <th>Registered</th>\n",
              "      <th>cnt</th>\n",
              "    </tr>\n",
              "  </thead>\n",
              "  <tbody>\n",
              "    <tr>\n",
              "      <th>0</th>\n",
              "      <td>1</td>\n",
              "      <td>1/01/2020</td>\n",
              "      <td>Springer</td>\n",
              "      <td>No</td>\n",
              "      <td>Mist + Cloudy</td>\n",
              "      <td>8.175849</td>\n",
              "      <td>9.090375</td>\n",
              "      <td>0.805833</td>\n",
              "      <td>10.749882</td>\n",
              "      <td>331</td>\n",
              "      <td>654</td>\n",
              "      <td>985</td>\n",
              "    </tr>\n",
              "    <tr>\n",
              "      <th>1</th>\n",
              "      <td>2</td>\n",
              "      <td>2/01/2020</td>\n",
              "      <td>Springer</td>\n",
              "      <td>No</td>\n",
              "      <td>Mist + Cloudy</td>\n",
              "      <td>9.083466</td>\n",
              "      <td>8.625733</td>\n",
              "      <td>0.696087</td>\n",
              "      <td>-16.652113</td>\n",
              "      <td>131</td>\n",
              "      <td>670</td>\n",
              "      <td>801</td>\n",
              "    </tr>\n",
              "    <tr>\n",
              "      <th>2</th>\n",
              "      <td>3</td>\n",
              "      <td>3/01/2020</td>\n",
              "      <td>Springer</td>\n",
              "      <td>No</td>\n",
              "      <td>Few clouds</td>\n",
              "      <td>1.229108</td>\n",
              "      <td>0.902035</td>\n",
              "      <td>0.437273</td>\n",
              "      <td>16.636703</td>\n",
              "      <td>120</td>\n",
              "      <td>1229</td>\n",
              "      <td>1349</td>\n",
              "    </tr>\n",
              "    <tr>\n",
              "      <th>3</th>\n",
              "      <td>4</td>\n",
              "      <td>4/01/2020</td>\n",
              "      <td>Springer</td>\n",
              "      <td>No</td>\n",
              "      <td>Few clouds</td>\n",
              "      <td>1.400000</td>\n",
              "      <td>1.969734</td>\n",
              "      <td>0.590435</td>\n",
              "      <td>10.739832</td>\n",
              "      <td>108</td>\n",
              "      <td>1454</td>\n",
              "      <td>1562</td>\n",
              "    </tr>\n",
              "    <tr>\n",
              "      <th>4</th>\n",
              "      <td>5</td>\n",
              "      <td>5/01/2020</td>\n",
              "      <td>Springer</td>\n",
              "      <td>No</td>\n",
              "      <td>Partly    cloudy</td>\n",
              "      <td>2.666979</td>\n",
              "      <td>2.775690</td>\n",
              "      <td>0.436957</td>\n",
              "      <td>12.522300</td>\n",
              "      <td>82</td>\n",
              "      <td>1518</td>\n",
              "      <td>1600</td>\n",
              "    </tr>\n",
              "  </tbody>\n",
              "</table>\n",
              "</div>\n",
              "      <button class=\"colab-df-convert\" onclick=\"convertToInteractive('df-8c152aa5-0be2-4983-8962-c017eee11d5e')\"\n",
              "              title=\"Convert this dataframe to an interactive table.\"\n",
              "              style=\"display:none;\">\n",
              "        \n",
              "  <svg xmlns=\"http://www.w3.org/2000/svg\" height=\"24px\"viewBox=\"0 0 24 24\"\n",
              "       width=\"24px\">\n",
              "    <path d=\"M0 0h24v24H0V0z\" fill=\"none\"/>\n",
              "    <path d=\"M18.56 5.44l.94 2.06.94-2.06 2.06-.94-2.06-.94-.94-2.06-.94 2.06-2.06.94zm-11 1L8.5 8.5l.94-2.06 2.06-.94-2.06-.94L8.5 2.5l-.94 2.06-2.06.94zm10 10l.94 2.06.94-2.06 2.06-.94-2.06-.94-.94-2.06-.94 2.06-2.06.94z\"/><path d=\"M17.41 7.96l-1.37-1.37c-.4-.4-.92-.59-1.43-.59-.52 0-1.04.2-1.43.59L10.3 9.45l-7.72 7.72c-.78.78-.78 2.05 0 2.83L4 21.41c.39.39.9.59 1.41.59.51 0 1.02-.2 1.41-.59l7.78-7.78 2.81-2.81c.8-.78.8-2.07 0-2.86zM5.41 20L4 18.59l7.72-7.72 1.47 1.35L5.41 20z\"/>\n",
              "  </svg>\n",
              "      </button>\n",
              "      \n",
              "  <style>\n",
              "    .colab-df-container {\n",
              "      display:flex;\n",
              "      flex-wrap:wrap;\n",
              "      gap: 12px;\n",
              "    }\n",
              "\n",
              "    .colab-df-convert {\n",
              "      background-color: #E8F0FE;\n",
              "      border: none;\n",
              "      border-radius: 50%;\n",
              "      cursor: pointer;\n",
              "      display: none;\n",
              "      fill: #1967D2;\n",
              "      height: 32px;\n",
              "      padding: 0 0 0 0;\n",
              "      width: 32px;\n",
              "    }\n",
              "\n",
              "    .colab-df-convert:hover {\n",
              "      background-color: #E2EBFA;\n",
              "      box-shadow: 0px 1px 2px rgba(60, 64, 67, 0.3), 0px 1px 3px 1px rgba(60, 64, 67, 0.15);\n",
              "      fill: #174EA6;\n",
              "    }\n",
              "\n",
              "    [theme=dark] .colab-df-convert {\n",
              "      background-color: #3B4455;\n",
              "      fill: #D2E3FC;\n",
              "    }\n",
              "\n",
              "    [theme=dark] .colab-df-convert:hover {\n",
              "      background-color: #434B5C;\n",
              "      box-shadow: 0px 1px 3px 1px rgba(0, 0, 0, 0.15);\n",
              "      filter: drop-shadow(0px 1px 2px rgba(0, 0, 0, 0.3));\n",
              "      fill: #FFFFFF;\n",
              "    }\n",
              "  </style>\n",
              "\n",
              "      <script>\n",
              "        const buttonEl =\n",
              "          document.querySelector('#df-8c152aa5-0be2-4983-8962-c017eee11d5e button.colab-df-convert');\n",
              "        buttonEl.style.display =\n",
              "          google.colab.kernel.accessAllowed ? 'block' : 'none';\n",
              "\n",
              "        async function convertToInteractive(key) {\n",
              "          const element = document.querySelector('#df-8c152aa5-0be2-4983-8962-c017eee11d5e');\n",
              "          const dataTable =\n",
              "            await google.colab.kernel.invokeFunction('convertToInteractive',\n",
              "                                                     [key], {});\n",
              "          if (!dataTable) return;\n",
              "\n",
              "          const docLinkHtml = 'Like what you see? Visit the ' +\n",
              "            '<a target=\"_blank\" href=https://colab.research.google.com/notebooks/data_table.ipynb>data table notebook</a>'\n",
              "            + ' to learn more about interactive tables.';\n",
              "          element.innerHTML = '';\n",
              "          dataTable['output_type'] = 'display_data';\n",
              "          await google.colab.output.renderOutput(dataTable, element);\n",
              "          const docLink = document.createElement('div');\n",
              "          docLink.innerHTML = docLinkHtml;\n",
              "          element.appendChild(docLink);\n",
              "        }\n",
              "      </script>\n",
              "    </div>\n",
              "  </div>\n",
              "  "
            ]
          },
          "metadata": {},
          "execution_count": 545
        }
      ]
    },
    {
      "cell_type": "code",
      "source": [
        "data_df['Date'][424]"
      ],
      "metadata": {
        "colab": {
          "base_uri": "https://localhost:8080/",
          "height": 35
        },
        "id": "xzxSh6auWOgm",
        "outputId": "59377f9e-40c0-4ef4-8acc-6031e3c0fbee"
      },
      "execution_count": 546,
      "outputs": [
        {
          "output_type": "execute_result",
          "data": {
            "text/plain": [
              "'29/02/2021'"
            ],
            "application/vnd.google.colaboratory.intrinsic+json": {
              "type": "string"
            }
          },
          "metadata": {},
          "execution_count": 546
        }
      ]
    },
    {
      "cell_type": "markdown",
      "source": [
        "Como el año 2021 no es bisiesto, reemplazamos el día 29 de febrero por el día 28 de febrero:"
      ],
      "metadata": {
        "id": "_gEGuFVhWQcI"
      }
    },
    {
      "cell_type": "code",
      "source": [
        "data_df.at[424, 'Date'] = '28/02/2021'"
      ],
      "metadata": {
        "id": "pFDvcTgAWYsP"
      },
      "execution_count": 547,
      "outputs": []
    },
    {
      "cell_type": "markdown",
      "source": [
        "Transformamos la columna a Date:"
      ],
      "metadata": {
        "id": "hEVZNAGWWqNz"
      }
    },
    {
      "cell_type": "code",
      "source": [
        "data_df['Date'] = pd.to_datetime(data_df['Date'],  format='%d/%m/%Y')"
      ],
      "metadata": {
        "id": "3HFj5kU2lO5R"
      },
      "execution_count": 548,
      "outputs": []
    },
    {
      "cell_type": "code",
      "source": [
        "data_df['Date']"
      ],
      "metadata": {
        "colab": {
          "base_uri": "https://localhost:8080/"
        },
        "id": "xtx4OWZzV_R4",
        "outputId": "6e6786bd-a479-4c95-af20-dc90a421552b"
      },
      "execution_count": 549,
      "outputs": [
        {
          "output_type": "execute_result",
          "data": {
            "text/plain": [
              "0     2020-01-01\n",
              "1     2020-01-02\n",
              "2     2020-01-03\n",
              "3     2020-01-04\n",
              "4     2020-01-05\n",
              "         ...    \n",
              "726   2021-12-27\n",
              "727   2021-12-28\n",
              "728   2021-12-29\n",
              "729   2021-12-30\n",
              "730   2021-12-31\n",
              "Name: Date, Length: 731, dtype: datetime64[ns]"
            ]
          },
          "metadata": {},
          "execution_count": 549
        }
      ]
    },
    {
      "cell_type": "markdown",
      "source": [
        "## Limpieza y preparación de datos\n",
        "Búsqueda y corrección de valores atípicos, valores faltantes y duplicados; ya que el dataset no es muy extenso deberá abstenerse de eliminar registros. Así mismo, genere nuevas variables con base en la información suministrada. "
      ],
      "metadata": {
        "id": "fIhGnXKAlPPs"
      }
    },
    {
      "cell_type": "code",
      "source": [
        "data_df.shape"
      ],
      "metadata": {
        "colab": {
          "base_uri": "https://localhost:8080/"
        },
        "id": "Yz4GLAEAlTaY",
        "outputId": "15e9e2d0-ca4a-45e9-c4bb-d4384bdb4d9a"
      },
      "execution_count": 550,
      "outputs": [
        {
          "output_type": "execute_result",
          "data": {
            "text/plain": [
              "(731, 12)"
            ]
          },
          "metadata": {},
          "execution_count": 550
        }
      ]
    },
    {
      "cell_type": "code",
      "source": [
        "data_df[data_df.duplicated(keep=False)].sort_values('instant')"
      ],
      "metadata": {
        "colab": {
          "base_uri": "https://localhost:8080/",
          "height": 49
        },
        "id": "1dE-Xbd-pd0J",
        "outputId": "5da0e313-a525-49c5-e885-fde145d9b183"
      },
      "execution_count": 551,
      "outputs": [
        {
          "output_type": "execute_result",
          "data": {
            "text/plain": [
              "Empty DataFrame\n",
              "Columns: [instant, Date, Season, Holiday, Weather, Temp, Feel_Temp, Hum, Wind, Casual, Registered, cnt]\n",
              "Index: []"
            ],
            "text/html": [
              "\n",
              "  <div id=\"df-5ae475d4-43b3-4a98-b291-ec23c1c11ae7\">\n",
              "    <div class=\"colab-df-container\">\n",
              "      <div>\n",
              "<style scoped>\n",
              "    .dataframe tbody tr th:only-of-type {\n",
              "        vertical-align: middle;\n",
              "    }\n",
              "\n",
              "    .dataframe tbody tr th {\n",
              "        vertical-align: top;\n",
              "    }\n",
              "\n",
              "    .dataframe thead th {\n",
              "        text-align: right;\n",
              "    }\n",
              "</style>\n",
              "<table border=\"1\" class=\"dataframe\">\n",
              "  <thead>\n",
              "    <tr style=\"text-align: right;\">\n",
              "      <th></th>\n",
              "      <th>instant</th>\n",
              "      <th>Date</th>\n",
              "      <th>Season</th>\n",
              "      <th>Holiday</th>\n",
              "      <th>Weather</th>\n",
              "      <th>Temp</th>\n",
              "      <th>Feel_Temp</th>\n",
              "      <th>Hum</th>\n",
              "      <th>Wind</th>\n",
              "      <th>Casual</th>\n",
              "      <th>Registered</th>\n",
              "      <th>cnt</th>\n",
              "    </tr>\n",
              "  </thead>\n",
              "  <tbody>\n",
              "  </tbody>\n",
              "</table>\n",
              "</div>\n",
              "      <button class=\"colab-df-convert\" onclick=\"convertToInteractive('df-5ae475d4-43b3-4a98-b291-ec23c1c11ae7')\"\n",
              "              title=\"Convert this dataframe to an interactive table.\"\n",
              "              style=\"display:none;\">\n",
              "        \n",
              "  <svg xmlns=\"http://www.w3.org/2000/svg\" height=\"24px\"viewBox=\"0 0 24 24\"\n",
              "       width=\"24px\">\n",
              "    <path d=\"M0 0h24v24H0V0z\" fill=\"none\"/>\n",
              "    <path d=\"M18.56 5.44l.94 2.06.94-2.06 2.06-.94-2.06-.94-.94-2.06-.94 2.06-2.06.94zm-11 1L8.5 8.5l.94-2.06 2.06-.94-2.06-.94L8.5 2.5l-.94 2.06-2.06.94zm10 10l.94 2.06.94-2.06 2.06-.94-2.06-.94-.94-2.06-.94 2.06-2.06.94z\"/><path d=\"M17.41 7.96l-1.37-1.37c-.4-.4-.92-.59-1.43-.59-.52 0-1.04.2-1.43.59L10.3 9.45l-7.72 7.72c-.78.78-.78 2.05 0 2.83L4 21.41c.39.39.9.59 1.41.59.51 0 1.02-.2 1.41-.59l7.78-7.78 2.81-2.81c.8-.78.8-2.07 0-2.86zM5.41 20L4 18.59l7.72-7.72 1.47 1.35L5.41 20z\"/>\n",
              "  </svg>\n",
              "      </button>\n",
              "      \n",
              "  <style>\n",
              "    .colab-df-container {\n",
              "      display:flex;\n",
              "      flex-wrap:wrap;\n",
              "      gap: 12px;\n",
              "    }\n",
              "\n",
              "    .colab-df-convert {\n",
              "      background-color: #E8F0FE;\n",
              "      border: none;\n",
              "      border-radius: 50%;\n",
              "      cursor: pointer;\n",
              "      display: none;\n",
              "      fill: #1967D2;\n",
              "      height: 32px;\n",
              "      padding: 0 0 0 0;\n",
              "      width: 32px;\n",
              "    }\n",
              "\n",
              "    .colab-df-convert:hover {\n",
              "      background-color: #E2EBFA;\n",
              "      box-shadow: 0px 1px 2px rgba(60, 64, 67, 0.3), 0px 1px 3px 1px rgba(60, 64, 67, 0.15);\n",
              "      fill: #174EA6;\n",
              "    }\n",
              "\n",
              "    [theme=dark] .colab-df-convert {\n",
              "      background-color: #3B4455;\n",
              "      fill: #D2E3FC;\n",
              "    }\n",
              "\n",
              "    [theme=dark] .colab-df-convert:hover {\n",
              "      background-color: #434B5C;\n",
              "      box-shadow: 0px 1px 3px 1px rgba(0, 0, 0, 0.15);\n",
              "      filter: drop-shadow(0px 1px 2px rgba(0, 0, 0, 0.3));\n",
              "      fill: #FFFFFF;\n",
              "    }\n",
              "  </style>\n",
              "\n",
              "      <script>\n",
              "        const buttonEl =\n",
              "          document.querySelector('#df-5ae475d4-43b3-4a98-b291-ec23c1c11ae7 button.colab-df-convert');\n",
              "        buttonEl.style.display =\n",
              "          google.colab.kernel.accessAllowed ? 'block' : 'none';\n",
              "\n",
              "        async function convertToInteractive(key) {\n",
              "          const element = document.querySelector('#df-5ae475d4-43b3-4a98-b291-ec23c1c11ae7');\n",
              "          const dataTable =\n",
              "            await google.colab.kernel.invokeFunction('convertToInteractive',\n",
              "                                                     [key], {});\n",
              "          if (!dataTable) return;\n",
              "\n",
              "          const docLinkHtml = 'Like what you see? Visit the ' +\n",
              "            '<a target=\"_blank\" href=https://colab.research.google.com/notebooks/data_table.ipynb>data table notebook</a>'\n",
              "            + ' to learn more about interactive tables.';\n",
              "          element.innerHTML = '';\n",
              "          dataTable['output_type'] = 'display_data';\n",
              "          await google.colab.output.renderOutput(dataTable, element);\n",
              "          const docLink = document.createElement('div');\n",
              "          docLink.innerHTML = docLinkHtml;\n",
              "          element.appendChild(docLink);\n",
              "        }\n",
              "      </script>\n",
              "    </div>\n",
              "  </div>\n",
              "  "
            ]
          },
          "metadata": {},
          "execution_count": 551
        }
      ]
    },
    {
      "cell_type": "markdown",
      "source": [
        "Se observa que el dataset no contiene registros duplicados."
      ],
      "metadata": {
        "id": "D10oV5dX_9r_"
      }
    },
    {
      "cell_type": "code",
      "source": [
        "data_df['Weather'].unique()"
      ],
      "metadata": {
        "colab": {
          "base_uri": "https://localhost:8080/"
        },
        "id": "nW1zbMZme1Z4",
        "outputId": "95ae2877-9105-43f2-d036-5621abb882b2"
      },
      "execution_count": 552,
      "outputs": [
        {
          "output_type": "execute_result",
          "data": {
            "text/plain": [
              "array(['Mist + Cloudy', 'Few clouds', ' Partly    cloudy', 'Clear',\n",
              "       'Mist', 'Mist + Broken clouds', ' Partly cloudy',\n",
              "       'Mist + Few clouds', 'Rain + Thunderstorm',\n",
              "       'Light Rain + Scattered clouds', 'Snow'], dtype=object)"
            ]
          },
          "metadata": {},
          "execution_count": 552
        }
      ]
    },
    {
      "cell_type": "markdown",
      "source": [
        "Se observa que la variable `Weather` tiene registros malformados de' Partly    cloudy' y ' Partly cloudy'. Se procede a dejar un sólo valor."
      ],
      "metadata": {
        "id": "9uJlMseYe5Qz"
      }
    },
    {
      "cell_type": "code",
      "source": [
        "data_df['Weather'] = data_df['Weather'].replace({' Partly    cloudy': 'Partly cloudy', ' Partly cloudy': 'Partly cloudy'})"
      ],
      "metadata": {
        "id": "KVkIhJUFe1nf"
      },
      "execution_count": 553,
      "outputs": []
    },
    {
      "cell_type": "code",
      "source": [
        "data_df['Weather'].unique()"
      ],
      "metadata": {
        "colab": {
          "base_uri": "https://localhost:8080/"
        },
        "id": "9CWwDyElfVkS",
        "outputId": "60d59c64-0336-49b3-8fa9-d596b8918508"
      },
      "execution_count": 554,
      "outputs": [
        {
          "output_type": "execute_result",
          "data": {
            "text/plain": [
              "array(['Mist + Cloudy', 'Few clouds', 'Partly cloudy', 'Clear', 'Mist',\n",
              "       'Mist + Broken clouds', 'Mist + Few clouds', 'Rain + Thunderstorm',\n",
              "       'Light Rain + Scattered clouds', 'Snow'], dtype=object)"
            ]
          },
          "metadata": {},
          "execution_count": 554
        }
      ]
    },
    {
      "cell_type": "markdown",
      "source": [
        "Valores nulos"
      ],
      "metadata": {
        "id": "ue2zWOUvJHK-"
      }
    },
    {
      "cell_type": "code",
      "source": [
        "null_data_df = data_df[data_df.isnull().any(axis=1)]\n",
        "null_data_df"
      ],
      "metadata": {
        "id": "iUF_q_xSprGZ",
        "outputId": "64343a73-c8fd-4520-ab39-95a3c52357ce",
        "colab": {
          "base_uri": "https://localhost:8080/",
          "height": 175
        }
      },
      "execution_count": 555,
      "outputs": [
        {
          "output_type": "execute_result",
          "data": {
            "text/plain": [
              "     instant       Date    Season Holiday            Weather  Temp  Feel_Temp  \\\n",
              "99       100 2020-04-10    Summer      No  Mist + Few clouds   NaN  12.056639   \n",
              "229      230 2020-08-18      Fall      No      Partly cloudy   NaN  23.126126   \n",
              "562      563 2021-07-16      Fall      No              Clear   NaN  26.033875   \n",
              "721      722 2021-12-22  Springer      No      Partly cloudy   NaN   3.097311   \n",
              "\n",
              "           Hum       Wind  Casual  Registered   cnt  \n",
              "99    0.857500   9.833389    1188        1707  2895  \n",
              "229   0.654583  15.624936     639        3166  3805  \n",
              "562   0.645000  11.000529    1088        5742  6830  \n",
              "721  10.441250  27.292182     205        1544  1749  "
            ],
            "text/html": [
              "\n",
              "  <div id=\"df-c0457851-4775-47ad-a91a-938e6a7b8a26\">\n",
              "    <div class=\"colab-df-container\">\n",
              "      <div>\n",
              "<style scoped>\n",
              "    .dataframe tbody tr th:only-of-type {\n",
              "        vertical-align: middle;\n",
              "    }\n",
              "\n",
              "    .dataframe tbody tr th {\n",
              "        vertical-align: top;\n",
              "    }\n",
              "\n",
              "    .dataframe thead th {\n",
              "        text-align: right;\n",
              "    }\n",
              "</style>\n",
              "<table border=\"1\" class=\"dataframe\">\n",
              "  <thead>\n",
              "    <tr style=\"text-align: right;\">\n",
              "      <th></th>\n",
              "      <th>instant</th>\n",
              "      <th>Date</th>\n",
              "      <th>Season</th>\n",
              "      <th>Holiday</th>\n",
              "      <th>Weather</th>\n",
              "      <th>Temp</th>\n",
              "      <th>Feel_Temp</th>\n",
              "      <th>Hum</th>\n",
              "      <th>Wind</th>\n",
              "      <th>Casual</th>\n",
              "      <th>Registered</th>\n",
              "      <th>cnt</th>\n",
              "    </tr>\n",
              "  </thead>\n",
              "  <tbody>\n",
              "    <tr>\n",
              "      <th>99</th>\n",
              "      <td>100</td>\n",
              "      <td>2020-04-10</td>\n",
              "      <td>Summer</td>\n",
              "      <td>No</td>\n",
              "      <td>Mist + Few clouds</td>\n",
              "      <td>NaN</td>\n",
              "      <td>12.056639</td>\n",
              "      <td>0.857500</td>\n",
              "      <td>9.833389</td>\n",
              "      <td>1188</td>\n",
              "      <td>1707</td>\n",
              "      <td>2895</td>\n",
              "    </tr>\n",
              "    <tr>\n",
              "      <th>229</th>\n",
              "      <td>230</td>\n",
              "      <td>2020-08-18</td>\n",
              "      <td>Fall</td>\n",
              "      <td>No</td>\n",
              "      <td>Partly cloudy</td>\n",
              "      <td>NaN</td>\n",
              "      <td>23.126126</td>\n",
              "      <td>0.654583</td>\n",
              "      <td>15.624936</td>\n",
              "      <td>639</td>\n",
              "      <td>3166</td>\n",
              "      <td>3805</td>\n",
              "    </tr>\n",
              "    <tr>\n",
              "      <th>562</th>\n",
              "      <td>563</td>\n",
              "      <td>2021-07-16</td>\n",
              "      <td>Fall</td>\n",
              "      <td>No</td>\n",
              "      <td>Clear</td>\n",
              "      <td>NaN</td>\n",
              "      <td>26.033875</td>\n",
              "      <td>0.645000</td>\n",
              "      <td>11.000529</td>\n",
              "      <td>1088</td>\n",
              "      <td>5742</td>\n",
              "      <td>6830</td>\n",
              "    </tr>\n",
              "    <tr>\n",
              "      <th>721</th>\n",
              "      <td>722</td>\n",
              "      <td>2021-12-22</td>\n",
              "      <td>Springer</td>\n",
              "      <td>No</td>\n",
              "      <td>Partly cloudy</td>\n",
              "      <td>NaN</td>\n",
              "      <td>3.097311</td>\n",
              "      <td>10.441250</td>\n",
              "      <td>27.292182</td>\n",
              "      <td>205</td>\n",
              "      <td>1544</td>\n",
              "      <td>1749</td>\n",
              "    </tr>\n",
              "  </tbody>\n",
              "</table>\n",
              "</div>\n",
              "      <button class=\"colab-df-convert\" onclick=\"convertToInteractive('df-c0457851-4775-47ad-a91a-938e6a7b8a26')\"\n",
              "              title=\"Convert this dataframe to an interactive table.\"\n",
              "              style=\"display:none;\">\n",
              "        \n",
              "  <svg xmlns=\"http://www.w3.org/2000/svg\" height=\"24px\"viewBox=\"0 0 24 24\"\n",
              "       width=\"24px\">\n",
              "    <path d=\"M0 0h24v24H0V0z\" fill=\"none\"/>\n",
              "    <path d=\"M18.56 5.44l.94 2.06.94-2.06 2.06-.94-2.06-.94-.94-2.06-.94 2.06-2.06.94zm-11 1L8.5 8.5l.94-2.06 2.06-.94-2.06-.94L8.5 2.5l-.94 2.06-2.06.94zm10 10l.94 2.06.94-2.06 2.06-.94-2.06-.94-.94-2.06-.94 2.06-2.06.94z\"/><path d=\"M17.41 7.96l-1.37-1.37c-.4-.4-.92-.59-1.43-.59-.52 0-1.04.2-1.43.59L10.3 9.45l-7.72 7.72c-.78.78-.78 2.05 0 2.83L4 21.41c.39.39.9.59 1.41.59.51 0 1.02-.2 1.41-.59l7.78-7.78 2.81-2.81c.8-.78.8-2.07 0-2.86zM5.41 20L4 18.59l7.72-7.72 1.47 1.35L5.41 20z\"/>\n",
              "  </svg>\n",
              "      </button>\n",
              "      \n",
              "  <style>\n",
              "    .colab-df-container {\n",
              "      display:flex;\n",
              "      flex-wrap:wrap;\n",
              "      gap: 12px;\n",
              "    }\n",
              "\n",
              "    .colab-df-convert {\n",
              "      background-color: #E8F0FE;\n",
              "      border: none;\n",
              "      border-radius: 50%;\n",
              "      cursor: pointer;\n",
              "      display: none;\n",
              "      fill: #1967D2;\n",
              "      height: 32px;\n",
              "      padding: 0 0 0 0;\n",
              "      width: 32px;\n",
              "    }\n",
              "\n",
              "    .colab-df-convert:hover {\n",
              "      background-color: #E2EBFA;\n",
              "      box-shadow: 0px 1px 2px rgba(60, 64, 67, 0.3), 0px 1px 3px 1px rgba(60, 64, 67, 0.15);\n",
              "      fill: #174EA6;\n",
              "    }\n",
              "\n",
              "    [theme=dark] .colab-df-convert {\n",
              "      background-color: #3B4455;\n",
              "      fill: #D2E3FC;\n",
              "    }\n",
              "\n",
              "    [theme=dark] .colab-df-convert:hover {\n",
              "      background-color: #434B5C;\n",
              "      box-shadow: 0px 1px 3px 1px rgba(0, 0, 0, 0.15);\n",
              "      filter: drop-shadow(0px 1px 2px rgba(0, 0, 0, 0.3));\n",
              "      fill: #FFFFFF;\n",
              "    }\n",
              "  </style>\n",
              "\n",
              "      <script>\n",
              "        const buttonEl =\n",
              "          document.querySelector('#df-c0457851-4775-47ad-a91a-938e6a7b8a26 button.colab-df-convert');\n",
              "        buttonEl.style.display =\n",
              "          google.colab.kernel.accessAllowed ? 'block' : 'none';\n",
              "\n",
              "        async function convertToInteractive(key) {\n",
              "          const element = document.querySelector('#df-c0457851-4775-47ad-a91a-938e6a7b8a26');\n",
              "          const dataTable =\n",
              "            await google.colab.kernel.invokeFunction('convertToInteractive',\n",
              "                                                     [key], {});\n",
              "          if (!dataTable) return;\n",
              "\n",
              "          const docLinkHtml = 'Like what you see? Visit the ' +\n",
              "            '<a target=\"_blank\" href=https://colab.research.google.com/notebooks/data_table.ipynb>data table notebook</a>'\n",
              "            + ' to learn more about interactive tables.';\n",
              "          element.innerHTML = '';\n",
              "          dataTable['output_type'] = 'display_data';\n",
              "          await google.colab.output.renderOutput(dataTable, element);\n",
              "          const docLink = document.createElement('div');\n",
              "          docLink.innerHTML = docLinkHtml;\n",
              "          element.appendChild(docLink);\n",
              "        }\n",
              "      </script>\n",
              "    </div>\n",
              "  </div>\n",
              "  "
            ]
          },
          "metadata": {},
          "execution_count": 555
        }
      ]
    },
    {
      "cell_type": "markdown",
      "source": [
        "Observamos que 4 registros no contienen datos para la columna `Temp`. Dado que el conjunto de datos es reducido, imputaremos los valores. Para ello se analizará la relación de la variable Temp con otras variables:"
      ],
      "metadata": {
        "id": "4FhSA0ccAHfG"
      }
    },
    {
      "cell_type": "code",
      "source": [
        "fig, ax = plt.subplots(figsize=(10, 8))\n",
        "sns.histplot(data=data_df, x= 'Temp', hue='Weather')"
      ],
      "metadata": {
        "colab": {
          "base_uri": "https://localhost:8080/",
          "height": 514
        },
        "id": "aPdDnaynNA5J",
        "outputId": "dfaab7ce-3343-46d8-9873-e0f0043fbe02"
      },
      "execution_count": 556,
      "outputs": [
        {
          "output_type": "execute_result",
          "data": {
            "text/plain": [
              "<matplotlib.axes._subplots.AxesSubplot at 0x7fbc4096c2d0>"
            ]
          },
          "metadata": {},
          "execution_count": 556
        },
        {
          "output_type": "display_data",
          "data": {
            "text/plain": [
              "<Figure size 720x576 with 1 Axes>"
            ],
            "image/png": "[encoded data removed]"
          },
          "metadata": {
            "needs_background": "light"
          }
        }
      ]
    },
    {
      "cell_type": "code",
      "source": [
        "fig, ax = plt.subplots(figsize=(10, 8))\n",
        "sns.histplot(data=data_df, x= 'Temp', hue='Season')"
      ],
      "metadata": {
        "colab": {
          "base_uri": "https://localhost:8080/",
          "height": 514
        },
        "id": "09C6HPq1QEtg",
        "outputId": "c5600c6c-f2e8-4b73-ec2f-77c657929a32"
      },
      "execution_count": 557,
      "outputs": [
        {
          "output_type": "execute_result",
          "data": {
            "text/plain": [
              "<matplotlib.axes._subplots.AxesSubplot at 0x7fbc4703db10>"
            ]
          },
          "metadata": {},
          "execution_count": 557
        },
        {
          "output_type": "display_data",
          "data": {
            "text/plain": [
              "<Figure size 720x576 with 1 Axes>"
            ],
            "image/png": "[encoded data removed]"
          },
          "metadata": {
            "needs_background": "light"
          }
        }
      ]
    },
    {
      "cell_type": "code",
      "source": [
        "fig, axs = plt.subplots(1, 3, figsize=(20, 5))\n",
        "\n",
        "sns.scatterplot(data=data_df, x= 'Temp', y='Hum', ax=axs[0]).set(Title='Temp vs Hum')\n",
        "sns.scatterplot(data=data_df, x= 'Temp', y='Wind',ax=axs[1]).set(Title='Temp vs Wind')\n",
        "sns.scatterplot(data=data_df, x= 'Temp', y='Feel_Temp',ax=axs[2]).set(Title='Temp vs Feel_Temp')"
      ],
      "metadata": {
        "colab": {
          "base_uri": "https://localhost:8080/",
          "height": 367
        },
        "id": "LCEwkv0FOkAF",
        "outputId": "4f21d433-7855-4c7c-c991-ed1ccf7a124e"
      },
      "execution_count": 558,
      "outputs": [
        {
          "output_type": "execute_result",
          "data": {
            "text/plain": [
              "[Text(0.5, 1.0, 'Temp vs Feel_Temp')]"
            ]
          },
          "metadata": {},
          "execution_count": 558
        },
        {
          "output_type": "display_data",
          "data": {
            "text/plain": [
              "<Figure size 1440x360 with 3 Axes>"
            ],
            "image/png": "[encoded data removed]"
          },
          "metadata": {
            "needs_background": "light"
          }
        }
      ]
    },
    {
      "cell_type": "markdown",
      "source": [
        "De acuerdo al resultado anterior vemos que la temperatura varía de acuerdo a los valores categóricos de la variable `Weather` y también de la variable `season`. La dependencia lineal con la variable `Hum` es baja y en menor medida de la variable `Wind`. Asimismo, observamos una fuerte correlación lineal con la variable `Feel_Temp`, razón por la cual usaremos esta variable para predecir los valores faltantes de la variable `Temp`. Para realizar esta imputación, se creará un modelo de regresión lineal simple entre la variable `Temp` y `Feel_Temp`, se entrenará con los valores no nulos y se predecirán los valores nulos:"
      ],
      "metadata": {
        "id": "1yXKqG7uQxc3"
      }
    },
    {
      "cell_type": "code",
      "source": [
        "#Modelo de regresión lineal\n",
        "lin_reg_temp = LinearRegression()\n",
        "lin_reg_temp.fit(data_df[~data_df.isnull().any(axis=1)]['Feel_Temp'].values.reshape(-1,1), data_df[~data_df.isnull().any(axis=1)]['Temp'].values.reshape(-1,1))\n",
        "null_data_df['Feel_Temp']"
      ],
      "metadata": {
        "colab": {
          "base_uri": "https://localhost:8080/"
        },
        "id": "kbZa4DA0UoHH",
        "outputId": "744484b3-7361-45d8-bc6b-3adfde806f70"
      },
      "execution_count": 559,
      "outputs": [
        {
          "output_type": "execute_result",
          "data": {
            "text/plain": [
              "99     12.056639\n",
              "229    23.126126\n",
              "562    26.033875\n",
              "721     3.097311\n",
              "Name: Feel_Temp, dtype: float64"
            ]
          },
          "metadata": {},
          "execution_count": 559
        }
      ]
    },
    {
      "cell_type": "code",
      "source": [
        "#Predicción de los valores nulos\n",
        "lin_reg_temp.predict(null_data_df['Feel_Temp'].values.reshape(-1,1))"
      ],
      "metadata": {
        "colab": {
          "base_uri": "https://localhost:8080/"
        },
        "id": "RSFTpLFzVi_P",
        "outputId": "a1ed8ab9-8b2d-4e74-b806-1fef160917c2"
      },
      "execution_count": 560,
      "outputs": [
        {
          "output_type": "execute_result",
          "data": {
            "text/plain": [
              "array([[12.78791068],\n",
              "       [25.12406661],\n",
              "       [28.36454605],\n",
              "       [ 2.80337688]])"
            ]
          },
          "metadata": {},
          "execution_count": 560
        }
      ]
    },
    {
      "cell_type": "code",
      "source": [
        "#Asignación de la predicción a los valores nulos:\n",
        "data_df.at[99, 'Temp'] = 12.78791068\n",
        "data_df.at[229, 'Temp'] = 25.12406661\n",
        "data_df.at[562, 'Temp'] = 26.033875\n",
        "data_df.at[721, 'Temp'] = 3.097311"
      ],
      "metadata": {
        "id": "ZpsbJpJ2Xx3c"
      },
      "execution_count": 561,
      "outputs": []
    },
    {
      "cell_type": "code",
      "source": [
        "msno.matrix(data_df)"
      ],
      "metadata": {
        "colab": {
          "base_uri": "https://localhost:8080/",
          "height": 681
        },
        "id": "Q6xGG-W_YXav",
        "outputId": "a2041e3d-021f-4761-821b-e7def2415ae5"
      },
      "execution_count": 562,
      "outputs": [
        {
          "output_type": "execute_result",
          "data": {
            "text/plain": [
              "<matplotlib.axes._subplots.AxesSubplot at 0x7fbc4cdb3190>"
            ]
          },
          "metadata": {},
          "execution_count": 562
        },
        {
          "output_type": "display_data",
          "data": {
            "text/plain": [
              "<Figure size 1800x720 with 2 Axes>"
            ],
            "image/png": "[encoded data removed]"
          },
          "metadata": {
            "needs_background": "light"
          }
        }
      ]
    },
    {
      "cell_type": "markdown",
      "source": [
        "De esta manera no contamos con más valores nulos en el conjunto de datos."
      ],
      "metadata": {
        "id": "Ve9_gBWpBJ88"
      }
    },
    {
      "cell_type": "markdown",
      "source": [
        "Con respecto a los **valores atípicos**, estos se tratarán en la siguiente sección de **Análisis de datos**."
      ],
      "metadata": {
        "id": "Us6yxVLEgSdt"
      }
    },
    {
      "cell_type": "markdown",
      "source": [
        "### Feature Engineering"
      ],
      "metadata": {
        "id": "0e0bF91-qRPm"
      }
    },
    {
      "cell_type": "markdown",
      "source": [
        "La variable objetivo es `cnt`. Como el número de usuarios registrados y el de usuarios casuales no se conoce para datos nuevos, se creará una ventana de promedio móvil de 5 días, de tal manera que para un día en particular, asignaremos el promedio de los 5 días anteriores. Y para los primeros 5 días, asignaremos el valor dado por la varibale."
      ],
      "metadata": {
        "id": "keC0z9EwuzoI"
      }
    },
    {
      "cell_type": "code",
      "source": [
        "data_df['casual_avg'] = data_df['Casual'].rolling(window = 5).mean()\n",
        "data_df.loc[data_df['casual_avg'].isnull(), 'casual_avg'] = data_df['Casual']"
      ],
      "metadata": {
        "id": "XqkFhVTlkeYq"
      },
      "execution_count": 563,
      "outputs": []
    },
    {
      "cell_type": "code",
      "source": [
        "data_df['casual_avg']"
      ],
      "metadata": {
        "colab": {
          "base_uri": "https://localhost:8080/"
        },
        "id": "fretTtSnqLkg",
        "outputId": "80d87055-2b47-4c10-a147-7ec9a6da3272"
      },
      "execution_count": 564,
      "outputs": [
        {
          "output_type": "execute_result",
          "data": {
            "text/plain": [
              "0      331.0\n",
              "1      131.0\n",
              "2      120.0\n",
              "3      108.0\n",
              "4      154.4\n",
              "       ...  \n",
              "726    255.6\n",
              "727    302.8\n",
              "728    299.8\n",
              "729    284.6\n",
              "730    370.6\n",
              "Name: casual_avg, Length: 731, dtype: float64"
            ]
          },
          "metadata": {},
          "execution_count": 564
        }
      ]
    },
    {
      "cell_type": "markdown",
      "source": [
        "Asimismo, con la variable `Registered`, se creará una variable adicional con el promedio móvil de 5 días:"
      ],
      "metadata": {
        "id": "zTZFMtnumMKx"
      }
    },
    {
      "cell_type": "code",
      "source": [
        "data_df['registered_avg'] = data_df['Registered'].rolling(window = 5).mean()\n",
        "data_df.loc[data_df['registered_avg'].isnull(), 'registered_avg'] = data_df['Registered']"
      ],
      "metadata": {
        "id": "gb-eDiKimLh1"
      },
      "execution_count": 565,
      "outputs": []
    },
    {
      "cell_type": "code",
      "source": [
        "data_df['registered_avg']"
      ],
      "metadata": {
        "colab": {
          "base_uri": "https://localhost:8080/"
        },
        "id": "1uTOzsZDmanL",
        "outputId": "c1569fb0-0260-4563-aba1-341040e4666a"
      },
      "execution_count": 566,
      "outputs": [
        {
          "output_type": "execute_result",
          "data": {
            "text/plain": [
              "0       654.0\n",
              "1       670.0\n",
              "2      1229.0\n",
              "3      1454.0\n",
              "4      1105.0\n",
              "        ...  \n",
              "726     999.4\n",
              "727    1213.8\n",
              "728    1301.0\n",
              "729    1472.8\n",
              "730    1844.4\n",
              "Name: registered_avg, Length: 731, dtype: float64"
            ]
          },
          "metadata": {},
          "execution_count": 566
        }
      ]
    },
    {
      "cell_type": "markdown",
      "source": [
        "Para hacer uso de la variable `Date` extraemos el día de la semana y el mes:"
      ],
      "metadata": {
        "id": "lGkzzI8oc2V2"
      }
    },
    {
      "cell_type": "code",
      "source": [
        "data_df['day_week'] = data_df['Date'].dt.dayofweek\n",
        "data_df['month'] = data_df['Date'].dt.month"
      ],
      "metadata": {
        "id": "HwilZZcHc_Ke"
      },
      "execution_count": 567,
      "outputs": []
    },
    {
      "cell_type": "markdown",
      "source": [
        "## Análisis de datos \n",
        "Analice las variables del dataset, entienda sus distribuciones y correlaciones, utilice ayudas visuales. "
      ],
      "metadata": {
        "id": "tWGIm8KYlT3m"
      }
    },
    {
      "cell_type": "code",
      "source": [
        "data_df.columns"
      ],
      "metadata": {
        "id": "8eAcYjVrlWjf",
        "colab": {
          "base_uri": "https://localhost:8080/"
        },
        "outputId": "f9dd64cd-9959-40cc-813f-97a5f9aef7a9"
      },
      "execution_count": 568,
      "outputs": [
        {
          "output_type": "execute_result",
          "data": {
            "text/plain": [
              "Index(['instant', 'Date', 'Season', 'Holiday', 'Weather', 'Temp', 'Feel_Temp',\n",
              "       'Hum', 'Wind', 'Casual', 'Registered', 'cnt', 'casual_avg',\n",
              "       'registered_avg', 'day_week', 'month'],\n",
              "      dtype='object')"
            ]
          },
          "metadata": {},
          "execution_count": 568
        }
      ]
    },
    {
      "cell_type": "markdown",
      "source": [
        "Variables **Categóricas**:\n",
        "* Variables nominales:\n",
        "  * Season\n",
        "  * Weather\n",
        "  * Holiday\n",
        "* Variables ordinales:\n",
        "  * Date\n",
        "\n",
        "Variables **Cuantitativas**:\n",
        "* Variables continuas:\n",
        "  * Temp\n",
        "  * Feel Temp\n",
        "  * Hum\n",
        "  * Wind\n",
        "  * Casual\n",
        "  * Registered\n",
        "  * cnt\n",
        "* Variables discretas:"
      ],
      "metadata": {
        "id": "Z9k_8w7BdJgW"
      }
    },
    {
      "cell_type": "markdown",
      "source": [
        "### Variable `Season`"
      ],
      "metadata": {
        "id": "4WURQwQSchid"
      }
    },
    {
      "cell_type": "code",
      "source": [
        "ax = sns.countplot(data=data_df, x='Season', color=\"olive\")\n",
        "ax.set(title = 'Distribución de la variable Season')\n",
        "total = float(len(data_df['Season']))\n",
        "for p in ax.patches:\n",
        "    percentage = '{:.1f}%'.format(100 * p.get_height()/total)\n",
        "    x = p.get_x() + p.get_width()\n",
        "    y = p.get_height()\n",
        "    ax.annotate(percentage, (x, y),ha='center')\n",
        "plt.show()"
      ],
      "metadata": {
        "id": "8N93EzDRZQVM",
        "colab": {
          "base_uri": "https://localhost:8080/",
          "height": 295
        },
        "outputId": "0c49773a-9a4e-49e7-dfb9-260aa18a599c"
      },
      "execution_count": 569,
      "outputs": [
        {
          "output_type": "display_data",
          "data": {
            "text/plain": [
              "<Figure size 432x288 with 1 Axes>"
            ],
            "image/png": "[encoded data removed]"
          },
          "metadata": {
            "needs_background": "light"
          }
        }
      ]
    },
    {
      "cell_type": "markdown",
      "source": [
        "Esta variable toma 4 categorías (Springer, Summer, Fall, Winter), distribuídas de manera casi equitativa."
      ],
      "metadata": {
        "id": "WW303bkOcnjs"
      }
    },
    {
      "cell_type": "markdown",
      "source": [
        "### Variable `Holiday`"
      ],
      "metadata": {
        "id": "E7nQEXLeeVLs"
      }
    },
    {
      "cell_type": "code",
      "source": [
        "ax = sns.countplot(data=data_df, x='Holiday', color=\"olive\")\n",
        "ax.set(title = 'Distribución de la variable Holiday')\n",
        "total = float(len(data_df['Holiday']))\n",
        "for p in ax.patches:\n",
        "    percentage = '{:.1f}%'.format(100 * p.get_height()/total)\n",
        "    x = p.get_x() + p.get_width()\n",
        "    y = p.get_height()\n",
        "    ax.annotate(percentage, (x, y),ha='center')\n",
        "plt.show()"
      ],
      "metadata": {
        "id": "0OhPQM3kVen3",
        "colab": {
          "base_uri": "https://localhost:8080/",
          "height": 295
        },
        "outputId": "3e4902ce-cf41-40f3-87e2-e096734c6664"
      },
      "execution_count": 570,
      "outputs": [
        {
          "output_type": "display_data",
          "data": {
            "text/plain": [
              "<Figure size 432x288 with 1 Axes>"
            ],
            "image/png": "[encoded data removed]"
          },
          "metadata": {
            "needs_background": "light"
          }
        }
      ]
    },
    {
      "cell_type": "markdown",
      "source": [
        "Variable *booleana* donde el valor del No es el 97.1%."
      ],
      "metadata": {
        "id": "4oO7pnf8eJpw"
      }
    },
    {
      "cell_type": "markdown",
      "source": [
        "### Variable `Weather`"
      ],
      "metadata": {
        "id": "Ha2CxqfMeZnI"
      }
    },
    {
      "cell_type": "code",
      "source": [
        "fig, ax = plt.subplots(figsize=(24, 7))\n",
        "ax = sns.countplot(data=data_df, x='Weather', color=\"teal\")\n",
        "ax.set(title = 'Distribución de la variable Weather')\n",
        "total = float(len(data_df['Weather']))\n",
        "for p in ax.patches:\n",
        "    percentage = '{:.1f}%'.format(100 * p.get_height()/total)\n",
        "    x = p.get_x() + p.get_width()\n",
        "    y = p.get_height()\n",
        "    ax.annotate(percentage, (x, y),ha='center')\n",
        "plt.show()"
      ],
      "metadata": {
        "id": "ePecTzl_U1ui",
        "colab": {
          "base_uri": "https://localhost:8080/",
          "height": 458
        },
        "outputId": "11b0635e-56ca-4c5b-893d-896d67d629d8"
      },
      "execution_count": 571,
      "outputs": [
        {
          "output_type": "display_data",
          "data": {
            "text/plain": [
              "<Figure size 1728x504 with 1 Axes>"
            ],
            "image/png": "[encoded data removed]"
          },
          "metadata": {
            "needs_background": "light"
          }
        }
      ]
    },
    {
      "cell_type": "markdown",
      "source": [
        "Esta variable toma 10 categorías distintas de clima, así como algunos tienen más de un clima asociado. La categoría que tiene más registros es 'Partly cloudy' con el 32%."
      ],
      "metadata": {
        "id": "B1QIrIwged2-"
      }
    },
    {
      "cell_type": "markdown",
      "source": [
        "### Variable `Temp`"
      ],
      "metadata": {
        "id": "Yr2_EZvBfxpE"
      }
    },
    {
      "cell_type": "code",
      "source": [
        "fig, axs = plt.subplots(1, 2, figsize=(10, 5))\n",
        "\n",
        "sns.histplot(data_df['Temp'], color=\"gold\", ax=axs[0]).set(title='Histograma de Temp')\n",
        "sns.boxplot(data=data_df, x='Temp', ax=axs[1]).set(title='Box Plot de Temp')"
      ],
      "metadata": {
        "id": "aO5vlWM_WO_q",
        "colab": {
          "base_uri": "https://localhost:8080/",
          "height": 367
        },
        "outputId": "4756a925-68a5-4452-bd36-1c2688fd701e"
      },
      "execution_count": 572,
      "outputs": [
        {
          "output_type": "execute_result",
          "data": {
            "text/plain": [
              "[Text(0.5, 1.0, 'Box Plot de Temp')]"
            ]
          },
          "metadata": {},
          "execution_count": 572
        },
        {
          "output_type": "display_data",
          "data": {
            "text/plain": [
              "<Figure size 720x360 with 2 Axes>"
            ],
            "image/png": "[encoded data removed]"
          },
          "metadata": {
            "needs_background": "light"
          }
        }
      ]
    },
    {
      "cell_type": "code",
      "source": [
        "data_df['Temp'].describe()"
      ],
      "metadata": {
        "id": "HjXedJQeb5xO",
        "colab": {
          "base_uri": "https://localhost:8080/"
        },
        "outputId": "70e06461-a3fd-4616-9404-ea8faf4118fb"
      },
      "execution_count": 573,
      "outputs": [
        {
          "output_type": "execute_result",
          "data": {
            "text/plain": [
              "count    731.000000\n",
              "mean      15.279215\n",
              "std        8.601675\n",
              "min       -5.220871\n",
              "25%        7.842925\n",
              "50%       15.421651\n",
              "75%       22.804575\n",
              "max       32.498349\n",
              "Name: Temp, dtype: float64"
            ]
          },
          "metadata": {},
          "execution_count": 573
        }
      ]
    },
    {
      "cell_type": "markdown",
      "source": [
        "La variable se distribuye entre -5.22 y 32.49 °C. La media de la distribución está en 15.27 y la distribción luce bimodal, su primera moda cercana a 5 °C y la segunda moda a 25°C. Asimismo de acuerdo al diagrama de cajas no se observan valores atípicos."
      ],
      "metadata": {
        "id": "HnBs0c7Xfzfj"
      }
    },
    {
      "cell_type": "markdown",
      "source": [
        "### Variable `Feel_Temp`"
      ],
      "metadata": {
        "id": "4LsZqSx9gSFk"
      }
    },
    {
      "cell_type": "code",
      "source": [
        "fig, axs = plt.subplots(1, 2, figsize=(10, 5))\n",
        "sns.histplot(data_df['Feel_Temp'], color=\"mediumseagreen\", ax=axs[0]).set(title='Histograma de Feel_Temp')\n",
        "sns.boxplot(data=data_df, x='Feel_Temp', ax=axs[1]).set(title='Box Plot de Temp')"
      ],
      "metadata": {
        "id": "UbrU4REKW7QH",
        "colab": {
          "base_uri": "https://localhost:8080/",
          "height": 368
        },
        "outputId": "9e9301dd-045f-43cd-ab44-cf57794c48f9"
      },
      "execution_count": 574,
      "outputs": [
        {
          "output_type": "execute_result",
          "data": {
            "text/plain": [
              "[Text(0.5, 1.0, 'Box Plot de Temp')]"
            ]
          },
          "metadata": {},
          "execution_count": 574
        },
        {
          "output_type": "display_data",
          "data": {
            "text/plain": [
              "<Figure size 720x360 with 2 Axes>"
            ],
            "image/png": "[encoded data removed]"
          },
          "metadata": {
            "needs_background": "light"
          }
        }
      ]
    },
    {
      "cell_type": "code",
      "source": [
        "data_df['Feel_Temp'].describe()"
      ],
      "metadata": {
        "id": "r2-YETH3cPm-",
        "colab": {
          "base_uri": "https://localhost:8080/"
        },
        "outputId": "96f74d87-bd05-48b2-8e0a-bb9f189296ef"
      },
      "execution_count": 575,
      "outputs": [
        {
          "output_type": "execute_result",
          "data": {
            "text/plain": [
              "count    731.000000\n",
              "mean      14.294637\n",
              "std        7.659175\n",
              "min       -4.283729\n",
              "25%        7.878597\n",
              "50%       14.876451\n",
              "75%       20.604294\n",
              "max       31.522112\n",
              "Name: Feel_Temp, dtype: float64"
            ]
          },
          "metadata": {},
          "execution_count": 575
        }
      ]
    },
    {
      "cell_type": "markdown",
      "source": [
        "La variable se distribuye entre -4.28 y 31.52°C. La media está alrededor de 14.29°C y de acuerdo al diagrama de cajas nos e observan valores atípicos."
      ],
      "metadata": {
        "id": "RJzTYow5gUTY"
      }
    },
    {
      "cell_type": "markdown",
      "source": [
        "### Variable `Hum`"
      ],
      "metadata": {
        "id": "KlAi2VKygprx"
      }
    },
    {
      "cell_type": "code",
      "source": [
        "fig, axs = plt.subplots(1, 2, figsize=(15, 5))\n",
        "sns.histplot(data_df['Hum'], color=\"mediumseagreen\", ax=axs[0]).set(title='Histograma de Hum')\n",
        "sns.boxplot(data=data_df, x='Hum', ax=axs[1]).set(title='Box Plot de Hum')"
      ],
      "metadata": {
        "id": "cmZiLSVLW_Jn",
        "colab": {
          "base_uri": "https://localhost:8080/",
          "height": 367
        },
        "outputId": "3fdaa639-c965-4333-b58a-f6992ea835b0"
      },
      "execution_count": 576,
      "outputs": [
        {
          "output_type": "execute_result",
          "data": {
            "text/plain": [
              "[Text(0.5, 1.0, 'Box Plot de Hum')]"
            ]
          },
          "metadata": {},
          "execution_count": 576
        },
        {
          "output_type": "display_data",
          "data": {
            "text/plain": [
              "<Figure size 1080x360 with 2 Axes>"
            ],
            "image/png": "[encoded data removed]"
          },
          "metadata": {
            "needs_background": "light"
          }
        }
      ]
    },
    {
      "cell_type": "code",
      "source": [
        "data_df['Hum'].describe()"
      ],
      "metadata": {
        "id": "CkfppRA3cn6v",
        "colab": {
          "base_uri": "https://localhost:8080/"
        },
        "outputId": "83843a51-515f-4583-cafa-c3fa50449423"
      },
      "execution_count": 577,
      "outputs": [
        {
          "output_type": "execute_result",
          "data": {
            "text/plain": [
              "count    731.000000\n",
              "mean       0.682614\n",
              "std        0.750679\n",
              "min        0.000000\n",
              "25%        0.522291\n",
              "50%        0.629167\n",
              "75%        0.732708\n",
              "max       10.867083\n",
              "Name: Hum, dtype: float64"
            ]
          },
          "metadata": {},
          "execution_count": 577
        }
      ]
    },
    {
      "cell_type": "markdown",
      "source": [
        "La variable se distribuye entre 0 y 10.86. La media de la distribución es de 0.68 y de acuerdo al diagrama de cajas tiene valores atípicos más grandes que 10.\\\n",
        "Con respecto a los valores atípicos se aplicará una transformación para evitar remover estos datos, se utilizará [clipping](https://developers.google.com/machine-learning/data-prep/transform/normalization), y se fijará el valor máximo a ser el percentil 99 y el mínimo al percentil 1, también conocido como [winsorizing](https://en.wikipedia.org/wiki/Winsorizing). Es decir si un dato es mayor al percentil 0.99 se le imputará el percentil 0.99 y lo mismo para datos por debajo del percentil 1."
      ],
      "metadata": {
        "id": "N0bfrVD3gr3C"
      }
    },
    {
      "cell_type": "code",
      "source": [
        "first_percent_hum = data_df['Hum'].quantile(0.01)\n",
        "ninety_nine_percent_hum = data_df['Hum'].quantile(0.99)\n",
        "data_df.loc[data_df['Hum'] <first_percent_hum, 'Hum'] = first_percent_hum\n",
        "data_df.loc[data_df['Hum'] >ninety_nine_percent_hum, 'Hum'] = ninety_nine_percent_hum"
      ],
      "metadata": {
        "id": "lGsdD9GUbH3g"
      },
      "execution_count": 578,
      "outputs": []
    },
    {
      "cell_type": "markdown",
      "source": [
        "Box plot con la variable transformada:"
      ],
      "metadata": {
        "id": "WlyenFi6elL2"
      }
    },
    {
      "cell_type": "code",
      "source": [
        "sns.boxplot(data=data_df, x='Hum').set(title='Box Plot de Hum')"
      ],
      "metadata": {
        "id": "wI2QxoigbhOR",
        "colab": {
          "base_uri": "https://localhost:8080/",
          "height": 312
        },
        "outputId": "92fe41f0-d1af-4fc2-f7ad-b299f035581a"
      },
      "execution_count": 579,
      "outputs": [
        {
          "output_type": "execute_result",
          "data": {
            "text/plain": [
              "[Text(0.5, 1.0, 'Box Plot de Hum')]"
            ]
          },
          "metadata": {},
          "execution_count": 579
        },
        {
          "output_type": "display_data",
          "data": {
            "text/plain": [
              "<Figure size 432x288 with 1 Axes>"
            ],
            "image/png": "[encoded data removed]"
          },
          "metadata": {
            "needs_background": "light"
          }
        }
      ]
    },
    {
      "cell_type": "markdown",
      "source": [
        "### Variable `Wind`"
      ],
      "metadata": {
        "id": "F6ozxoE5hAY3"
      }
    },
    {
      "cell_type": "code",
      "source": [
        "fig, axs = plt.subplots(1, 2, figsize=(15, 5))\n",
        "sns.histplot(data_df['Wind'], color=\"coral\", ax=axs[0]).set(title='Histograma de Wind')\n",
        "sns.boxplot(data=data_df, x='Wind', ax=axs[1]).set(title='Box Plot de Wind')"
      ],
      "metadata": {
        "id": "ZEOBdBL9XKAC",
        "colab": {
          "base_uri": "https://localhost:8080/",
          "height": 367
        },
        "outputId": "d70ada50-4604-487f-fecc-a75e9312c6ff"
      },
      "execution_count": 580,
      "outputs": [
        {
          "output_type": "execute_result",
          "data": {
            "text/plain": [
              "[Text(0.5, 1.0, 'Box Plot de Wind')]"
            ]
          },
          "metadata": {},
          "execution_count": 580
        },
        {
          "output_type": "display_data",
          "data": {
            "text/plain": [
              "<Figure size 1080x360 with 2 Axes>"
            ],
            "image/png": "[encoded data removed]"
          },
          "metadata": {
            "needs_background": "light"
          }
        }
      ]
    },
    {
      "cell_type": "code",
      "source": [
        "data_df['Wind'].describe()"
      ],
      "metadata": {
        "id": "xx9zq5ZVdGDL",
        "colab": {
          "base_uri": "https://localhost:8080/"
        },
        "outputId": "a2afbf2a-e0be-4559-9371-f285200c0d5d"
      },
      "execution_count": 581,
      "outputs": [
        {
          "output_type": "execute_result",
          "data": {
            "text/plain": [
              "count    731.000000\n",
              "mean      12.668792\n",
              "std        5.417463\n",
              "min      -16.652113\n",
              "25%        9.000746\n",
              "50%       12.124789\n",
              "75%       15.624802\n",
              "max       34.000021\n",
              "Name: Wind, dtype: float64"
            ]
          },
          "metadata": {},
          "execution_count": 581
        }
      ]
    },
    {
      "cell_type": "markdown",
      "source": [
        "La variable se distribuye entre -16.65 y 34. La media es de 12.66. De acuerdo al diagrama de cajas tenemos valores atípicos por debajo de 0 y por encima de 25. Con respecto a estos valores atípicos se procederá a imputarlos con respecto al percentil 1 y 99, similar a la variable anterior:"
      ],
      "metadata": {
        "id": "euPv_RC9hBXm"
      }
    },
    {
      "cell_type": "code",
      "source": [
        "first_percent_wind= data_df['Wind'].quantile(0.01)\n",
        "ninety_nine_percent_wind = data_df['Wind'].quantile(0.99)\n",
        "data_df.loc[data_df['Wind'] <first_percent_wind, 'Wind'] = first_percent_wind\n",
        "data_df.loc[data_df['Wind'] >ninety_nine_percent_wind, 'Wind'] = ninety_nine_percent_wind"
      ],
      "metadata": {
        "id": "PpxRZLNiez54"
      },
      "execution_count": 582,
      "outputs": []
    },
    {
      "cell_type": "code",
      "source": [
        "first_percent_wind"
      ],
      "metadata": {
        "colab": {
          "base_uri": "https://localhost:8080/"
        },
        "id": "15oVJnuByOKG",
        "outputId": "43fa362c-e9a5-434b-c146-58ad04aaf53b"
      },
      "execution_count": 583,
      "outputs": [
        {
          "output_type": "execute_result",
          "data": {
            "text/plain": [
              "3.1381125"
            ]
          },
          "metadata": {},
          "execution_count": 583
        }
      ]
    },
    {
      "cell_type": "markdown",
      "source": [
        "Box plot con la variable transformada:"
      ],
      "metadata": {
        "id": "lJJL1CYMfBRh"
      }
    },
    {
      "cell_type": "code",
      "source": [
        "sns.boxplot(data=data_df, x='Wind').set(title='Box Plot de Wind')"
      ],
      "metadata": {
        "id": "4_4EIUqze3Cl",
        "colab": {
          "base_uri": "https://localhost:8080/",
          "height": 312
        },
        "outputId": "f2ef5877-9869-4a66-8a34-186e1eb0a622"
      },
      "execution_count": 584,
      "outputs": [
        {
          "output_type": "execute_result",
          "data": {
            "text/plain": [
              "[Text(0.5, 1.0, 'Box Plot de Wind')]"
            ]
          },
          "metadata": {},
          "execution_count": 584
        },
        {
          "output_type": "display_data",
          "data": {
            "text/plain": [
              "<Figure size 432x288 with 1 Axes>"
            ],
            "image/png": "[encoded data removed]"
          },
          "metadata": {
            "needs_background": "light"
          }
        }
      ]
    },
    {
      "cell_type": "markdown",
      "source": [
        "### Variable `Casual`"
      ],
      "metadata": {
        "id": "QcYbKRmlhQVl"
      }
    },
    {
      "cell_type": "code",
      "source": [
        "fig, axs = plt.subplots(1, 2, figsize=(15, 5))\n",
        "sns.histplot(data_df['Casual'], kde=True, bins=80, color=\"crimson\", ax=axs[0]).set(title='Histograma de Casual')\n",
        "sns.boxplot(data=data_df, x='Casual', ax=axs[1]).set(title='Box Plot de Casual')"
      ],
      "metadata": {
        "id": "S_i-riuKXBO2",
        "colab": {
          "base_uri": "https://localhost:8080/",
          "height": 367
        },
        "outputId": "1b1012ff-16c3-482c-8a02-2e48279c4317"
      },
      "execution_count": 585,
      "outputs": [
        {
          "output_type": "execute_result",
          "data": {
            "text/plain": [
              "[Text(0.5, 1.0, 'Box Plot de Casual')]"
            ]
          },
          "metadata": {},
          "execution_count": 585
        },
        {
          "output_type": "display_data",
          "data": {
            "text/plain": [
              "<Figure size 1080x360 with 2 Axes>"
            ],
            "image/png": "[encoded data removed]"
          },
          "metadata": {
            "needs_background": "light"
          }
        }
      ]
    },
    {
      "cell_type": "code",
      "source": [
        "data_df['Casual'].describe()"
      ],
      "metadata": {
        "id": "w8xI2thWdgHQ",
        "colab": {
          "base_uri": "https://localhost:8080/"
        },
        "outputId": "6b003789-bec5-402c-88b4-466840d32d37"
      },
      "execution_count": 586,
      "outputs": [
        {
          "output_type": "execute_result",
          "data": {
            "text/plain": [
              "count     731.000000\n",
              "mean      848.176471\n",
              "std       686.622488\n",
              "min         2.000000\n",
              "25%       315.500000\n",
              "50%       713.000000\n",
              "75%      1096.000000\n",
              "max      3410.000000\n",
              "Name: Casual, dtype: float64"
            ]
          },
          "metadata": {},
          "execution_count": 586
        }
      ]
    },
    {
      "cell_type": "markdown",
      "source": [
        "La variable se distribuye entre 2 y 3410. La media se ubica alrededor de 848.17. De acuerdo al diagrama de cajas, tenemos valores atípicos por encima de 2200. Con respecto a los valores atípicos se aplicará winsorizing con los percentiles 5 y 95 ya que observamos bastantes valores extremos muy cercanos al whisker superior."
      ],
      "metadata": {
        "id": "03PsH6ZNhSTU"
      }
    },
    {
      "cell_type": "code",
      "source": [
        "ninety_fifth_percent_casual = data_df['Casual'].quantile(0.95)\n",
        "data_df.loc[data_df['Casual'] >ninety_fifth_percent_casual, 'Casual'] = ninety_fifth_percent_casual"
      ],
      "metadata": {
        "id": "vgvf1dSmfTtP"
      },
      "execution_count": 587,
      "outputs": []
    },
    {
      "cell_type": "markdown",
      "source": [
        "Box plot con la variable transformada:"
      ],
      "metadata": {
        "id": "oF5fIHp6faEo"
      }
    },
    {
      "cell_type": "code",
      "source": [
        "sns.boxplot(data=data_df, x='Casual').set(title='Box Plot de Casual')"
      ],
      "metadata": {
        "id": "quUtT9XlfWA4",
        "colab": {
          "base_uri": "https://localhost:8080/",
          "height": 312
        },
        "outputId": "c620414d-35b0-46cf-9de3-cccf64b52571"
      },
      "execution_count": 588,
      "outputs": [
        {
          "output_type": "execute_result",
          "data": {
            "text/plain": [
              "[Text(0.5, 1.0, 'Box Plot de Casual')]"
            ]
          },
          "metadata": {},
          "execution_count": 588
        },
        {
          "output_type": "display_data",
          "data": {
            "text/plain": [
              "<Figure size 432x288 with 1 Axes>"
            ],
            "image/png": "[encoded data removed]"
          },
          "metadata": {
            "needs_background": "light"
          }
        }
      ]
    },
    {
      "cell_type": "markdown",
      "source": [
        "### Variable `Registered`"
      ],
      "metadata": {
        "id": "HAsADs8ThrXW"
      }
    },
    {
      "cell_type": "code",
      "source": [
        "fig, axs = plt.subplots(1, 2, figsize=(15, 5))\n",
        "sns.histplot(data_df['Registered'], kde=True, color=\"indigo\", ax=axs[0]).set(title='Histograma de Registered')\n",
        "sns.boxplot(data=data_df, x='Registered', ax=axs[1]).set(title='Box Plot de Registered')"
      ],
      "metadata": {
        "id": "MWoL9_kdXSc_",
        "colab": {
          "base_uri": "https://localhost:8080/",
          "height": 367
        },
        "outputId": "094db6fb-0e96-47c2-bb09-b4b5364f98bf"
      },
      "execution_count": 589,
      "outputs": [
        {
          "output_type": "execute_result",
          "data": {
            "text/plain": [
              "[Text(0.5, 1.0, 'Box Plot de Registered')]"
            ]
          },
          "metadata": {},
          "execution_count": 589
        },
        {
          "output_type": "display_data",
          "data": {
            "text/plain": [
              "<Figure size 1080x360 with 2 Axes>"
            ],
            "image/png": "[encoded data removed]"
          },
          "metadata": {
            "needs_background": "light"
          }
        }
      ]
    },
    {
      "cell_type": "code",
      "source": [
        "data_df['Registered'].describe()"
      ],
      "metadata": {
        "id": "4ukhnaL-d1LI",
        "colab": {
          "base_uri": "https://localhost:8080/"
        },
        "outputId": "8428f48b-66fb-45ec-8bf0-7db980c60691"
      },
      "execution_count": 590,
      "outputs": [
        {
          "output_type": "execute_result",
          "data": {
            "text/plain": [
              "count     731.000000\n",
              "mean     3656.172367\n",
              "std      1560.256377\n",
              "min        20.000000\n",
              "25%      2497.000000\n",
              "50%      3662.000000\n",
              "75%      4776.500000\n",
              "max      6946.000000\n",
              "Name: Registered, dtype: float64"
            ]
          },
          "metadata": {},
          "execution_count": 590
        }
      ]
    },
    {
      "cell_type": "markdown",
      "source": [
        "La variable se distribuye entre 20 y 6946, la distribución luce simétrica. La media de la distribución se ubica alrededor de 3656.17. De acuerdo al diagrama de cajas no tenemos valores atípicos."
      ],
      "metadata": {
        "id": "DN_uYKSehtGp"
      }
    },
    {
      "cell_type": "markdown",
      "source": [
        "### Variable `Cnt`"
      ],
      "metadata": {
        "id": "_mpW5ZxFdT8_"
      }
    },
    {
      "cell_type": "code",
      "source": [
        "fig, axs = plt.subplots(1, 2, figsize=(15, 5))\n",
        "sns.histplot(data_df['cnt'], kde=True, ax=axs[0]).set(title='Histograma de cnt')\n",
        "sns.boxplot(data=data_df, x='cnt', ax=axs[1]).set(title='Box Plot de cnt')"
      ],
      "metadata": {
        "id": "48B4O2JhXX2a",
        "colab": {
          "base_uri": "https://localhost:8080/",
          "height": 367
        },
        "outputId": "e782048c-79e8-44e1-902b-167ce80fe41b"
      },
      "execution_count": 591,
      "outputs": [
        {
          "output_type": "execute_result",
          "data": {
            "text/plain": [
              "[Text(0.5, 1.0, 'Box Plot de cnt')]"
            ]
          },
          "metadata": {},
          "execution_count": 591
        },
        {
          "output_type": "display_data",
          "data": {
            "text/plain": [
              "<Figure size 1080x360 with 2 Axes>"
            ],
            "image/png": "[encoded data removed]"
          },
          "metadata": {
            "needs_background": "light"
          }
        }
      ]
    },
    {
      "cell_type": "code",
      "source": [
        "data_df['cnt'].describe()"
      ],
      "metadata": {
        "id": "G-xmIiTqeJiU",
        "colab": {
          "base_uri": "https://localhost:8080/"
        },
        "outputId": "c6d6c791-7e39-4e96-9d0c-a737606265cd"
      },
      "execution_count": 592,
      "outputs": [
        {
          "output_type": "execute_result",
          "data": {
            "text/plain": [
              "count     731.000000\n",
              "mean     4504.348837\n",
              "std      1937.211452\n",
              "min        22.000000\n",
              "25%      3152.000000\n",
              "50%      4548.000000\n",
              "75%      5956.000000\n",
              "max      8714.000000\n",
              "Name: cnt, dtype: float64"
            ]
          },
          "metadata": {},
          "execution_count": 592
        }
      ]
    },
    {
      "cell_type": "markdown",
      "source": [
        "La variable se distribuye entre 22 y 8714, la distribución luce simétrica. La media se ubica alrededor de 4504.34. De acuerdo al diagrama de cajas no tenemos valores atípicos."
      ],
      "metadata": {
        "id": "8is2XBiLh_1z"
      }
    },
    {
      "cell_type": "markdown",
      "source": [
        "### Correlaciones y bivariados"
      ],
      "metadata": {
        "id": "ArAHL63Taul9"
      }
    },
    {
      "cell_type": "code",
      "source": [
        "correlation_df = data_df[['Temp', 'Feel_Temp', 'Hum', 'Wind', 'casual_avg', 'registered_avg', 'cnt', 'day_week', 'month']].corr()\n",
        "correlation_df"
      ],
      "metadata": {
        "id": "TvOTKPNvbFb_",
        "colab": {
          "base_uri": "https://localhost:8080/",
          "height": 332
        },
        "outputId": "e850b209-f91a-4abe-823e-f2212f2bb6f9"
      },
      "execution_count": 593,
      "outputs": [
        {
          "output_type": "execute_result",
          "data": {
            "text/plain": [
              "                    Temp  Feel_Temp       Hum      Wind  casual_avg  \\\n",
              "Temp            1.000000   0.991682  0.112901 -0.156334    0.751146   \n",
              "Feel_Temp       0.991682   1.000000  0.126046 -0.181539    0.750149   \n",
              "Hum             0.112901   0.126046  1.000000 -0.229372    0.049756   \n",
              "Wind           -0.156334  -0.181539 -0.229372  1.000000   -0.110759   \n",
              "casual_avg      0.751146   0.750149  0.049756 -0.110759    1.000000   \n",
              "registered_avg  0.572573   0.574233  0.013024 -0.169121    0.715105   \n",
              "cnt             0.627505   0.631066 -0.114786 -0.228386    0.729371   \n",
              "day_week       -0.008190  -0.003303  0.015526 -0.007988    0.160534   \n",
              "month           0.219748   0.227459  0.224771 -0.201684    0.185848   \n",
              "\n",
              "                registered_avg       cnt  day_week     month  \n",
              "Temp                  0.572573  0.627505 -0.008190  0.219748  \n",
              "Feel_Temp             0.574233  0.631066 -0.003303  0.227459  \n",
              "Hum                   0.013024 -0.114786  0.015526  0.224771  \n",
              "Wind                 -0.169121 -0.228386 -0.007988 -0.201684  \n",
              "casual_avg            0.715105  0.729371  0.160534  0.185848  \n",
              "registered_avg        1.000000  0.894982 -0.067881  0.353867  \n",
              "cnt                   0.894982  1.000000 -0.016153  0.279977  \n",
              "day_week             -0.067881 -0.016153  1.000000 -0.008438  \n",
              "month                 0.353867  0.279977 -0.008438  1.000000  "
            ],
            "text/html": [
              "\n",
              "  <div id=\"df-d29b614f-46fd-45ea-9e6b-9e59b2446ce1\">\n",
              "    <div class=\"colab-df-container\">\n",
              "      <div>\n",
              "<style scoped>\n",
              "    .dataframe tbody tr th:only-of-type {\n",
              "        vertical-align: middle;\n",
              "    }\n",
              "\n",
              "    .dataframe tbody tr th {\n",
              "        vertical-align: top;\n",
              "    }\n",
              "\n",
              "    .dataframe thead th {\n",
              "        text-align: right;\n",
              "    }\n",
              "</style>\n",
              "<table border=\"1\" class=\"dataframe\">\n",
              "  <thead>\n",
              "    <tr style=\"text-align: right;\">\n",
              "      <th></th>\n",
              "      <th>Temp</th>\n",
              "      <th>Feel_Temp</th>\n",
              "      <th>Hum</th>\n",
              "      <th>Wind</th>\n",
              "      <th>casual_avg</th>\n",
              "      <th>registered_avg</th>\n",
              "      <th>cnt</th>\n",
              "      <th>day_week</th>\n",
              "      <th>month</th>\n",
              "    </tr>\n",
              "  </thead>\n",
              "  <tbody>\n",
              "    <tr>\n",
              "      <th>Temp</th>\n",
              "      <td>1.000000</td>\n",
              "      <td>0.991682</td>\n",
              "      <td>0.112901</td>\n",
              "      <td>-0.156334</td>\n",
              "      <td>0.751146</td>\n",
              "      <td>0.572573</td>\n",
              "      <td>0.627505</td>\n",
              "      <td>-0.008190</td>\n",
              "      <td>0.219748</td>\n",
              "    </tr>\n",
              "    <tr>\n",
              "      <th>Feel_Temp</th>\n",
              "      <td>0.991682</td>\n",
              "      <td>1.000000</td>\n",
              "      <td>0.126046</td>\n",
              "      <td>-0.181539</td>\n",
              "      <td>0.750149</td>\n",
              "      <td>0.574233</td>\n",
              "      <td>0.631066</td>\n",
              "      <td>-0.003303</td>\n",
              "      <td>0.227459</td>\n",
              "    </tr>\n",
              "    <tr>\n",
              "      <th>Hum</th>\n",
              "      <td>0.112901</td>\n",
              "      <td>0.126046</td>\n",
              "      <td>1.000000</td>\n",
              "      <td>-0.229372</td>\n",
              "      <td>0.049756</td>\n",
              "      <td>0.013024</td>\n",
              "      <td>-0.114786</td>\n",
              "      <td>0.015526</td>\n",
              "      <td>0.224771</td>\n",
              "    </tr>\n",
              "    <tr>\n",
              "      <th>Wind</th>\n",
              "      <td>-0.156334</td>\n",
              "      <td>-0.181539</td>\n",
              "      <td>-0.229372</td>\n",
              "      <td>1.000000</td>\n",
              "      <td>-0.110759</td>\n",
              "      <td>-0.169121</td>\n",
              "      <td>-0.228386</td>\n",
              "      <td>-0.007988</td>\n",
              "      <td>-0.201684</td>\n",
              "    </tr>\n",
              "    <tr>\n",
              "      <th>casual_avg</th>\n",
              "      <td>0.751146</td>\n",
              "      <td>0.750149</td>\n",
              "      <td>0.049756</td>\n",
              "      <td>-0.110759</td>\n",
              "      <td>1.000000</td>\n",
              "      <td>0.715105</td>\n",
              "      <td>0.729371</td>\n",
              "      <td>0.160534</td>\n",
              "      <td>0.185848</td>\n",
              "    </tr>\n",
              "    <tr>\n",
              "      <th>registered_avg</th>\n",
              "      <td>0.572573</td>\n",
              "      <td>0.574233</td>\n",
              "      <td>0.013024</td>\n",
              "      <td>-0.169121</td>\n",
              "      <td>0.715105</td>\n",
              "      <td>1.000000</td>\n",
              "      <td>0.894982</td>\n",
              "      <td>-0.067881</td>\n",
              "      <td>0.353867</td>\n",
              "    </tr>\n",
              "    <tr>\n",
              "      <th>cnt</th>\n",
              "      <td>0.627505</td>\n",
              "      <td>0.631066</td>\n",
              "      <td>-0.114786</td>\n",
              "      <td>-0.228386</td>\n",
              "      <td>0.729371</td>\n",
              "      <td>0.894982</td>\n",
              "      <td>1.000000</td>\n",
              "      <td>-0.016153</td>\n",
              "      <td>0.279977</td>\n",
              "    </tr>\n",
              "    <tr>\n",
              "      <th>day_week</th>\n",
              "      <td>-0.008190</td>\n",
              "      <td>-0.003303</td>\n",
              "      <td>0.015526</td>\n",
              "      <td>-0.007988</td>\n",
              "      <td>0.160534</td>\n",
              "      <td>-0.067881</td>\n",
              "      <td>-0.016153</td>\n",
              "      <td>1.000000</td>\n",
              "      <td>-0.008438</td>\n",
              "    </tr>\n",
              "    <tr>\n",
              "      <th>month</th>\n",
              "      <td>0.219748</td>\n",
              "      <td>0.227459</td>\n",
              "      <td>0.224771</td>\n",
              "      <td>-0.201684</td>\n",
              "      <td>0.185848</td>\n",
              "      <td>0.353867</td>\n",
              "      <td>0.279977</td>\n",
              "      <td>-0.008438</td>\n",
              "      <td>1.000000</td>\n",
              "    </tr>\n",
              "  </tbody>\n",
              "</table>\n",
              "</div>\n",
              "      <button class=\"colab-df-convert\" onclick=\"convertToInteractive('df-d29b614f-46fd-45ea-9e6b-9e59b2446ce1')\"\n",
              "              title=\"Convert this dataframe to an interactive table.\"\n",
              "              style=\"display:none;\">\n",
              "        \n",
              "  <svg xmlns=\"http://www.w3.org/2000/svg\" height=\"24px\"viewBox=\"0 0 24 24\"\n",
              "       width=\"24px\">\n",
              "    <path d=\"M0 0h24v24H0V0z\" fill=\"none\"/>\n",
              "    <path d=\"M18.56 5.44l.94 2.06.94-2.06 2.06-.94-2.06-.94-.94-2.06-.94 2.06-2.06.94zm-11 1L8.5 8.5l.94-2.06 2.06-.94-2.06-.94L8.5 2.5l-.94 2.06-2.06.94zm10 10l.94 2.06.94-2.06 2.06-.94-2.06-.94-.94-2.06-.94 2.06-2.06.94z\"/><path d=\"M17.41 7.96l-1.37-1.37c-.4-.4-.92-.59-1.43-.59-.52 0-1.04.2-1.43.59L10.3 9.45l-7.72 7.72c-.78.78-.78 2.05 0 2.83L4 21.41c.39.39.9.59 1.41.59.51 0 1.02-.2 1.41-.59l7.78-7.78 2.81-2.81c.8-.78.8-2.07 0-2.86zM5.41 20L4 18.59l7.72-7.72 1.47 1.35L5.41 20z\"/>\n",
              "  </svg>\n",
              "      </button>\n",
              "      \n",
              "  <style>\n",
              "    .colab-df-container {\n",
              "      display:flex;\n",
              "      flex-wrap:wrap;\n",
              "      gap: 12px;\n",
              "    }\n",
              "\n",
              "    .colab-df-convert {\n",
              "      background-color: #E8F0FE;\n",
              "      border: none;\n",
              "      border-radius: 50%;\n",
              "      cursor: pointer;\n",
              "      display: none;\n",
              "      fill: #1967D2;\n",
              "      height: 32px;\n",
              "      padding: 0 0 0 0;\n",
              "      width: 32px;\n",
              "    }\n",
              "\n",
              "    .colab-df-convert:hover {\n",
              "      background-color: #E2EBFA;\n",
              "      box-shadow: 0px 1px 2px rgba(60, 64, 67, 0.3), 0px 1px 3px 1px rgba(60, 64, 67, 0.15);\n",
              "      fill: #174EA6;\n",
              "    }\n",
              "\n",
              "    [theme=dark] .colab-df-convert {\n",
              "      background-color: #3B4455;\n",
              "      fill: #D2E3FC;\n",
              "    }\n",
              "\n",
              "    [theme=dark] .colab-df-convert:hover {\n",
              "      background-color: #434B5C;\n",
              "      box-shadow: 0px 1px 3px 1px rgba(0, 0, 0, 0.15);\n",
              "      filter: drop-shadow(0px 1px 2px rgba(0, 0, 0, 0.3));\n",
              "      fill: #FFFFFF;\n",
              "    }\n",
              "  </style>\n",
              "\n",
              "      <script>\n",
              "        const buttonEl =\n",
              "          document.querySelector('#df-d29b614f-46fd-45ea-9e6b-9e59b2446ce1 button.colab-df-convert');\n",
              "        buttonEl.style.display =\n",
              "          google.colab.kernel.accessAllowed ? 'block' : 'none';\n",
              "\n",
              "        async function convertToInteractive(key) {\n",
              "          const element = document.querySelector('#df-d29b614f-46fd-45ea-9e6b-9e59b2446ce1');\n",
              "          const dataTable =\n",
              "            await google.colab.kernel.invokeFunction('convertToInteractive',\n",
              "                                                     [key], {});\n",
              "          if (!dataTable) return;\n",
              "\n",
              "          const docLinkHtml = 'Like what you see? Visit the ' +\n",
              "            '<a target=\"_blank\" href=https://colab.research.google.com/notebooks/data_table.ipynb>data table notebook</a>'\n",
              "            + ' to learn more about interactive tables.';\n",
              "          element.innerHTML = '';\n",
              "          dataTable['output_type'] = 'display_data';\n",
              "          await google.colab.output.renderOutput(dataTable, element);\n",
              "          const docLink = document.createElement('div');\n",
              "          docLink.innerHTML = docLinkHtml;\n",
              "          element.appendChild(docLink);\n",
              "        }\n",
              "      </script>\n",
              "    </div>\n",
              "  </div>\n",
              "  "
            ]
          },
          "metadata": {},
          "execution_count": 593
        }
      ]
    },
    {
      "cell_type": "code",
      "source": [
        "sns.heatmap(correlation_df)"
      ],
      "metadata": {
        "id": "vbYric3zatTK",
        "colab": {
          "base_uri": "https://localhost:8080/",
          "height": 351
        },
        "outputId": "434388a4-a9de-4c10-aff7-a355d490e256"
      },
      "execution_count": 594,
      "outputs": [
        {
          "output_type": "execute_result",
          "data": {
            "text/plain": [
              "<matplotlib.axes._subplots.AxesSubplot at 0x7fbc407619d0>"
            ]
          },
          "metadata": {},
          "execution_count": 594
        },
        {
          "output_type": "display_data",
          "data": {
            "text/plain": [
              "<Figure size 432x288 with 2 Axes>"
            ],
            "image/png": "[encoded data removed]"
          },
          "metadata": {
            "needs_background": "light"
          }
        }
      ]
    },
    {
      "cell_type": "markdown",
      "source": [
        "Se observa una fuerte correlación entre las variables `Temp` y `Feel_Temp` con 0.99,  `registered_avg` y `cnt` de 0.89. Una correlación medianamente débil entre las variables `Temp` y `cnt` de 0.62, `Temp` y `casual_avg` de 0.75 y `Temp` y `registered_avg` de 0.57, lo mismo con `Feel_Temp`, así como `casual_avg` y `cnt` con 0.72.\n",
        "Debido a la alta correlación entre las variables `Temp` y `Feel_Temp` decidimos tener en cuenta sólo una para el entrenamiento de los modelos, por simplicidad se escogerá `Temp`. \\\n",
        "En general, con respecto a la variable objetivo, observamos que `registered_avg`y `casual_avg` tienen una alta correlación, por lo que se espera que sean variables importantes en el modelo de regresión lineal."
      ],
      "metadata": {
        "id": "BLWmMNwmbOB5"
      }
    },
    {
      "cell_type": "code",
      "source": [
        "sns.barplot(data=data_df, x='Season', y='cnt', color='green').set(title='Usuarios totales vs Season')"
      ],
      "metadata": {
        "id": "ctNIvuFoQOB9",
        "colab": {
          "base_uri": "https://localhost:8080/",
          "height": 312
        },
        "outputId": "0fcd6c63-4f59-4c62-cda5-5e4717e08898"
      },
      "execution_count": 595,
      "outputs": [
        {
          "output_type": "execute_result",
          "data": {
            "text/plain": [
              "[Text(0.5, 1.0, 'Usuarios totales vs Season')]"
            ]
          },
          "metadata": {},
          "execution_count": 595
        },
        {
          "output_type": "display_data",
          "data": {
            "text/plain": [
              "<Figure size 432x288 with 1 Axes>"
            ],
            "image/png": "[encoded data removed]"
          },
          "metadata": {
            "needs_background": "light"
          }
        }
      ]
    },
    {
      "cell_type": "markdown",
      "source": [
        "La gráfica anterior muestra que hay mayor cantidad de usuarios para otoño y verano respectivamente."
      ],
      "metadata": {
        "id": "K8sSr9NQTW0R"
      }
    },
    {
      "cell_type": "code",
      "source": [
        "fig, ax = plt.subplots(figsize=(24, 7))\n",
        "sns.barplot(data=data_df, x='Weather', y='cnt', color='teal').set(title='Usuarios totales vs Weather')"
      ],
      "metadata": {
        "id": "XkOSs4bFSizp",
        "colab": {
          "base_uri": "https://localhost:8080/",
          "height": 475
        },
        "outputId": "63de39a5-90e4-44df-adc1-ef3a2ec129f8"
      },
      "execution_count": 596,
      "outputs": [
        {
          "output_type": "execute_result",
          "data": {
            "text/plain": [
              "[Text(0.5, 1.0, 'Usuarios totales vs Weather')]"
            ]
          },
          "metadata": {},
          "execution_count": 596
        },
        {
          "output_type": "display_data",
          "data": {
            "text/plain": [
              "<Figure size 1728x504 with 1 Axes>"
            ],
            "image/png": "[encoded data removed]"
          },
          "metadata": {
            "needs_background": "light"
          }
        }
      ]
    },
    {
      "cell_type": "markdown",
      "source": [
        "La gráfica anterior muestra que tenemos más cantidad de usuarios con un clima despejado (*Clear*) y de pocas nubes (*few clouds*)."
      ],
      "metadata": {
        "id": "2nfOiWHvUkBr"
      }
    },
    {
      "cell_type": "code",
      "source": [
        "sns.barplot(data=data_df, x='day_week', y='cnt', color='gold').set(title='Usuarios totales vs day of week')"
      ],
      "metadata": {
        "id": "lx9mGo6udgPm",
        "colab": {
          "base_uri": "https://localhost:8080/",
          "height": 313
        },
        "outputId": "b18895f5-ada7-4bb1-8711-68c86eb019b6"
      },
      "execution_count": 597,
      "outputs": [
        {
          "output_type": "execute_result",
          "data": {
            "text/plain": [
              "[Text(0.5, 1.0, 'Usuarios totales vs day of week')]"
            ]
          },
          "metadata": {},
          "execution_count": 597
        },
        {
          "output_type": "display_data",
          "data": {
            "text/plain": [
              "<Figure size 432x288 with 1 Axes>"
            ],
            "image/png": "[encoded data removed]"
          },
          "metadata": {
            "needs_background": "light"
          }
        }
      ]
    },
    {
      "cell_type": "markdown",
      "source": [
        "De acuerdo a la gráfica anterior, observamos que los días con menor cantidad de usuarios son jueves y viernes y los días con mayor cantidad de usuarios son domingo, lunes, martes y miércoles."
      ],
      "metadata": {
        "id": "6rIOKMPpdvuP"
      }
    },
    {
      "cell_type": "markdown",
      "source": [
        "## Desarrollo de modelos de Machine Learning\n",
        "Implemente al menos 3 modelos basados en el algoritmo de regresión lineal: uno simple, uno polinomial y uno con algún tipo de regularización."
      ],
      "metadata": {
        "id": "t5SwdGzTlXBv"
      }
    },
    {
      "cell_type": "code",
      "source": [
        "processed_df = data_df.copy()"
      ],
      "metadata": {
        "id": "a2dnIzcGigsP"
      },
      "execution_count": 598,
      "outputs": []
    },
    {
      "cell_type": "markdown",
      "source": [
        "Preprocesamiento: \\\n",
        "### Variable `Season`\n",
        "Como la variable es categórica nominal, aplicaremos one-hot encoding"
      ],
      "metadata": {
        "id": "Ctbu8tFPevqq"
      }
    },
    {
      "cell_type": "code",
      "source": [
        "season_dummies = pd.get_dummies(processed_df['Season'], prefix='season_')\n",
        "processed_df = pd.concat([processed_df, season_dummies], axis = 1).drop('Season', axis=1)"
      ],
      "metadata": {
        "id": "7d4_20cNlbIX"
      },
      "execution_count": 599,
      "outputs": []
    },
    {
      "cell_type": "markdown",
      "source": [
        "### Variable Holiday \n",
        "Como la variable es booleana, se reemplazaran estos valores por 0, 1."
      ],
      "metadata": {
        "id": "JjKNtn1yitxh"
      }
    },
    {
      "cell_type": "code",
      "source": [
        "processed_df['Holiday'].unique()"
      ],
      "metadata": {
        "id": "TZtxOBuIiqCU",
        "colab": {
          "base_uri": "https://localhost:8080/"
        },
        "outputId": "952b81e9-3350-4cd1-f0c7-44e3f24b44d9"
      },
      "execution_count": 600,
      "outputs": [
        {
          "output_type": "execute_result",
          "data": {
            "text/plain": [
              "array(['No', 'Yes'], dtype=object)"
            ]
          },
          "metadata": {},
          "execution_count": 600
        }
      ]
    },
    {
      "cell_type": "code",
      "source": [
        "processed_df['Holiday'] = processed_df['Holiday'].replace({'Yes': 1, 'No': 0})"
      ],
      "metadata": {
        "id": "m7oYqIPKiqFq"
      },
      "execution_count": 601,
      "outputs": []
    },
    {
      "cell_type": "markdown",
      "source": [
        "### Variable Weather\n",
        "Como esta variable es categórica nominal aplicaremos one-hot encoding:"
      ],
      "metadata": {
        "id": "iXDo55HtjEch"
      }
    },
    {
      "cell_type": "code",
      "source": [
        "weather_dummies = pd.get_dummies(processed_df['Weather'], prefix='weather_')\n",
        "processed_df = pd.concat([processed_df, weather_dummies], axis = 1).drop('Weather', axis=1)"
      ],
      "metadata": {
        "id": "0L8L_jveevT6"
      },
      "execution_count": 602,
      "outputs": []
    },
    {
      "cell_type": "code",
      "source": [
        "X=processed_df.drop(['instant', 'Date', 'Registered', 'cnt', 'Feel_Temp', 'Casual'], axis=1)\n",
        "Y=processed_df['cnt']"
      ],
      "metadata": {
        "id": "iv3KvOoDkgWO"
      },
      "execution_count": 603,
      "outputs": []
    },
    {
      "cell_type": "code",
      "source": [
        "X_train, X_test, Y_train, Y_test = train_test_split(X, Y, test_size = 0.2, random_state = 1)"
      ],
      "metadata": {
        "id": "5vEyeFfJk5CV"
      },
      "execution_count": 604,
      "outputs": []
    },
    {
      "cell_type": "code",
      "source": [
        "scaler = StandardScaler()\n",
        "X_train = scaler.fit_transform(X_train)\n",
        "X_test = scaler.transform(X_test)"
      ],
      "metadata": {
        "id": "30rX69bkkgfe"
      },
      "execution_count": 605,
      "outputs": []
    },
    {
      "cell_type": "code",
      "source": [
        "#Modelo de regresión lineal\n",
        "lin_reg = LinearRegression()\n",
        "lin_reg.fit(X_train, Y_train)"
      ],
      "metadata": {
        "id": "4Qjlv7LalRYV",
        "colab": {
          "base_uri": "https://localhost:8080/"
        },
        "outputId": "8ecbf872-855a-4a85-820a-3052ef485f37"
      },
      "execution_count": 606,
      "outputs": [
        {
          "output_type": "execute_result",
          "data": {
            "text/plain": [
              "LinearRegression()"
            ]
          },
          "metadata": {},
          "execution_count": 606
        }
      ]
    },
    {
      "cell_type": "code",
      "source": [
        "preds_train = lin_reg.predict(X_train)\n",
        "preds_test = lin_reg.predict(X_test)\n",
        "r2_score(Y_test, preds_test)"
      ],
      "metadata": {
        "id": "2citIxbvlVck",
        "colab": {
          "base_uri": "https://localhost:8080/"
        },
        "outputId": "194d5a7c-b868-49f1-8fb0-706bfffd52c7"
      },
      "execution_count": 607,
      "outputs": [
        {
          "output_type": "execute_result",
          "data": {
            "text/plain": [
              "0.8771715019598816"
            ]
          },
          "metadata": {},
          "execution_count": 607
        }
      ]
    },
    {
      "cell_type": "code",
      "source": [
        "print('MAE (train, test): ', mean_absolute_error(Y_train, preds_train), mean_absolute_error(Y_test, preds_test))\n",
        "print('RMSE (train, test): ', np.sqrt(mean_squared_error(Y_train, preds_train)), np.sqrt(mean_squared_error(Y_test, preds_test)))\n",
        "print('MSE (train, test): ', mean_squared_error(Y_train, preds_train), mean_squared_error(Y_test, preds_test))\n",
        "print('r2 en entrenamiento : ', r2_score(Y_train, preds_train))\n",
        "print('r2 en test : ', r2_score(Y_test, preds_test))"
      ],
      "metadata": {
        "id": "MeRoB0qwlV1s",
        "colab": {
          "base_uri": "https://localhost:8080/"
        },
        "outputId": "ef36a364-9de3-4934-8d59-3093888b8dc4"
      },
      "execution_count": 608,
      "outputs": [
        {
          "output_type": "stream",
          "name": "stdout",
          "text": [
            "MAE (train, test):  513.9782858578367 498.5740492967882\n",
            "RMSE (train, test):  680.5509067071056 673.7358332050411\n",
            "MSE (train, test):  463149.5366198635 453919.9729444909\n",
            "r2 en entrenamiento :  0.8754847142036548\n",
            "r2 en test :  0.8771715019598816\n"
          ]
        }
      ]
    },
    {
      "cell_type": "code",
      "source": [
        "#Modelo regresión polinomial 2 grado\n",
        "poly_features = PolynomialFeatures(degree=2, include_bias=False)\n",
        "x_train_poly = poly_features.fit_transform(X_train)\n",
        "x_test_poly = poly_features.fit_transform(X_test)\n",
        "lg = LinearRegression()\n",
        "lg.fit(x_train_poly, Y_train)\n",
        "preds_train_poly = lg.predict(x_train_poly)\n",
        "preds_test_poly = lg.predict(x_test_poly)"
      ],
      "metadata": {
        "id": "Ml8gWFE8nVO7"
      },
      "execution_count": 609,
      "outputs": []
    },
    {
      "cell_type": "code",
      "source": [
        "print('MAE (train, test): ', mean_absolute_error(Y_train, preds_train_poly), mean_absolute_error(Y_test, preds_test_poly))\n",
        "print('RMSE (train, test): ', np.sqrt(mean_squared_error(Y_train, preds_train_poly)), np.sqrt(mean_squared_error(Y_test, preds_test_poly)))\n",
        "print('MSE (train, test): ', mean_squared_error(Y_train, preds_train_poly), mean_squared_error(Y_test, preds_test_poly))\n",
        "print('r2 en entrenamiento : ', r2_score(Y_train, preds_train_poly))\n",
        "print('r2 en test : ', r2_score(Y_test, preds_test_poly))"
      ],
      "metadata": {
        "id": "m0e1rGT7sFty",
        "colab": {
          "base_uri": "https://localhost:8080/"
        },
        "outputId": "b3a32118-6b2b-474b-9c85-690384122882"
      },
      "execution_count": 619,
      "outputs": [
        {
          "output_type": "stream",
          "name": "stdout",
          "text": [
            "MAE (train, test):  355.7930958369007 23732644026756.145\n",
            "RMSE (train, test):  475.65168980228054 158691551239746.9\n",
            "MSE (train, test):  226244.53001176493 2.5183008434877214e+28\n",
            "r2 en entrenamiento :  0.9391753632749581\n",
            "r2 en test :  -6.814397441299335e+21\n"
          ]
        }
      ]
    },
    {
      "cell_type": "markdown",
      "source": [
        "De acuerdo al resultado anterior observamos overfitting, ya que el error en test es bastante alto. A continuación usaremos regularización:"
      ],
      "metadata": {
        "id": "xPMDjEVkvCAn"
      }
    },
    {
      "cell_type": "code",
      "source": [
        "for model_degree in [2, 3, 4, 5, 6]:\n",
        "  print(\"Modelo de regresión polinomial grado: \", model_degree)\n",
        "  poly_features = PolynomialFeatures(degree=model_degree, include_bias=False)\n",
        "  for alpha in [0.1, 1, 10, 100, 1000, 2000, 5000]:\n",
        "    x_train_poly = poly_features.fit_transform(X_train)\n",
        "    x_test_poly = poly_features.fit_transform(X_test)\n",
        "    ridge_reg = Ridge(alpha=alpha, solver='cholesky')\n",
        "    ridge_reg.fit(x_train_poly, Y_train)\n",
        "    ridge_preds_train = ridge_reg.predict(x_train_poly)\n",
        "    ridge_preds_test = ridge_reg.predict(x_test_poly)\n",
        "    print(\"Desempeño en datos de test, alpha = \", alpha)\n",
        "    print('MAE: ', mean_absolute_error(Y_test, ridge_preds_test))\n",
        "    print('MSE: ', mean_squared_error(Y_test, ridge_preds_test))\n",
        "    print('r2 en test : ', r2_score(Y_test, ridge_preds_test))"
      ],
      "metadata": {
        "id": "1tqBmI3smLjj",
        "colab": {
          "base_uri": "https://localhost:8080/"
        },
        "outputId": "1bcf002f-a582-444a-b797-7cb95efb38b4"
      },
      "execution_count": 611,
      "outputs": [
        {
          "output_type": "stream",
          "name": "stdout",
          "text": [
            "Modelo de regresión polinomial grado:  2\n",
            "Desempeño en datos de test, alpha =  0.1\n",
            "MAE:  602.864233742649\n",
            "MSE:  1255695.2586883632\n",
            "r2 en test :  0.6602150779568123\n",
            "Desempeño en datos de test, alpha =  1\n",
            "MAE:  584.4055395428952\n",
            "MSE:  1020921.5737990505\n",
            "r2 en test :  0.7237436750952881\n",
            "Desempeño en datos de test, alpha =  10\n",
            "MAE:  523.8338689457623\n",
            "MSE:  535914.7267966972\n",
            "r2 en test :  0.8549841273936002\n",
            "Desempeño en datos de test, alpha =  100\n",
            "MAE:  527.2419186774589\n",
            "MSE:  494055.0907587356\n",
            "r2 en test :  0.8663111377247309\n",
            "Desempeño en datos de test, alpha =  1000\n",
            "MAE:  852.1960136580941\n",
            "MSE:  1058465.9452528711\n",
            "r2 en test :  0.7135843540025875\n",
            "Desempeño en datos de test, alpha =  2000\n",
            "MAE:  980.9133937836864\n",
            "MSE:  1388928.7847378247\n",
            "r2 en test :  0.6241627452359397\n",
            "Desempeño en datos de test, alpha =  5000\n",
            "MAE:  1151.2337576063971\n",
            "MSE:  1905662.567434889\n",
            "r2 en test :  0.48433714116843374\n",
            "Modelo de regresión polinomial grado:  3\n",
            "Desempeño en datos de test, alpha =  0.1\n",
            "MAE:  1834.9377258581872\n",
            "MSE:  10318179.982677512\n",
            "r2 en test :  -1.7920484343500749\n",
            "Desempeño en datos de test, alpha =  1\n",
            "MAE:  1186.312664584763\n",
            "MSE:  3388521.2565190285\n",
            "r2 en test :  0.08308291918640809\n",
            "Desempeño en datos de test, alpha =  10\n",
            "MAE:  746.7872401666365\n",
            "MSE:  1233144.4801682748\n",
            "r2 en test :  0.66631720701117\n",
            "Desempeño en datos de test, alpha =  100\n",
            "MAE:  522.9163824473172\n",
            "MSE:  567252.3472872875\n",
            "r2 en test :  0.8465043223917588\n",
            "Desempeño en datos de test, alpha =  1000\n",
            "MAE:  541.8162525085894\n",
            "MSE:  528937.7231841125\n",
            "r2 en test :  0.8568720700390741\n",
            "Desempeño en datos de test, alpha =  2000\n",
            "MAE:  564.7318185028444\n",
            "MSE:  564790.4221588721\n",
            "r2 en test :  0.847170507146417\n",
            "Desempeño en datos de test, alpha =  5000\n",
            "MAE:  630.6711383826394\n",
            "MSE:  670862.8813784\n",
            "r2 en test :  0.8184678246783124\n",
            "Modelo de regresión polinomial grado:  4\n",
            "Desempeño en datos de test, alpha =  0.1\n",
            "MAE:  1154.1005484865495\n",
            "MSE:  2887369.80755142\n",
            "r2 en test :  0.21869202087017126\n",
            "Desempeño en datos de test, alpha =  1\n",
            "MAE:  1089.9941964555926\n",
            "MSE:  2636352.807781261\n",
            "r2 en test :  0.2866159786204854\n",
            "Desempeño en datos de test, alpha =  10\n",
            "MAE:  914.252153836647\n",
            "MSE:  1957514.6592466698\n",
            "r2 en test :  0.47030622176172554\n",
            "Desempeño en datos de test, alpha =  100\n",
            "MAE:  735.5574280281841\n",
            "MSE:  1169401.8386441725\n",
            "r2 en test :  0.6835656503187586\n",
            "Desempeño en datos de test, alpha =  1000\n",
            "MAE:  587.1271164268821\n",
            "MSE:  742501.2259463725\n",
            "r2 en test :  0.7990828432061695\n",
            "Desempeño en datos de test, alpha =  2000\n",
            "MAE:  568.5587746635305\n",
            "MSE:  708160.0308947815\n",
            "r2 en test :  0.8083754006182786\n",
            "Desempeño en datos de test, alpha =  5000\n",
            "MAE:  570.0308012896536\n",
            "MSE:  703046.3952019752\n",
            "r2 en test :  0.8097591251272429\n",
            "Modelo de regresión polinomial grado:  5\n",
            "Desempeño en datos de test, alpha =  0.1\n",
            "MAE:  878.2806386019117\n",
            "MSE:  1479928.6725728146\n",
            "r2 en test :  0.5995386259840689\n",
            "Desempeño en datos de test, alpha =  1\n",
            "MAE:  875.7167335789517\n",
            "MSE:  1472725.6991410467\n",
            "r2 en test :  0.6014877149441953\n",
            "Desempeño en datos de test, alpha =  10\n",
            "MAE:  855.6464328977812\n",
            "MSE:  1427594.7350939452\n",
            "r2 en test :  0.613699930443437\n",
            "Desempeño en datos de test, alpha =  100\n",
            "MAE:  789.7906035681852\n",
            "MSE:  1291569.0568678197\n",
            "r2 en test :  0.650507805723793\n",
            "Desempeño en datos de test, alpha =  1000\n",
            "MAE:  659.1590178789415\n",
            "MSE:  950858.4331569043\n",
            "r2 en test :  0.7427024141814415\n",
            "Desempeño en datos de test, alpha =  2000\n",
            "MAE:  623.2266010366044\n",
            "MSE:  840705.2449416951\n",
            "r2 en test :  0.772509321718553\n",
            "Desempeño en datos de test, alpha =  5000\n",
            "MAE:  587.3041726254547\n",
            "MSE:  741788.940451721\n",
            "r2 en test :  0.7992755841356252\n",
            "Modelo de regresión polinomial grado:  6\n",
            "Desempeño en datos de test, alpha =  0.1\n",
            "MAE:  940.3752592504786\n",
            "MSE:  1858587.966456187\n",
            "r2 en test :  0.4970752952014993\n",
            "Desempeño en datos de test, alpha =  1\n",
            "MAE:  939.5717156524223\n",
            "MSE:  1856407.870098518\n",
            "r2 en test :  0.49766521848568135\n",
            "Desempeño en datos de test, alpha =  10\n",
            "MAE:  932.1743513400911\n",
            "MSE:  1836729.9571585956\n",
            "r2 en test :  0.5029899643330522\n",
            "Desempeño en datos de test, alpha =  100\n",
            "MAE:  889.0727174296898\n",
            "MSE:  1724059.7918518947\n",
            "r2 en test :  0.5334779534135554\n",
            "Desempeño en datos de test, alpha =  1000\n",
            "MAE:  800.0479555525525\n",
            "MSE:  1442336.3508638619\n",
            "r2 en test :  0.6097109221784827\n",
            "Desempeño en datos de test, alpha =  2000\n",
            "MAE:  767.9340724653927\n",
            "MSE:  1336626.1804821512\n",
            "r2 en test :  0.638315571080192\n",
            "Desempeño en datos de test, alpha =  5000\n",
            "MAE:  721.5122746621951\n",
            "MSE:  1179265.32948577\n",
            "r2 en test :  0.6808966385155392\n"
          ]
        }
      ]
    },
    {
      "cell_type": "markdown",
      "source": [
        "De acuerdo al resultado anterior observamos que a un mayor grado del polinomio el error en los datos de test es más alto, lo cual implica que el modelo se está sobreajustando a los datos de entrenamiento. Asimismo conforme aumentan los valores de $\\alpha$ (y menores a 2000) en la regularización *Ridge*, observamos que para polinomios de alto grado, las métricas de error disminuyen considerablemente, lo cual indica que la regularización ayuda con el problema de sobreajuste"
      ],
      "metadata": {
        "id": "XgFBVPv0wy4O"
      }
    },
    {
      "cell_type": "markdown",
      "source": [
        "## Evaluación de modelos\n",
        "Con base en el desempeño de cada uno de los modelos anteriormente desarrollados, concluya cual es el modelo que se le debe presentar al cliente y exponga sus razones."
      ],
      "metadata": {
        "id": "Zk3-qjMslbaI"
      }
    },
    {
      "cell_type": "markdown",
      "source": [
        "De acuerdo a los resultados dados en el punto anterior, observamos que con un polinomio de segundo grado y $\\alpha$ con valor de 100, obtenemos un MAE de 527.24 y $r^2$ de 0.866 el cual es el mejor modelo de regresión polinomial y con respecto a regresión lineal obtenemos un MAE de 498.57 y $r^2$ de 0.87 para datos de test, lo cual muestra que es el mejor modelo obtenido. Dadas las métricas de error y teniendo en cuenta que el modelo de regresión lineal es menos complejo, se escogerá este modelo para presentar al cliente. Asimismo, con respecto a las variables nuevas añadidas de casual_avg y registered_avg"
      ],
      "metadata": {
        "id": "IA-jBcCyw7Dz"
      }
    },
    {
      "cell_type": "markdown",
      "source": [
        "## Interpretación \n",
        "El día de la presentación del modelo ante el cliente una persona de la alcaldía le hace las siguientes preguntas: \n",
        "* ¿Cuáles son las 3 variables más importantes para la predicción de la cantidad de usuarios?\n",
        "* Describa cual es el escenario ideal para el incremento de usuarios\n",
        "* ¿Qué pasos adicionales deberían tener en cuenta para una próxima iteración/mejora del modelo? \n",
        "\n",
        "Ayuda\n",
        "*\tAl consultar a un meteorólogo el cual nos sugiere agrupar las precipitaciones en un grupo, la neblina en otro grupo y el resto en otro. \n",
        "* Es de interés particular el comportamiento de los usuarios durante la semana.\n",
        "* Realice imputación y corrección de variables según el sentido común y la lógica del dataset.\n"
      ],
      "metadata": {
        "id": "3QM6XsbHlfHw"
      }
    },
    {
      "cell_type": "code",
      "source": [
        "coeff_df = pd.DataFrame()\n",
        "coeff_df['features'] = X.columns\n",
        "coeff_df['coef'] = lin_reg.coef_\n",
        "coeff_df.sort_values(by='coef', key=abs, ascending=False)"
      ],
      "metadata": {
        "id": "rXQLGcEFjWsx",
        "colab": {
          "base_uri": "https://localhost:8080/",
          "height": 739
        },
        "outputId": "7169d8c9-1208-446c-f437-d6db5b5f802a"
      },
      "execution_count": 612,
      "outputs": [
        {
          "output_type": "execute_result",
          "data": {
            "text/plain": [
              "                                  features         coef\n",
              "5                           registered_avg  1407.765444\n",
              "1                                     Temp   215.204108\n",
              "4                               casual_avg   181.320789\n",
              "3                                     Wind  -176.985942\n",
              "20            weather__Rain + Thunderstorm  -146.197051\n",
              "2                                      Hum  -145.281848\n",
              "21                           weather__Snow  -142.860189\n",
              "16           weather__Mist + Broken clouds  -131.349129\n",
              "14  weather__Light Rain + Scattered clouds  -125.806818\n",
              "13                     weather__Few clouds   113.066937\n",
              "12                          weather__Clear    83.151537\n",
              "15                           weather__Mist   -76.244521\n",
              "10                          season__Summer    64.024479\n",
              "19                  weather__Partly cloudy    62.748686\n",
              "8                             season__Fall   -55.026786\n",
              "6                                 day_week    50.158152\n",
              "0                                  Holiday   -46.030109\n",
              "9                         season__Springer   -33.206116\n",
              "7                                    month   -32.368537\n",
              "18              weather__Mist + Few clouds   -23.518864\n",
              "11                          season__Winter    22.801962\n",
              "17                  weather__Mist + Cloudy    15.540534"
            ],
            "text/html": [
              "\n",
              "  <div id=\"df-04207271-aa84-49d5-b433-952c9207ead8\">\n",
              "    <div class=\"colab-df-container\">\n",
              "      <div>\n",
              "<style scoped>\n",
              "    .dataframe tbody tr th:only-of-type {\n",
              "        vertical-align: middle;\n",
              "    }\n",
              "\n",
              "    .dataframe tbody tr th {\n",
              "        vertical-align: top;\n",
              "    }\n",
              "\n",
              "    .dataframe thead th {\n",
              "        text-align: right;\n",
              "    }\n",
              "</style>\n",
              "<table border=\"1\" class=\"dataframe\">\n",
              "  <thead>\n",
              "    <tr style=\"text-align: right;\">\n",
              "      <th></th>\n",
              "      <th>features</th>\n",
              "      <th>coef</th>\n",
              "    </tr>\n",
              "  </thead>\n",
              "  <tbody>\n",
              "    <tr>\n",
              "      <th>5</th>\n",
              "      <td>registered_avg</td>\n",
              "      <td>1407.765444</td>\n",
              "    </tr>\n",
              "    <tr>\n",
              "      <th>1</th>\n",
              "      <td>Temp</td>\n",
              "      <td>215.204108</td>\n",
              "    </tr>\n",
              "    <tr>\n",
              "      <th>4</th>\n",
              "      <td>casual_avg</td>\n",
              "      <td>181.320789</td>\n",
              "    </tr>\n",
              "    <tr>\n",
              "      <th>3</th>\n",
              "      <td>Wind</td>\n",
              "      <td>-176.985942</td>\n",
              "    </tr>\n",
              "    <tr>\n",
              "      <th>20</th>\n",
              "      <td>weather__Rain + Thunderstorm</td>\n",
              "      <td>-146.197051</td>\n",
              "    </tr>\n",
              "    <tr>\n",
              "      <th>2</th>\n",
              "      <td>Hum</td>\n",
              "      <td>-145.281848</td>\n",
              "    </tr>\n",
              "    <tr>\n",
              "      <th>21</th>\n",
              "      <td>weather__Snow</td>\n",
              "      <td>-142.860189</td>\n",
              "    </tr>\n",
              "    <tr>\n",
              "      <th>16</th>\n",
              "      <td>weather__Mist + Broken clouds</td>\n",
              "      <td>-131.349129</td>\n",
              "    </tr>\n",
              "    <tr>\n",
              "      <th>14</th>\n",
              "      <td>weather__Light Rain + Scattered clouds</td>\n",
              "      <td>-125.806818</td>\n",
              "    </tr>\n",
              "    <tr>\n",
              "      <th>13</th>\n",
              "      <td>weather__Few clouds</td>\n",
              "      <td>113.066937</td>\n",
              "    </tr>\n",
              "    <tr>\n",
              "      <th>12</th>\n",
              "      <td>weather__Clear</td>\n",
              "      <td>83.151537</td>\n",
              "    </tr>\n",
              "    <tr>\n",
              "      <th>15</th>\n",
              "      <td>weather__Mist</td>\n",
              "      <td>-76.244521</td>\n",
              "    </tr>\n",
              "    <tr>\n",
              "      <th>10</th>\n",
              "      <td>season__Summer</td>\n",
              "      <td>64.024479</td>\n",
              "    </tr>\n",
              "    <tr>\n",
              "      <th>19</th>\n",
              "      <td>weather__Partly cloudy</td>\n",
              "      <td>62.748686</td>\n",
              "    </tr>\n",
              "    <tr>\n",
              "      <th>8</th>\n",
              "      <td>season__Fall</td>\n",
              "      <td>-55.026786</td>\n",
              "    </tr>\n",
              "    <tr>\n",
              "      <th>6</th>\n",
              "      <td>day_week</td>\n",
              "      <td>50.158152</td>\n",
              "    </tr>\n",
              "    <tr>\n",
              "      <th>0</th>\n",
              "      <td>Holiday</td>\n",
              "      <td>-46.030109</td>\n",
              "    </tr>\n",
              "    <tr>\n",
              "      <th>9</th>\n",
              "      <td>season__Springer</td>\n",
              "      <td>-33.206116</td>\n",
              "    </tr>\n",
              "    <tr>\n",
              "      <th>7</th>\n",
              "      <td>month</td>\n",
              "      <td>-32.368537</td>\n",
              "    </tr>\n",
              "    <tr>\n",
              "      <th>18</th>\n",
              "      <td>weather__Mist + Few clouds</td>\n",
              "      <td>-23.518864</td>\n",
              "    </tr>\n",
              "    <tr>\n",
              "      <th>11</th>\n",
              "      <td>season__Winter</td>\n",
              "      <td>22.801962</td>\n",
              "    </tr>\n",
              "    <tr>\n",
              "      <th>17</th>\n",
              "      <td>weather__Mist + Cloudy</td>\n",
              "      <td>15.540534</td>\n",
              "    </tr>\n",
              "  </tbody>\n",
              "</table>\n",
              "</div>\n",
              "      <button class=\"colab-df-convert\" onclick=\"convertToInteractive('df-04207271-aa84-49d5-b433-952c9207ead8')\"\n",
              "              title=\"Convert this dataframe to an interactive table.\"\n",
              "              style=\"display:none;\">\n",
              "        \n",
              "  <svg xmlns=\"http://www.w3.org/2000/svg\" height=\"24px\"viewBox=\"0 0 24 24\"\n",
              "       width=\"24px\">\n",
              "    <path d=\"M0 0h24v24H0V0z\" fill=\"none\"/>\n",
              "    <path d=\"M18.56 5.44l.94 2.06.94-2.06 2.06-.94-2.06-.94-.94-2.06-.94 2.06-2.06.94zm-11 1L8.5 8.5l.94-2.06 2.06-.94-2.06-.94L8.5 2.5l-.94 2.06-2.06.94zm10 10l.94 2.06.94-2.06 2.06-.94-2.06-.94-.94-2.06-.94 2.06-2.06.94z\"/><path d=\"M17.41 7.96l-1.37-1.37c-.4-.4-.92-.59-1.43-.59-.52 0-1.04.2-1.43.59L10.3 9.45l-7.72 7.72c-.78.78-.78 2.05 0 2.83L4 21.41c.39.39.9.59 1.41.59.51 0 1.02-.2 1.41-.59l7.78-7.78 2.81-2.81c.8-.78.8-2.07 0-2.86zM5.41 20L4 18.59l7.72-7.72 1.47 1.35L5.41 20z\"/>\n",
              "  </svg>\n",
              "      </button>\n",
              "      \n",
              "  <style>\n",
              "    .colab-df-container {\n",
              "      display:flex;\n",
              "      flex-wrap:wrap;\n",
              "      gap: 12px;\n",
              "    }\n",
              "\n",
              "    .colab-df-convert {\n",
              "      background-color: #E8F0FE;\n",
              "      border: none;\n",
              "      border-radius: 50%;\n",
              "      cursor: pointer;\n",
              "      display: none;\n",
              "      fill: #1967D2;\n",
              "      height: 32px;\n",
              "      padding: 0 0 0 0;\n",
              "      width: 32px;\n",
              "    }\n",
              "\n",
              "    .colab-df-convert:hover {\n",
              "      background-color: #E2EBFA;\n",
              "      box-shadow: 0px 1px 2px rgba(60, 64, 67, 0.3), 0px 1px 3px 1px rgba(60, 64, 67, 0.15);\n",
              "      fill: #174EA6;\n",
              "    }\n",
              "\n",
              "    [theme=dark] .colab-df-convert {\n",
              "      background-color: #3B4455;\n",
              "      fill: #D2E3FC;\n",
              "    }\n",
              "\n",
              "    [theme=dark] .colab-df-convert:hover {\n",
              "      background-color: #434B5C;\n",
              "      box-shadow: 0px 1px 3px 1px rgba(0, 0, 0, 0.15);\n",
              "      filter: drop-shadow(0px 1px 2px rgba(0, 0, 0, 0.3));\n",
              "      fill: #FFFFFF;\n",
              "    }\n",
              "  </style>\n",
              "\n",
              "      <script>\n",
              "        const buttonEl =\n",
              "          document.querySelector('#df-04207271-aa84-49d5-b433-952c9207ead8 button.colab-df-convert');\n",
              "        buttonEl.style.display =\n",
              "          google.colab.kernel.accessAllowed ? 'block' : 'none';\n",
              "\n",
              "        async function convertToInteractive(key) {\n",
              "          const element = document.querySelector('#df-04207271-aa84-49d5-b433-952c9207ead8');\n",
              "          const dataTable =\n",
              "            await google.colab.kernel.invokeFunction('convertToInteractive',\n",
              "                                                     [key], {});\n",
              "          if (!dataTable) return;\n",
              "\n",
              "          const docLinkHtml = 'Like what you see? Visit the ' +\n",
              "            '<a target=\"_blank\" href=https://colab.research.google.com/notebooks/data_table.ipynb>data table notebook</a>'\n",
              "            + ' to learn more about interactive tables.';\n",
              "          element.innerHTML = '';\n",
              "          dataTable['output_type'] = 'display_data';\n",
              "          await google.colab.output.renderOutput(dataTable, element);\n",
              "          const docLink = document.createElement('div');\n",
              "          docLink.innerHTML = docLinkHtml;\n",
              "          element.appendChild(docLink);\n",
              "        }\n",
              "      </script>\n",
              "    </div>\n",
              "  </div>\n",
              "  "
            ]
          },
          "metadata": {},
          "execution_count": 612
        }
      ]
    },
    {
      "cell_type": "code",
      "source": [
        "lin_reg.intercept_"
      ],
      "metadata": {
        "id": "Ccc9bpO0i7mF",
        "colab": {
          "base_uri": "https://localhost:8080/"
        },
        "outputId": "3df5feca-2943-413c-9b9a-eb602b6d8583"
      },
      "execution_count": 613,
      "outputs": [
        {
          "output_type": "execute_result",
          "data": {
            "text/plain": [
              "4595.313356164384"
            ]
          },
          "metadata": {},
          "execution_count": 613
        }
      ]
    },
    {
      "cell_type": "markdown",
      "source": [
        "De acuerdo a lo anterior observamos que las tres variables más importantes para la predicción de la cantidad de usuarios de acuerdo a los pesos de los coeficientes son:\n",
        "* `registered_avg` con un peso de 1407.7, esta es una variable adicional que se calculó con el promedio móvil de los 5 días anteriores.\n",
        "* `Temp`  con un peso de 215.20.\n",
        "* `casual_avg` con un peso de 181.32, al igual que la primera variable, se calculó con el promedio móvil de los 5 días anteriores."
      ],
      "metadata": {
        "id": "79oDOvwsnrJO"
      }
    },
    {
      "cell_type": "markdown",
      "source": [
        "Describa cual es el escenario ideal para el incremento de usuarios"
      ],
      "metadata": {
        "id": "_LAgVm9TfE6H"
      }
    },
    {
      "cell_type": "code",
      "source": [
        "data_df['Weather'].unique()"
      ],
      "metadata": {
        "colab": {
          "base_uri": "https://localhost:8080/"
        },
        "id": "YspKqerLhh5K",
        "outputId": "7e4f9d58-534a-45c1-f16e-daf8b68175d9"
      },
      "execution_count": 614,
      "outputs": [
        {
          "output_type": "execute_result",
          "data": {
            "text/plain": [
              "array(['Mist + Cloudy', 'Few clouds', 'Partly cloudy', 'Clear', 'Mist',\n",
              "       'Mist + Broken clouds', 'Mist + Few clouds', 'Rain + Thunderstorm',\n",
              "       'Light Rain + Scattered clouds', 'Snow'], dtype=object)"
            ]
          },
          "metadata": {},
          "execution_count": 614
        }
      ]
    },
    {
      "cell_type": "code",
      "source": [
        "data_df['weather_group'] = np.where(data_df['Weather'].isin(['Rain + Thunderstorm', 'Light Rain + Scattered clouds', 'Snow']), 'precipitaciones', '')\n",
        "data_df['weather_group'] = np.where(data_df['Weather'].isin(['Mist + Cloudy', 'Mist', 'Mist + Broken clouds', 'Mist + Few clouds']), 'neblina', data_df['weather_group'])\n",
        "data_df.loc[data_df['weather_group'] == '', 'weather_group'] = 'general'"
      ],
      "metadata": {
        "id": "5mJ43qU0gzYv"
      },
      "execution_count": 615,
      "outputs": []
    },
    {
      "cell_type": "code",
      "source": [
        "data_df['weather_group'].unique()"
      ],
      "metadata": {
        "colab": {
          "base_uri": "https://localhost:8080/"
        },
        "id": "pkayPMsViStx",
        "outputId": "474b99bf-9d30-419e-fe6a-d386f67e426d"
      },
      "execution_count": 616,
      "outputs": [
        {
          "output_type": "execute_result",
          "data": {
            "text/plain": [
              "array(['neblina', 'general', 'precipitaciones'], dtype=object)"
            ]
          },
          "metadata": {},
          "execution_count": 616
        }
      ]
    },
    {
      "cell_type": "code",
      "source": [
        "fig, ax = plt.subplots(figsize=(24, 7))\n",
        "sns.barplot(data=data_df, x='weather_group', y='cnt', color='teal').set(title='Usuarios totales vs Weather')"
      ],
      "metadata": {
        "colab": {
          "base_uri": "https://localhost:8080/",
          "height": 476
        },
        "id": "jYu40zSgfFh2",
        "outputId": "fefe7705-9d74-4d2e-8443-0ecb0d6b0c49"
      },
      "execution_count": 617,
      "outputs": [
        {
          "output_type": "execute_result",
          "data": {
            "text/plain": [
              "[Text(0.5, 1.0, 'Usuarios totales vs Weather')]"
            ]
          },
          "metadata": {},
          "execution_count": 617
        },
        {
          "output_type": "display_data",
          "data": {
            "text/plain": [
              "<Figure size 1728x504 with 1 Axes>"
            ],
            "image/png": "[encoded data removed]"
          },
          "metadata": {
            "needs_background": "light"
          }
        }
      ]
    },
    {
      "cell_type": "markdown",
      "source": [
        "De acuerdo a la gráfica anterior, el escenario ideal donde tenemos gran afluencia de usuarios es cuando no tenemos precipitaciones, el grupo general agrupa clima despejado y parcialmente nublado donde tenemos la mayor afluencia de usuarios. Asimismo, cuando hay presencia de neblina la afluencia es menor pero está alrededor de los 4000 en total y cuando tenemos precipitaciones tenemos la menor afluencia de usuarios, al rededor de 2000 en total."
      ],
      "metadata": {
        "id": "ziDxY_YUjLnn"
      }
    },
    {
      "cell_type": "code",
      "source": [
        "fig, ax = plt.subplots(figsize=(24, 7))\n",
        "sns.barplot(data=data_df, x='day_week', y='cnt', color='gold').set(title='Usuarios totales vs day of week')"
      ],
      "metadata": {
        "colab": {
          "base_uri": "https://localhost:8080/",
          "height": 476
        },
        "id": "4qGqCxMod9gm",
        "outputId": "7dc2023e-b271-4622-8252-2111f5f08674"
      },
      "execution_count": 618,
      "outputs": [
        {
          "output_type": "execute_result",
          "data": {
            "text/plain": [
              "[Text(0.5, 1.0, 'Usuarios totales vs day of week')]"
            ]
          },
          "metadata": {},
          "execution_count": 618
        },
        {
          "output_type": "display_data",
          "data": {
            "text/plain": [
              "<Figure size 1728x504 with 1 Axes>"
            ],
            "image/png": "[encoded data removed]"
          },
          "metadata": {
            "needs_background": "light"
          }
        }
      ]
    },
    {
      "cell_type": "markdown",
      "source": [
        "Asimismo, en cuanto a dias de la semana, tenemos mayor afluencia los lunes, martes, miércoles y domingo."
      ],
      "metadata": {
        "id": "JTROXnxAeKfL"
      }
    },
    {
      "cell_type": "markdown",
      "source": [
        "¿Qué pasos adicionales deberían tener en cuenta para una próxima iteración/mejora del modelo? "
      ],
      "metadata": {
        "id": "sxXLqYZ2fY7T"
      }
    },
    {
      "cell_type": "markdown",
      "source": [
        "Como sugerencia para una próxima iteración, se recomienda recolectar datos del tiempo al que es tomado el dato, por ejemplo la hora, de tal manera que podamos analizar las horas en las que tenemos más usuarios. Esto nos permitiría mejorar temas de logística y predecir temas de picos de demanda de patinetas y cantidad de patinetas que deberían estar disponibles para suplir esta demanda. Asimismo, se propone continuar registrando el número de usuarios casuales y registrados cada día, ya que como vimos, al usar el promedio móvil de 5 días son de las variables más importantes en el modelo. En cuanto al modelo se propone explorar nuevas técnicas de regresión y modelos no lineales, por ejemplo una red neuronal."
      ],
      "metadata": {
        "id": "U7DOPmwdfZde"
      }
    }
  ]
}